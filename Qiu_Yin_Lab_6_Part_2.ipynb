{
 "cells": [
  {
   "cell_type": "code",
   "execution_count": 1,
   "metadata": {
    "id": "IDlU-kLCKDVZ"
   },
   "outputs": [],
   "source": [
    "NAME = \"Yin Qiu\""
   ]
  },
  {
   "cell_type": "markdown",
   "metadata": {
    "id": "kW9zL4V6KDVc"
   },
   "source": [
    "---"
   ]
  },
  {
   "cell_type": "markdown",
   "metadata": {
    "deletable": false,
    "editable": false,
    "id": "ECD5r2hFKDVd",
    "nbgrader": {
     "checksum": "9a0ec075584699a44c46933457b0a8ba",
     "grade": false,
     "grade_id": "cell-a910b376742d04c0",
     "locked": true,
     "schema_version": 1,
     "solution": false
    }
   },
   "source": [
    "# Lab 6: Skip Gram\n",
    "\n",
    "**Please read the following instructions very carefully**\n",
    "\n",
    "## Working on the assignment / FAQs\n",
    "- **Always use the seed/random_state as *42* wherever applicable** (This is to ensure repeatability in answers, across students and coding environments) \n",
    "- The type of question and the points they carry are indicated in each question cell\n",
    "- To avoid any ambiguity, each question also specifies what *value* must be set. Note that these are dummy values and not the answers\n",
    "- If an autograded question has multiple answers (due to differences in handling NaNs, zeros etc.), all answers will be considered.\n",
    "- You can delete the `raise NotImplementedError()`\n",
    "- **Submitting the assignment** : Download the '.ipynb' file from Colab and upload it to bcourses. Do not delete any outputs from cells before submitting.\n",
    "- That's about it. Happy coding!\n",
    "\n",
    "\n",
    "Available software:\n",
    " - Python's Gensim module: https://radimrehurek.com/gensim/ (install using pip)\n",
    " - Sklearn’s  TSNE module in case you use TSNE to reduce dimension (optional)\n",
    " - Python’s Matplotlib (optional)\n",
    "\n",
    "_Note: The most important hyper parameters of skip-gram/CBOW are vector size and windows size_\n"
   ]
  },
  {
   "cell_type": "code",
   "execution_count": 2,
   "metadata": {
    "colab": {
     "base_uri": "https://localhost:8080/"
    },
    "deletable": false,
    "editable": false,
    "id": "Vsocwry-KDVe",
    "nbgrader": {
     "checksum": "a09a0bf3042da711c4bf843e9b4a4189",
     "grade": false,
     "grade_id": "cell-bf780e597c0216c8",
     "locked": true,
     "schema_version": 1,
     "solution": false
    },
    "outputId": "56f879b0-c689-4503-822e-ef43df19597e"
   },
   "outputs": [
    {
     "name": "stdout",
     "output_type": "stream",
     "text": [
      "Requirement already satisfied: gensim in /usr/local/lib/python3.6/dist-packages (3.6.0)\n",
      "Requirement already satisfied: numpy>=1.11.3 in /usr/local/lib/python3.6/dist-packages (from gensim) (1.18.5)\n",
      "Requirement already satisfied: scipy>=0.18.1 in /usr/local/lib/python3.6/dist-packages (from gensim) (1.4.1)\n",
      "Requirement already satisfied: smart-open>=1.2.1 in /usr/local/lib/python3.6/dist-packages (from gensim) (3.0.0)\n",
      "Requirement already satisfied: six>=1.5.0 in /usr/local/lib/python3.6/dist-packages (from gensim) (1.15.0)\n",
      "Requirement already satisfied: requests in /usr/local/lib/python3.6/dist-packages (from smart-open>=1.2.1->gensim) (2.23.0)\n",
      "Requirement already satisfied: certifi>=2017.4.17 in /usr/local/lib/python3.6/dist-packages (from requests->smart-open>=1.2.1->gensim) (2020.6.20)\n",
      "Requirement already satisfied: urllib3!=1.25.0,!=1.25.1,<1.26,>=1.21.1 in /usr/local/lib/python3.6/dist-packages (from requests->smart-open>=1.2.1->gensim) (1.24.3)\n",
      "Requirement already satisfied: chardet<4,>=3.0.2 in /usr/local/lib/python3.6/dist-packages (from requests->smart-open>=1.2.1->gensim) (3.0.4)\n",
      "Requirement already satisfied: idna<3,>=2.5 in /usr/local/lib/python3.6/dist-packages (from requests->smart-open>=1.2.1->gensim) (2.10)\n",
      "File ‘GoogleNews-vectors-negative300.bin.gz’ already there; not retrieving.\n",
      "\n"
     ]
    }
   ],
   "source": [
    "!pip install gensim\n",
    "!wget -nc https://s3.amazonaws.com/dl4j-distribution/GoogleNews-vectors-negative300.bin.gz \n",
    "\n",
    "\n",
    "import pandas as pd\n",
    "import numpy as np \n",
    "import gensim\n",
    "\n"
   ]
  },
  {
   "cell_type": "markdown",
   "metadata": {
    "deletable": false,
    "editable": false,
    "id": "ZF74G9bDKDVh",
    "nbgrader": {
     "checksum": "47031c66b74746d23ccc5e8369446a4b",
     "grade": false,
     "grade_id": "cell-3f89500615a0096f",
     "locked": true,
     "schema_version": 1,
     "solution": false
    }
   },
   "source": [
    "### **Q1 (1 point)** \n",
    "Find the cosine similarity between the following word pairs\n",
    "\n",
    "- (France, England)\n",
    "- (smaller, bigger)\n",
    "- (England, London)\n",
    "- (France, Rocket)\n",
    "- (big, bigger)"
   ]
  },
  {
   "cell_type": "code",
   "execution_count": 3,
   "metadata": {
    "id": "AOrCcxCIAGrt"
   },
   "outputs": [],
   "source": [
    "from gensim.models import KeyedVectors\n",
    "\n",
    "model = KeyedVectors.load_word2vec_format('GoogleNews-vectors-negative300.bin.gz', binary=True)"
   ]
  },
  {
   "cell_type": "code",
   "execution_count": 4,
   "metadata": {
    "colab": {
     "base_uri": "https://localhost:8080/"
    },
    "id": "zEHazpC_ARBG",
    "outputId": "e74bddfd-0203-4283-d127-21bb9bb72026"
   },
   "outputs": [
    {
     "name": "stdout",
     "output_type": "stream",
     "text": [
      "[0.39804944, 0.7302272, 0.43992856, 0.07114174, 0.68423855]\n"
     ]
    },
    {
     "name": "stderr",
     "output_type": "stream",
     "text": [
      "/usr/local/lib/python3.6/dist-packages/gensim/matutils.py:737: FutureWarning: Conversion of the second argument of issubdtype from `int` to `np.signedinteger` is deprecated. In future, it will be treated as `np.int64 == np.dtype(int).type`.\n",
      "  if np.issubdtype(vec.dtype, np.int):\n"
     ]
    }
   ],
   "source": [
    "word_pairs = [('France', 'England'),\n",
    "              ('smaller', 'bigger'),\n",
    "              ('England', 'London'),\n",
    "              ('France', 'Rocket'),\n",
    "              ('big', 'bigger')]\n",
    "similarities = []\n",
    "for pair in word_pairs:\n",
    "  similarities.append(model.similarity(pair[0], pair[1]))\n",
    "print(similarities)"
   ]
  },
  {
   "cell_type": "code",
   "execution_count": 5,
   "metadata": {
    "deletable": false,
    "id": "SZD5ZaMvKDVk",
    "nbgrader": {
     "checksum": "4d52dda406c3d8cd5e37d29755f0fb12",
     "grade": false,
     "grade_id": "cell-fbbe575f8f5a6368",
     "locked": false,
     "schema_version": 1,
     "solution": true
    }
   },
   "outputs": [],
   "source": [
    "#Replace 0 with the code / value; Do not delete this cell\n",
    "similarity_pair1 = similarities[0]\n",
    "similarity_pair2 = similarities[1]\n",
    "similarity_pair3 = similarities[2]\n",
    "similarity_pair4 = similarities[3]\n",
    "similarity_pair5 = similarities[4]\n",
    "\n"
   ]
  },
  {
   "cell_type": "code",
   "execution_count": 6,
   "metadata": {
    "colab": {
     "base_uri": "https://localhost:8080/"
    },
    "deletable": false,
    "editable": false,
    "id": "tFUPLSK7KDVp",
    "nbgrader": {
     "checksum": "569aa8b664a41d901bf7b0a5e23e9930",
     "grade": true,
     "grade_id": "cell-929d59ed5d67f618",
     "locked": true,
     "points": 1,
     "schema_version": 1,
     "solution": false
    },
    "outputId": "e679532a-fc85-4c49-f0bc-f2b2a0766662"
   },
   "outputs": [
    {
     "name": "stdout",
     "output_type": "stream",
     "text": [
      "0.39804944 0.7302272 0.43992856 0.07114174 0.68423855\n"
     ]
    }
   ],
   "source": [
    "#This is an autograded cell, do not edit/delete\n",
    "print(similarity_pair1, similarity_pair2, similarity_pair3, similarity_pair4, similarity_pair5)"
   ]
  },
  {
   "cell_type": "markdown",
   "metadata": {
    "deletable": false,
    "editable": false,
    "id": "ZcqpWCjJKDVs",
    "nbgrader": {
     "checksum": "a7f270405ddf9ecbffde36e6c096b818",
     "grade": false,
     "grade_id": "cell-ccd6618b4fac3715",
     "locked": true,
     "schema_version": 1,
     "solution": false
    }
   },
   "source": [
    "### **Q2 (1 point)** \n",
    "Write an expression to extract the vector representations of the words: \n",
    "\n",
    "- France\n",
    "- England\n",
    "- smaller\n",
    "- bigger\n",
    "- rocket\n",
    "- big\n",
    "\n",
    "Get only the first 5 elements for each vector representation."
   ]
  },
  {
   "cell_type": "code",
   "execution_count": 7,
   "metadata": {
    "colab": {
     "base_uri": "https://localhost:8080/"
    },
    "id": "v2PuvGIHDFjK",
    "outputId": "1edb09cd-f6d7-46b9-85cf-1207a6f38c8a"
   },
   "outputs": [
    {
     "name": "stdout",
     "output_type": "stream",
     "text": [
      "[array([0.04858398, 0.07861328, 0.32421875, 0.03491211, 0.07714844],\n",
      "      dtype=float32), array([-0.19824219,  0.11523438,  0.0625    , -0.05834961,  0.2265625 ],\n",
      "      dtype=float32), array([-0.05004883,  0.03417969, -0.0703125 ,  0.17578125,  0.00689697],\n",
      "      dtype=float32), array([-0.06542969, -0.09521484, -0.06225586,  0.16210938,  0.01989746],\n",
      "      dtype=float32), array([-0.03198242,  0.27148438, -0.2890625 , -0.15429688,  0.16894531],\n",
      "      dtype=float32), array([ 0.11132812,  0.10595703, -0.07373047,  0.18847656,  0.07666016],\n",
      "      dtype=float32)]\n"
     ]
    },
    {
     "name": "stderr",
     "output_type": "stream",
     "text": [
      "/usr/local/lib/python3.6/dist-packages/ipykernel_launcher.py:1: DeprecationWarning: Call to deprecated `wv` (Attribute will be removed in 4.0.0, use self instead).\n",
      "  \"\"\"Entry point for launching an IPython kernel.\n"
     ]
    }
   ],
   "source": [
    "word_vectors = model.wv\n",
    "lst_words = ['France', 'England', 'smaller', 'bigger', 'rocket', 'big']\n",
    "wordrep_5 = []\n",
    "for word in lst_words:\n",
    "  wordrep_5.append(word_vectors[word][:5])\n",
    "print(wordrep_5)"
   ]
  },
  {
   "cell_type": "code",
   "execution_count": 8,
   "metadata": {
    "deletable": false,
    "id": "6pzKlLyjKDVt",
    "nbgrader": {
     "checksum": "6b3cecb268eb9440c446cd3de984b7f6",
     "grade": false,
     "grade_id": "cell-00f3d05abb28aa23",
     "locked": false,
     "schema_version": 1,
     "solution": true
    }
   },
   "outputs": [],
   "source": [
    "#Replace 0 with the code / value to get the first 5 elements of each vector; Do not delete this cell\n",
    "vector_1 = wordrep_5[0]\n",
    "vector_2 = wordrep_5[1]\n",
    "vector_3 = wordrep_5[2]\n",
    "vector_4 = wordrep_5[3]\n",
    "vector_5 = wordrep_5[4]\n",
    "vector_6 = wordrep_5[5]\n",
    "\n"
   ]
  },
  {
   "cell_type": "code",
   "execution_count": 9,
   "metadata": {
    "colab": {
     "base_uri": "https://localhost:8080/"
    },
    "deletable": false,
    "editable": false,
    "id": "Hkj2ROGTKDVv",
    "nbgrader": {
     "checksum": "401940f859774b3c1ec48338fa15682e",
     "grade": true,
     "grade_id": "cell-6f34229370fa873f",
     "locked": true,
     "points": 1,
     "schema_version": 1,
     "solution": false
    },
    "outputId": "4c885ddf-1f14-44a0-ac2f-e3e0d22a10af"
   },
   "outputs": [
    {
     "name": "stdout",
     "output_type": "stream",
     "text": [
      "[0.04858398 0.07861328 0.32421875 0.03491211 0.07714844]\n",
      "[-0.19824219  0.11523438  0.0625     -0.05834961  0.2265625 ]\n",
      "[-0.05004883  0.03417969 -0.0703125   0.17578125  0.00689697]\n",
      "[-0.06542969 -0.09521484 -0.06225586  0.16210938  0.01989746]\n",
      "[-0.03198242  0.27148438 -0.2890625  -0.15429688  0.16894531]\n",
      "[ 0.11132812  0.10595703 -0.07373047  0.18847656  0.07666016]\n"
     ]
    }
   ],
   "source": [
    "#This is an autograded cell, do not edit/delete\n",
    "print(vector_1)\n",
    "print(vector_2)\n",
    "print(vector_3)\n",
    "print(vector_4)\n",
    "print(vector_5)\n",
    "print(vector_6)\n"
   ]
  },
  {
   "cell_type": "markdown",
   "metadata": {
    "deletable": false,
    "editable": false,
    "id": "2UBnMwiXKDVy",
    "nbgrader": {
     "checksum": "ac8b42811c924e7988f17b9dbd3f71ef",
     "grade": false,
     "grade_id": "cell-4ad44071d3785409",
     "locked": true,
     "schema_version": 1,
     "solution": false
    }
   },
   "source": [
    "### **Q3 (1 point)** \n",
    "Find the euclidean distances between the word pairs : \n",
    "\n",
    "- (France, England)\n",
    "- (smaller, bigger)\n",
    "- (England, London)\n",
    "- (France, Rocket)\n",
    "- (big, bigger)\n"
   ]
  },
  {
   "cell_type": "code",
   "execution_count": 10,
   "metadata": {
    "colab": {
     "base_uri": "https://localhost:8080/"
    },
    "id": "3gax7IrOElQJ",
    "outputId": "56d03830-cbd7-49a2-c9c7-f76589153645"
   },
   "outputs": [
    {
     "name": "stdout",
     "output_type": "stream",
     "text": [
      "[3.0151067, 1.8618743, 2.8752837, 3.892071, 1.9586496]\n"
     ]
    }
   ],
   "source": [
    "def euclidean_dist(pair):\n",
    "  a = pair[0]\n",
    "  b = pair[1]\n",
    "  d = word_vectors[a] - word_vectors[b]\n",
    "  return np.linalg.norm(d)\n",
    "\n",
    "word_pairs = [('France', 'England'),\n",
    "              ('smaller', 'bigger'),\n",
    "              ('England', 'London'),\n",
    "              ('France', 'Rocket'),\n",
    "              ('big', 'bigger')]\n",
    "eu_dists = []\n",
    "for pair in word_pairs:\n",
    "  eu_dists.append(euclidean_dist(pair))\n",
    "\n",
    "print(eu_dists)\n"
   ]
  },
  {
   "cell_type": "code",
   "execution_count": 11,
   "metadata": {
    "deletable": false,
    "id": "zQGd-YVoKDV3",
    "nbgrader": {
     "checksum": "a771483fbb59086604eb84bcc7c7f0ad",
     "grade": false,
     "grade_id": "cell-3aba86afc0ebd8a8",
     "locked": false,
     "schema_version": 1,
     "solution": true
    }
   },
   "outputs": [],
   "source": [
    "#Replace 0 with the code / value; Do not delete this cell\n",
    "eu_dist1 = eu_dists[0]\n",
    "eu_dist2 = eu_dists[1]\n",
    "eu_dist3 = eu_dists[2]\n",
    "eu_dist4 = eu_dists[3]\n",
    "eu_dist5 = eu_dists[4]\n",
    "\n"
   ]
  },
  {
   "cell_type": "code",
   "execution_count": 12,
   "metadata": {
    "colab": {
     "base_uri": "https://localhost:8080/"
    },
    "deletable": false,
    "editable": false,
    "id": "HsSg0l2UKDV6",
    "nbgrader": {
     "checksum": "17796eb5de342e8f8e841aa137a2c41c",
     "grade": true,
     "grade_id": "cell-15ffa50b82de21ad",
     "locked": true,
     "points": 1,
     "schema_version": 1,
     "solution": false
    },
    "outputId": "eead123c-dbeb-4080-b075-30c8daf8c775"
   },
   "outputs": [
    {
     "name": "stdout",
     "output_type": "stream",
     "text": [
      "3.0151067\n",
      "1.8618743\n",
      "2.8752837\n",
      "3.892071\n",
      "1.9586496\n"
     ]
    }
   ],
   "source": [
    "#This is an autograded cell, do not edit / delete\n",
    "print(eu_dist1)\n",
    "print(eu_dist2)\n",
    "print(eu_dist3)\n",
    "print(eu_dist4)\n",
    "print(eu_dist5)\n"
   ]
  },
  {
   "cell_type": "markdown",
   "metadata": {
    "deletable": false,
    "editable": false,
    "id": "XvO2iU7QKDWA",
    "nbgrader": {
     "checksum": "afc0e843c7545e2df83448feda9f28f5",
     "grade": false,
     "grade_id": "cell-7cd8b9b67386376d",
     "locked": true,
     "schema_version": 1,
     "solution": false
    }
   },
   "source": [
    "### **Q4 (1 point)**\n",
    "Time to dabble with the power of Word2Vec. Find the 2 closest words  for the following conditions:  \n",
    "- (King - Man + Queen)\n",
    "- (bigger - big + small)\n",
    "- (man + programmer - woman)\n",
    "- (waiting - wait + run)\n",
    "- (Texas + Milwaukee – Wisconsin)"
   ]
  },
  {
   "cell_type": "code",
   "execution_count": 13,
   "metadata": {
    "colab": {
     "base_uri": "https://localhost:8080/"
    },
    "id": "heJg3QDgI-rQ",
    "outputId": "a9605c1e-5402-415e-f1d3-0c8f82e2e15e"
   },
   "outputs": [
    {
     "name": "stderr",
     "output_type": "stream",
     "text": [
      "/usr/local/lib/python3.6/dist-packages/gensim/matutils.py:737: FutureWarning: Conversion of the second argument of issubdtype from `int` to `np.signedinteger` is deprecated. In future, it will be treated as `np.int64 == np.dtype(int).type`.\n",
      "  if np.issubdtype(vec.dtype, np.int):\n"
     ]
    }
   ],
   "source": [
    "def mostsimilar2(positive, negative):\n",
    "  return model.most_similar(positive=positive, negative=negative, topn=2)\n",
    "\n",
    "closest1 = mostsimilar2(['King', 'Queen'], ['Man'])\n",
    "closest2 = mostsimilar2(['bigger', 'small'], ['big'])\n",
    "closest3 = mostsimilar2(['man', 'programmer'], ['woman'])\n",
    "closest4 = mostsimilar2(['waiting', 'run'], ['wait'])\n",
    "closest5 = mostsimilar2(['Texas', 'Milwaukee'], ['Wisconsin'])"
   ]
  },
  {
   "cell_type": "code",
   "execution_count": 14,
   "metadata": {
    "deletable": false,
    "id": "jCxWmA1eKDWB",
    "nbgrader": {
     "checksum": "50ef096feb166865434fe2fca3d41f99",
     "grade": false,
     "grade_id": "cell-b72201968c5fd1ec",
     "locked": false,
     "schema_version": 1,
     "solution": true
    }
   },
   "outputs": [],
   "source": [
    "#Replace 0 with the code / value; Do not delete this cell\n",
    "closest1 = closest1\n",
    "closest2 = closest2\n",
    "closest3 = closest3\n",
    "closest4 = closest4\n",
    "closest5 = closest5\n",
    "\n"
   ]
  },
  {
   "cell_type": "code",
   "execution_count": 15,
   "metadata": {
    "colab": {
     "base_uri": "https://localhost:8080/"
    },
    "deletable": false,
    "editable": false,
    "id": "io9elfD8KDWE",
    "nbgrader": {
     "checksum": "f9c5ff502264f29d2632c6387f92686a",
     "grade": true,
     "grade_id": "cell-b69718ab0e1470bc",
     "locked": true,
     "points": 1,
     "schema_version": 1,
     "solution": false
    },
    "outputId": "cc93994f-94ab-4e88-aec2-1db776ba0aba"
   },
   "outputs": [
    {
     "name": "stdout",
     "output_type": "stream",
     "text": [
      "[('Queen_Elizabeth', 0.5257916450500488), ('monarch', 0.5004087090492249)]\n",
      "[('larger', 0.7402471899986267), ('smaller', 0.732999324798584)]\n",
      "[('programer', 0.5371963977813721), ('programmers', 0.5310999155044556)]\n",
      "[('running', 0.5654535889625549), ('runs', 0.49640005826950073)]\n",
      "[('Houston', 0.7767744064331055), ('Fort_Worth', 0.7270511388778687)]\n"
     ]
    }
   ],
   "source": [
    "#This is an autograded cell, do not edit/delete\n",
    "print(closest1)\n",
    "print(closest2)\n",
    "print(closest3)\n",
    "print(closest4)\n",
    "print(closest5)\n"
   ]
  },
  {
   "cell_type": "markdown",
   "metadata": {
    "deletable": false,
    "editable": false,
    "id": "erUu4u71KDWJ",
    "nbgrader": {
     "checksum": "6432058d78f4fa52224c48a3b3e71d0d",
     "grade": false,
     "grade_id": "cell-73dca0e2072fef91",
     "locked": true,
     "schema_version": 1,
     "solution": false
    }
   },
   "source": [
    "### **Q5 (3 points)**\n",
    "Using the vectors for the words in the Google News dataset, explore the semantic representation of these words through K-means clustering and explain your findings.\n",
    "\n",
    "*Note : Since there are ~3Mil words in the vocabulary, you can downsample it to ~20-30k randomly selected words*\n",
    "\n",
    "**Do not delete the below cell**"
   ]
  },
  {
   "cell_type": "code",
   "execution_count": 16,
   "metadata": {
    "deletable": false,
    "id": "M3jN02fOKDWK",
    "nbgrader": {
     "checksum": "7ecef46689f11d4d0a6fed72e049235f",
     "grade": true,
     "grade_id": "cell-80b177848b8b0212",
     "locked": false,
     "points": 3,
     "schema_version": 1,
     "solution": true
    }
   },
   "outputs": [],
   "source": [
    "from sklearn.cluster import KMeans\n",
    "from sklearn.metrics import silhouette_score"
   ]
  },
  {
   "cell_type": "code",
   "execution_count": 17,
   "metadata": {
    "colab": {
     "base_uri": "https://localhost:8080/"
    },
    "id": "GlWa0TmaQDY-",
    "outputId": "aa564f46-557e-4546-b742-96af2e8a6e51"
   },
   "outputs": [
    {
     "data": {
      "text/plain": [
       "(30000,)"
      ]
     },
     "execution_count": 17,
     "metadata": {
      "tags": []
     },
     "output_type": "execute_result"
    }
   ],
   "source": [
    "# parse the words to a list, and randomly select 30k of them for clustering\n",
    "keys = word_vectors.index2entity\n",
    "keys = np.random.choice(a=keys, size=30000, replace=False) # randomly select 30000 unique words from the 3 mil words\n",
    "keys.shape"
   ]
  },
  {
   "cell_type": "code",
   "execution_count": 18,
   "metadata": {
    "colab": {
     "base_uri": "https://localhost:8080/"
    },
    "id": "P_gTCdrmVwQY",
    "outputId": "74f96f14-2911-4972-caae-2f2508588175"
   },
   "outputs": [
    {
     "name": "stdout",
     "output_type": "stream",
     "text": [
      "2\n"
     ]
    }
   ],
   "source": [
    "# use the downsized word vectors to train the kmeans model\n",
    "new_wv = word_vectors[keys]\n",
    "\n",
    "# iterate from 2 to 10 to find best k\n",
    "K = range(2,11)\n",
    "scores = []\n",
    "for k in K:\n",
    "  kmeans = KMeans(n_clusters=k, random_state=42)\n",
    "  kmeans.fit(new_wv)\n",
    "  score = silhouette_score(new_wv, kmeans.labels_) # use silhouette score as metric, higher the better\n",
    "  scores.append(score)\n",
    "\n",
    "max_index = scores.index(max(scores))\n",
    "best_k = max_index+2\n",
    "print(best_k)"
   ]
  },
  {
   "cell_type": "code",
   "execution_count": 19,
   "metadata": {
    "colab": {
     "base_uri": "https://localhost:8080/"
    },
    "id": "RwMFYmnRWNwG",
    "outputId": "b07d90b5-9899-479b-dd2e-df4439ba029f"
   },
   "outputs": [
    {
     "data": {
      "text/plain": [
       "(2, 300)"
      ]
     },
     "execution_count": 19,
     "metadata": {
      "tags": []
     },
     "output_type": "execute_result"
    }
   ],
   "source": [
    "# run the kmeans again with the best k of 2\n",
    "kmeans_best = KMeans(n_clusters=best_k, random_state=42)\n",
    "kmeans_best.fit(new_wv)\n",
    "labels = kmeans_best.labels_\n",
    "centers = kmeans_best.cluster_centers_\n",
    "centers.shape"
   ]
  },
  {
   "cell_type": "code",
   "execution_count": 20,
   "metadata": {
    "colab": {
     "base_uri": "https://localhost:8080/"
    },
    "deletable": false,
    "id": "SyOASYXOKDWS",
    "nbgrader": {
     "checksum": "774aef2c5bf8ef9d92e3489d1cd80390",
     "grade": true,
     "grade_id": "cell-90cc4b2c0ae8e2c2",
     "locked": false,
     "points": 1,
     "schema_version": 1,
     "solution": true
    },
    "outputId": "0457e530-3746-4066-f0a8-6ce61201de03"
   },
   "outputs": [
    {
     "data": {
      "text/plain": [
       "0.22099033"
      ]
     },
     "execution_count": 20,
     "metadata": {
      "tags": []
     },
     "output_type": "execute_result"
    }
   ],
   "source": [
    "# silhouette score\n",
    "silhouette_score(new_wv, kmeans_best.labels_)"
   ]
  },
  {
   "cell_type": "markdown",
   "metadata": {
    "id": "E5hmbYuXFTqg"
   },
   "source": [
    "**The silhouette score is supposed to be in -1 to 1. The larger the better. The score for kmeans model when k=2 is only 0.22, which tell us the ratio of intra-cluster distances to inter-cluster distances is about 1/5. It's not very good but still acceptable.**"
   ]
  },
  {
   "cell_type": "code",
   "execution_count": 21,
   "metadata": {
    "colab": {
     "base_uri": "https://localhost:8080/"
    },
    "id": "UhHP9W6YdQUt",
    "outputId": "4a65ced4-86c5-4433-aea0-7d6c56ca7e2a"
   },
   "outputs": [
    {
     "name": "stdout",
     "output_type": "stream",
     "text": [
      "{0: 6535, 1: 23465}\n"
     ]
    }
   ],
   "source": [
    "# number of words assigned to each cluster\n",
    "(cluster, counts) = np.unique(kmeans_best.labels_, return_counts=True)\n",
    "print(dict(zip(cluster, counts)))"
   ]
  },
  {
   "cell_type": "markdown",
   "metadata": {
    "id": "WZOd_DSsDwTj"
   },
   "source": [
    "**It appears the majority of words were assigned to cluster 2. For such a big data set and a very small k=2, the imbalanced assignment to cluters may tell us this clustering is not very meaningful. We will check further below.**"
   ]
  },
  {
   "cell_type": "code",
   "execution_count": 22,
   "metadata": {
    "colab": {
     "base_uri": "https://localhost:8080/"
    },
    "id": "wFOSB42ueATz",
    "outputId": "3826ef40-d361-4b27-fc00-603e883609f4"
   },
   "outputs": [
    {
     "name": "stderr",
     "output_type": "stream",
     "text": [
      "/usr/local/lib/python3.6/dist-packages/gensim/matutils.py:737: FutureWarning: Conversion of the second argument of issubdtype from `int` to `np.signedinteger` is deprecated. In future, it will be treated as `np.int64 == np.dtype(int).type`.\n",
      "  if np.issubdtype(vec.dtype, np.int):\n"
     ]
    },
    {
     "name": "stdout",
     "output_type": "stream",
     "text": [
      "('Emil_Protalinski_Published', 0.921833872795105)\n",
      "('BY_GEOFF_KOHL', 0.9181613922119141)\n",
      "('By_HuDie_####-##-##', 0.9180119037628174)\n",
      "('By_QianMian_####-##-##', 0.9176564812660217)\n",
      "('By_XiaoBing_####-##-##', 0.9153998494148254)\n",
      "('BY_DANNY_GALLAGHER', 0.9119837880134583)\n",
      "('STACY_LEE', 0.9116851687431335)\n",
      "('By_Riva_Froymovich', 0.9110938310623169)\n",
      "('FOOD_OOH_IT', 0.9097460508346558)\n",
      "('REYNOLDS_GALLERY', 0.9086400270462036)\n",
      "\n",
      "\n",
      "('http_dol##.net_index###.html_http', 0.919137179851532)\n",
      "('dol##.net_index####.html_http_dol##.net', 0.9089906215667725)\n",
      "('index###.html_http_dol##.net_index###.html', 0.9079704880714417)\n",
      "('Deltagen_undertakes', 0.9057775735855103)\n",
      "('By_TRICIA_SCRUGGS', 0.9044997692108154)\n",
      "('BY_STEFANIE_WHITE', 0.9023382663726807)\n",
      "('SIX_ROG_VX', 0.8988419771194458)\n",
      "('http_dol##.net_index####.html_http', 0.8984336853027344)\n",
      "('PRESCRIPTION_DRUGS_Gradually', 0.8980013132095337)\n",
      "('under_CorMedix_collaborations', 0.8979905247688293)\n"
     ]
    }
   ],
   "source": [
    "# find the 10 most similar words by vector to centroids in cluster 1 and cluster 2\n",
    "close_clu1 = model.similar_by_vector(vector=centers[0], topn=10)\n",
    "close_clu2 = model.similar_by_vector(vector=centers[1], topn=10)\n",
    "\n",
    "# print the 10 similar words in each cluster and respective cosine similarity\n",
    "for word in close_clu1:\n",
    "  print(word)\n",
    "print('\\n')\n",
    "for word in close_clu2:\n",
    "  print(word)"
   ]
  },
  {
   "cell_type": "markdown",
   "metadata": {
    "id": "H2N_q5rbWMrn"
   },
   "source": [
    "**I found the best k for k-means clustering is 2, using silhouette score. With each of the 2 clusters, I printed the the 10 most similar vectors to the centroid. There is no clear pattern to me in each cluster. I can hypothetically think that the words in the first cluster are relevant to http address and corporate name, and the words in the second cluster are relevant to personal signature and publication series code. However, this is just a hypothesis and needs to be confirmed with further exploration.**"
   ]
  },
  {
   "cell_type": "markdown",
   "metadata": {
    "deletable": false,
    "editable": false,
    "id": "rmdtLoHkKDWR",
    "nbgrader": {
     "checksum": "0467b27a0f59504cbb62b851a002386f",
     "grade": false,
     "grade_id": "cell-5b2a5e8ff6c74323",
     "locked": true,
     "schema_version": 1,
     "solution": false
    }
   },
   "source": [
    "### **Q6 (1 point)**\n",
    "What loss function does the skipgram model use and briefly describe what this function is minimizing.\n",
    "\n",
    "**Do not delete the below cell**"
   ]
  },
  {
   "cell_type": "markdown",
   "metadata": {
    "id": "IMWPJR8IGaH8"
   },
   "source": [
    "**The loss function for skip-gram algorithm is corss entropy， which is used to measure the negative sum of the predicted probability distribution of the output of softmax. When the output of softmax y_j is close to 1 then log(y_j) in C is close to 0; when y_j is less than 1, -log(y_j) will be larger than 1, making the loss function C larger. We would like to minimize the divergence of predicted probability distribution, so that it will be close to the \"target\" probability distribution (t_j), where the correct class is 1 and everything else is 0. We have t_j times the log(y_j) to keep only the correct class. So minimizing C towards 0 means we have higher predicted probability to the correct output words.**"
   ]
  },
  {
   "cell_type": "markdown",
   "metadata": {
    "deletable": false,
    "editable": false,
    "id": "dbpuJx9CKDWV",
    "nbgrader": {
     "checksum": "c14f6069f64cc86ab6e384d28df270d8",
     "grade": false,
     "grade_id": "cell-74a177caaabb5009",
     "locked": true,
     "schema_version": 1,
     "solution": false
    }
   },
   "source": [
    "### **Bonus Question (1 point)** \n",
    "Find at least 2 interesting word vec combinations like the ones given in Q4\n",
    "\n",
    "**Do not delete the below cell**"
   ]
  },
  {
   "cell_type": "code",
   "execution_count": 23,
   "metadata": {
    "colab": {
     "base_uri": "https://localhost:8080/"
    },
    "deletable": false,
    "id": "pQM8C_T7KDWW",
    "nbgrader": {
     "checksum": "c2d42b5327f4b020c7e1706506dd5ce9",
     "grade": true,
     "grade_id": "cell-7351297993d72e83",
     "locked": false,
     "points": 1,
     "schema_version": 1,
     "solution": true
    },
    "outputId": "5eb43eab-d36f-4e6b-b4d0-443f458074fa"
   },
   "outputs": [
    {
     "name": "stderr",
     "output_type": "stream",
     "text": [
      "/usr/local/lib/python3.6/dist-packages/gensim/matutils.py:737: FutureWarning: Conversion of the second argument of issubdtype from `int` to `np.signedinteger` is deprecated. In future, it will be treated as `np.int64 == np.dtype(int).type`.\n",
      "  if np.issubdtype(vec.dtype, np.int):\n"
     ]
    },
    {
     "name": "stdout",
     "output_type": "stream",
     "text": [
      "[('sheer_joy', 0.5615313053131104), ('delight', 0.5426716208457947)]\n"
     ]
    }
   ],
   "source": [
    "funwordpair1 = mostsimilar2(['happy','joy'], ['sad'])\n",
    "print(funwordpair1)"
   ]
  },
  {
   "cell_type": "code",
   "execution_count": 24,
   "metadata": {
    "colab": {
     "base_uri": "https://localhost:8080/"
    },
    "id": "X2bPu1AqQPkd",
    "outputId": "bd51c554-852c-4722-d2cc-34f8c5d10005"
   },
   "outputs": [
    {
     "name": "stderr",
     "output_type": "stream",
     "text": [
      "/usr/local/lib/python3.6/dist-packages/gensim/matutils.py:737: FutureWarning: Conversion of the second argument of issubdtype from `int` to `np.signedinteger` is deprecated. In future, it will be treated as `np.int64 == np.dtype(int).type`.\n",
      "  if np.issubdtype(vec.dtype, np.int):\n"
     ]
    },
    {
     "name": "stdout",
     "output_type": "stream",
     "text": [
      "[('Southern_California', 0.600623369216919), ('Los_Angeles', 0.5748981237411499)]\n"
     ]
    }
   ],
   "source": [
    "funwordpair2 = mostsimilar2(['California', 'Hollywood'], ['tech'])\n",
    "print(funwordpair2)"
   ]
  },
  {
   "cell_type": "markdown",
   "metadata": {
    "id": "2WRqcueXAq9h"
   },
   "source": [
    "#**Lab 6 Part 2**\n",
    "1. Generate embeddings from the corpus you have chosen"
   ]
  },
  {
   "cell_type": "code",
   "execution_count": 25,
   "metadata": {
    "colab": {
     "base_uri": "https://localhost:8080/"
    },
    "id": "WjgP4NlhApUa",
    "outputId": "ea10e941-8dd9-41d8-e3f9-37fbe3726d21"
   },
   "outputs": [
    {
     "name": "stdout",
     "output_type": "stream",
     "text": [
      "[nltk_data] Downloading package punkt to /root/nltk_data...\n",
      "[nltk_data]   Package punkt is already up-to-date!\n"
     ]
    },
    {
     "data": {
      "text/plain": [
       "True"
      ]
     },
     "execution_count": 25,
     "metadata": {
      "tags": []
     },
     "output_type": "execute_result"
    }
   ],
   "source": [
    "import nltk\n",
    "from nltk import word_tokenize, tokenize\n",
    "nltk.download('punkt')"
   ]
  },
  {
   "cell_type": "code",
   "execution_count": 26,
   "metadata": {
    "id": "jLwBh-u_DSw9"
   },
   "outputs": [],
   "source": [
    "# Preprocessing data: The Project Gutenberg EBook of Alice’s Adventures in Wonderland, by Lewis Carroll\n",
    "from urllib.request import urlopen\n",
    "url = \"https://www.gutenberg.org/files/11/11-0.txt\"\n",
    "response = urlopen(url)\n",
    "raw = response.read().decode('utf8')"
   ]
  },
  {
   "cell_type": "code",
   "execution_count": 27,
   "metadata": {
    "id": "a3cCb7dEEngr"
   },
   "outputs": [],
   "source": [
    "# regexp tokenize\n",
    "pattern = r'''(?x)  # set flag to allow verbose regexps\n",
    "(?:[A-Z]\\.)+        # abbreviations, e.g. U.S.A.\n",
    "|\\w+(?:[-']\\w+)*    # words with optional internal hyphens\n",
    "|\\$?\\d+(?:\\.\\d+)?   # currency, e.g. $12.80 \n",
    "|\\.\\.\\.             # elipses\n",
    "|[.,;\"'?()-_`]      # these are separate tokens\n",
    "'''\n",
    "tokenized_raw = \" \".join(nltk.regexp_tokenize(raw, pattern))\n",
    "tokenized_raw = tokenize.sent_tokenize(tokenized_raw)"
   ]
  },
  {
   "cell_type": "code",
   "execution_count": 28,
   "metadata": {
    "colab": {
     "base_uri": "https://localhost:8080/"
    },
    "id": "C91HPRcpEyrk",
    "outputId": "2b95d6a2-114b-4d65-f351-91613adf1aca"
   },
   "outputs": [
    {
     "data": {
      "text/plain": [
       "['The Project Gutenberg EBook of Alice s Adventures in Wonderland , by Lewis Carroll This eBook is for the use of anyone anywhere in the United States and most other parts of the world at no cost and with almost no restrictions whatsoever .',\n",
       " 'You may copy it , give it away or re-use it under the terms of the Project Gutenberg License included with this eBook or online at www .',\n",
       " 'gutenberg .',\n",
       " 'org .',\n",
       " \"If you are not located in the United States , you'll have to check the laws of the country where you are located before using this ebook .\",\n",
       " 'Title : Alice s Adventures in Wonderland Author : Lewis Carroll Release Date : June 25 , 2008 [ EBook 11 ] [ Most recently updated : October 12 , 2020 ] Language : English Character set encoding : UTF-8 * * * START OF THIS PROJECT GUTENBERG EBOOK ALICE S ADVENTURES IN WONDERLAND * * * Produced by Arthur DiBianca and David Widger [ Illustration ] Alice s Adventures in Wonderland by Lewis Carroll THE MILLENNIUM FULCRUM EDITION 3 .',\n",
       " '0 Contents CHAPTER I.',\n",
       " 'Down the Rabbit-Hole CHAPTER II .',\n",
       " 'The Pool of Tears CHAPTER III .',\n",
       " 'A Caucus-Race and a Long Tale CHAPTER IV .']"
      ]
     },
     "execution_count": 28,
     "metadata": {
      "tags": []
     },
     "output_type": "execute_result"
    }
   ],
   "source": [
    "tokenized_raw[:10]"
   ]
  },
  {
   "cell_type": "code",
   "execution_count": 29,
   "metadata": {
    "id": "p2u5Tmq6FNBL"
   },
   "outputs": [],
   "source": [
    "# normalize the text\n",
    "# remove punctuations\n",
    "import string\n",
    "nopunct = []\n",
    "for sent in tokenized_raw:\n",
    "  _ = [w for w in sent.split() if w not in string.punctuation]\n",
    "  nopunct.append(\" \".join(_))"
   ]
  },
  {
   "cell_type": "code",
   "execution_count": 30,
   "metadata": {
    "colab": {
     "base_uri": "https://localhost:8080/"
    },
    "id": "AXJuRkxNGruN",
    "outputId": "3a72db15-a5db-407c-825a-01ef75f9a146"
   },
   "outputs": [
    {
     "data": {
      "text/plain": [
       "[['The',\n",
       "  'Project',\n",
       "  'Gutenberg',\n",
       "  'EBook',\n",
       "  'of',\n",
       "  'Alice',\n",
       "  's',\n",
       "  'Adventures',\n",
       "  'in',\n",
       "  'Wonderland',\n",
       "  'by',\n",
       "  'Lewis',\n",
       "  'Carroll',\n",
       "  'This',\n",
       "  'eBook',\n",
       "  'is',\n",
       "  'for',\n",
       "  'the',\n",
       "  'use',\n",
       "  'of',\n",
       "  'anyone',\n",
       "  'anywhere',\n",
       "  'in',\n",
       "  'the',\n",
       "  'United',\n",
       "  'States',\n",
       "  'and',\n",
       "  'most',\n",
       "  'other',\n",
       "  'parts',\n",
       "  'of',\n",
       "  'the',\n",
       "  'world',\n",
       "  'at',\n",
       "  'no',\n",
       "  'cost',\n",
       "  'and',\n",
       "  'with',\n",
       "  'almost',\n",
       "  'no',\n",
       "  'restrictions',\n",
       "  'whatsoever'],\n",
       " ['You',\n",
       "  'may',\n",
       "  'copy',\n",
       "  'it',\n",
       "  'give',\n",
       "  'it',\n",
       "  'away',\n",
       "  'or',\n",
       "  're-use',\n",
       "  'it',\n",
       "  'under',\n",
       "  'the',\n",
       "  'terms',\n",
       "  'of',\n",
       "  'the',\n",
       "  'Project',\n",
       "  'Gutenberg',\n",
       "  'License',\n",
       "  'included',\n",
       "  'with',\n",
       "  'this',\n",
       "  'eBook',\n",
       "  'or',\n",
       "  'online',\n",
       "  'at',\n",
       "  'www'],\n",
       " ['gutenberg']]"
      ]
     },
     "execution_count": 30,
     "metadata": {
      "tags": []
     },
     "output_type": "execute_result"
    }
   ],
   "source": [
    "# word tokenize\n",
    "tok_corp = [nltk.word_tokenize(sent) for sent in nopunct]\n",
    "tok_corp[:3]"
   ]
  },
  {
   "cell_type": "code",
   "execution_count": 31,
   "metadata": {
    "colab": {
     "base_uri": "https://localhost:8080/"
    },
    "id": "-21APfSRHi_e",
    "outputId": "a7adafe7-53da-4621-b6e3-3b6063c7fd82"
   },
   "outputs": [
    {
     "data": {
      "text/plain": [
       "3595"
      ]
     },
     "execution_count": 31,
     "metadata": {
      "tags": []
     },
     "output_type": "execute_result"
    }
   ],
   "source": [
    "# create a list of unique words\n",
    "unique_words = list(set([item for sublist in tok_corp for item in sublist]))\n",
    "len(unique_words)"
   ]
  },
  {
   "cell_type": "code",
   "execution_count": 32,
   "metadata": {
    "colab": {
     "base_uri": "https://localhost:8080/"
    },
    "id": "hN3YX6OhI4Tz",
    "outputId": "6caa5da2-0bc8-4d13-d0e0-2c5b314e961a"
   },
   "outputs": [
    {
     "name": "stderr",
     "output_type": "stream",
     "text": [
      "/usr/local/lib/python3.6/dist-packages/gensim/matutils.py:737: FutureWarning: Conversion of the second argument of issubdtype from `int` to `np.signedinteger` is deprecated. In future, it will be treated as `np.int64 == np.dtype(int).type`.\n",
      "  if np.issubdtype(vec.dtype, np.int):\n"
     ]
    },
    {
     "name": "stdout",
     "output_type": "stream",
     "text": [
      "[('queen', 0.7118192911148071), ('monarch', 0.6189674139022827), ('princess', 0.5902431011199951), ('crown_prince', 0.5499460697174072), ('prince', 0.5377321243286133), ('kings', 0.5236844420433044), ('Queen_Consort', 0.5235945582389832), ('queens', 0.518113374710083), ('sultan', 0.5098593235015869), ('monarchy', 0.5087411999702454)]\n"
     ]
    }
   ],
   "source": [
    "# already loaded pre-trained word2vec from Google; include relationships\n",
    "# test for similarity\n",
    "print(model.most_similar(positive=['woman', 'king'], negative=['man']))"
   ]
  },
  {
   "cell_type": "code",
   "execution_count": 33,
   "metadata": {
    "id": "81FaN2U6KTw5"
   },
   "outputs": [],
   "source": [
    "# training gensim with Alice's Adventures in Wonderland\n",
    "'''min_count: accept a word if it has a certain minimum number of occurances in the document\n",
    "\n",
    "Size: Size of the vector\n",
    "\n",
    "Window size : The parameter that fixes the length of window of words by which the model sweeps the data'''\n",
    "\n",
    "mymodel = gensim.models.Word2Vec(tok_corp, min_count=1, size=16, window=5)\n"
   ]
  },
  {
   "cell_type": "code",
   "execution_count": 34,
   "metadata": {
    "colab": {
     "base_uri": "https://localhost:8080/"
    },
    "id": "wKvW8OFLLAMN",
    "outputId": "69827ecf-7767-491d-e5a7-c54c908b3683"
   },
   "outputs": [
    {
     "name": "stderr",
     "output_type": "stream",
     "text": [
      "/usr/local/lib/python3.6/dist-packages/ipykernel_launcher.py:2: DeprecationWarning: Call to deprecated `__getitem__` (Method will be removed in 4.0.0, use self.wv.__getitem__() instead).\n",
      "  \n"
     ]
    },
    {
     "data": {
      "text/plain": [
       "(3595, 16)"
      ]
     },
     "execution_count": 34,
     "metadata": {
      "tags": []
     },
     "output_type": "execute_result"
    }
   ],
   "source": [
    "# extract respective vectors corresponding to unique words\n",
    "vector_list = mymodel[unique_words] # n by d matrix\n",
    "np.array(vector_list).shape"
   ]
  },
  {
   "cell_type": "code",
   "execution_count": 35,
   "metadata": {
    "colab": {
     "base_uri": "https://localhost:8080/"
    },
    "id": "AV731QkYNQJm",
    "outputId": "805646e9-a527-496c-f39e-ad1ce3e3fd7b"
   },
   "outputs": [
    {
     "name": "stdout",
     "output_type": "stream",
     "text": [
      "game [-0.11171378  0.13621463  0.02807499 -0.16291405  0.06786235  0.21353735\n",
      "  0.05133482 -0.12409391 -0.02425975 -0.23999973  0.17469743 -0.07101544\n",
      " -0.00950043 -0.00850812  0.14209771  0.0150135 ]\n",
      "caught [-2.9878469e-02  3.6855906e-02  1.9546090e-02 -8.8436931e-02\n",
      "  8.1825722e-03  7.4626453e-02  3.3661615e-02 -3.8814589e-02\n",
      " -2.4287255e-02 -7.1850218e-02  6.2350024e-02 -4.4843047e-03\n",
      " -5.2177722e-05  1.1366536e-02  2.6786439e-02  3.4182079e-02]\n",
      "machines [-0.0563659   0.03986408  0.02807083 -0.07677287  0.02669321  0.03834646\n",
      " -0.01147405 -0.05575945  0.02020124 -0.03784942  0.07934498 -0.0010822\n",
      " -0.02355767  0.02436827  0.05132861  0.00954647]\n",
      "eyes [-0.36215594  0.44493383  0.16843915 -0.6023899   0.23618697  0.71400535\n",
      "  0.16094933 -0.47627765 -0.01540328 -0.83771783  0.67530185 -0.2051067\n",
      "  0.00227144 -0.09742682  0.43200186  0.10002971]\n",
      "timidly [-0.11645633  0.12195393  0.02506814 -0.19535519  0.05280521  0.18853493\n",
      "  0.03636974 -0.16138597 -0.02545288 -0.24738058  0.2062136  -0.04700364\n",
      "  0.02454636 -0.04629243  0.15234329  0.00588017]\n"
     ]
    }
   ],
   "source": [
    "for i in range(5):\n",
    "  print(unique_words[i], vector_list[i])"
   ]
  },
  {
   "cell_type": "markdown",
   "metadata": {
    "id": "wG9E3NjpBH_-"
   },
   "source": [
    "2. Based on your knowledge and understand of the text corpus you have chosen, form 3 hypotheses of analogies or relationships you expect will hold and give a reason why. Experimentally validate these hypotheses. (e.g., if using Moby Dick as the corpus, one hypothesis might be that the whale, \"Mobie Dick\" is (cosine) more similar to \"good\" than to \"evil\" and is more similar to \"opposition\" than to \"mystery\")"
   ]
  },
  {
   "cell_type": "code",
   "execution_count": 36,
   "metadata": {
    "colab": {
     "base_uri": "https://localhost:8080/"
    },
    "id": "3lLh9OJkNjoh",
    "outputId": "41258ba2-01a3-4a79-cfab-8e03f66f38ad"
   },
   "outputs": [
    {
     "name": "stdout",
     "output_type": "stream",
     "text": [
      "Alice and curious similarity: 0.9979525\n",
      "Alice and safe similarity 0.8793081\n"
     ]
    },
    {
     "name": "stderr",
     "output_type": "stream",
     "text": [
      "/usr/local/lib/python3.6/dist-packages/gensim/matutils.py:737: FutureWarning: Conversion of the second argument of issubdtype from `int` to `np.signedinteger` is deprecated. In future, it will be treated as `np.int64 == np.dtype(int).type`.\n",
      "  if np.issubdtype(vec.dtype, np.int):\n"
     ]
    }
   ],
   "source": [
    "'''Hypothesis 1: Alice is more similar to curious than to safe\n",
    "    Reason: Alice is a very curious girl and never play safe'''\n",
    "print('Alice and curious similarity:', mymodel.wv.similarity('Alice', 'curious'))\n",
    "print('Alice and safe similarity', mymodel.wv.similarity('Alice', 'safe'))\n"
   ]
  },
  {
   "cell_type": "code",
   "execution_count": 37,
   "metadata": {
    "colab": {
     "base_uri": "https://localhost:8080/"
    },
    "id": "EJTJcciKP4wX",
    "outputId": "272d60d0-e4d9-4db7-b269-2babb3fcd8ff"
   },
   "outputs": [
    {
     "name": "stdout",
     "output_type": "stream",
     "text": [
      "Queen and off similarity: 0.9992827\n",
      "Queen and laugh similarity 0.66836756\n"
     ]
    },
    {
     "name": "stderr",
     "output_type": "stream",
     "text": [
      "/usr/local/lib/python3.6/dist-packages/gensim/matutils.py:737: FutureWarning: Conversion of the second argument of issubdtype from `int` to `np.signedinteger` is deprecated. In future, it will be treated as `np.int64 == np.dtype(int).type`.\n",
      "  if np.issubdtype(vec.dtype, np.int):\n"
     ]
    }
   ],
   "source": [
    "'''Hypothesis 2: Queen of Hearts is more similar to off than to laugh\n",
    "    Reason: Queen is a blind furry character that likes to say off with his/her head, and she seldom laughs '''\n",
    "print('Queen and off similarity:', mymodel.wv.similarity('Queen', 'off'))\n",
    "print('Queen and laugh similarity', mymodel.wv.similarity('Queen', 'laugh'))\n"
   ]
  },
  {
   "cell_type": "code",
   "execution_count": 38,
   "metadata": {
    "colab": {
     "base_uri": "https://localhost:8080/"
    },
    "id": "ufs86a43P5JI",
    "outputId": "8e7e13c6-0c6b-49cc-8da9-1837280ee127"
   },
   "outputs": [
    {
     "name": "stdout",
     "output_type": "stream",
     "text": [
      "Duchess and ugly similarity: 0.9526028\n",
      "Duchess and pretty similarity 0.06276158\n"
     ]
    },
    {
     "name": "stderr",
     "output_type": "stream",
     "text": [
      "/usr/local/lib/python3.6/dist-packages/gensim/matutils.py:737: FutureWarning: Conversion of the second argument of issubdtype from `int` to `np.signedinteger` is deprecated. In future, it will be treated as `np.int64 == np.dtype(int).type`.\n",
      "  if np.issubdtype(vec.dtype, np.int):\n"
     ]
    }
   ],
   "source": [
    "'''Hypothesis 3: Duchess is more similar to ugly than to pretty\n",
    "    Reason: Duchess is ugly as described in the novel'''\n",
    "print('Duchess and ugly similarity:', mymodel.wv.similarity('Alice', 'ugly'))\n",
    "print('Duchess and pretty similarity', mymodel.wv.similarity('Alice', 'pretty'))\n"
   ]
  },
  {
   "cell_type": "markdown",
   "metadata": {
    "id": "I9YrFGPsBQod"
   },
   "source": [
    "3. Use T-SNE or PCA to reduce the dimensionality of the vectors to two dimensions for:\n",
    "\n",
    "*   The GoogleNews corpus pre-trained vectors from Lab 6. Feel free to down sample this set of vectors to 10 - 20k words based on frequency.\n",
    "\n",
    "*   The embeddings you just generated."
   ]
  },
  {
   "cell_type": "code",
   "execution_count": 53,
   "metadata": {
    "id": "ZCoMM5AB6_PG"
   },
   "outputs": [],
   "source": [
    "from sklearn.manifold import TSNE\n",
    "\n",
    "# downsize word vectors from GoogleNews corpus to the most frequent 10k words\n",
    "downsized_keys = word_vectors.index2entity[:10000]\n",
    "downsized_wv = word_vectors[downsized_keys]\n"
   ]
  },
  {
   "cell_type": "code",
   "execution_count": 54,
   "metadata": {
    "colab": {
     "base_uri": "https://localhost:8080/"
    },
    "id": "NjC4hsKi96VG",
    "outputId": "e57677f3-92b7-4ec0-8dd8-3d5bf6749bb1"
   },
   "outputs": [
    {
     "name": "stdout",
     "output_type": "stream",
     "text": [
      "[t-SNE] Computing 151 nearest neighbors...\n",
      "[t-SNE] Indexed 10000 samples in 0.450s...\n",
      "[t-SNE] Computed neighbors for 10000 samples in 85.027s...\n",
      "[t-SNE] Computed conditional probabilities for sample 1000 / 10000\n",
      "[t-SNE] Computed conditional probabilities for sample 2000 / 10000\n",
      "[t-SNE] Computed conditional probabilities for sample 3000 / 10000\n",
      "[t-SNE] Computed conditional probabilities for sample 4000 / 10000\n",
      "[t-SNE] Computed conditional probabilities for sample 5000 / 10000\n",
      "[t-SNE] Computed conditional probabilities for sample 6000 / 10000\n",
      "[t-SNE] Computed conditional probabilities for sample 7000 / 10000\n",
      "[t-SNE] Computed conditional probabilities for sample 8000 / 10000\n",
      "[t-SNE] Computed conditional probabilities for sample 9000 / 10000\n",
      "[t-SNE] Computed conditional probabilities for sample 10000 / 10000\n",
      "[t-SNE] Mean sigma: 0.983153\n",
      "[t-SNE] Computed conditional probabilities in 0.857s\n",
      "[t-SNE] Iteration 50: error = 98.8484039, gradient norm = 0.1357405 (50 iterations in 8.081s)\n",
      "[t-SNE] Iteration 100: error = 98.8262787, gradient norm = 0.1009445 (50 iterations in 8.532s)\n",
      "[t-SNE] Iteration 150: error = 98.8173676, gradient norm = 0.1298361 (50 iterations in 8.418s)\n",
      "[t-SNE] Iteration 200: error = 101.5532990, gradient norm = 0.0855882 (50 iterations in 7.866s)\n",
      "[t-SNE] Iteration 250: error = 101.1845245, gradient norm = 0.0830220 (50 iterations in 7.123s)\n",
      "[t-SNE] KL divergence after 250 iterations with early exaggeration: 101.184525\n",
      "[t-SNE] Iteration 300: error = 4.0263429, gradient norm = 0.0030010 (50 iterations in 7.326s)\n",
      "[t-SNE] Iteration 350: error = 3.2842565, gradient norm = 0.0018539 (50 iterations in 7.680s)\n",
      "[t-SNE] Iteration 400: error = 3.0662556, gradient norm = 0.0008388 (50 iterations in 6.858s)\n",
      "[t-SNE] Iteration 450: error = 2.9622154, gradient norm = 0.0002325 (50 iterations in 5.747s)\n",
      "[t-SNE] Iteration 500: error = 2.8876932, gradient norm = 0.0001757 (50 iterations in 5.745s)\n",
      "[t-SNE] Iteration 550: error = 2.8317270, gradient norm = 0.0001389 (50 iterations in 5.716s)\n",
      "[t-SNE] Iteration 600: error = 2.7882199, gradient norm = 0.0001164 (50 iterations in 5.773s)\n",
      "[t-SNE] Iteration 650: error = 2.7537913, gradient norm = 0.0001049 (50 iterations in 5.821s)\n",
      "[t-SNE] Iteration 700: error = 2.7270763, gradient norm = 0.0000898 (50 iterations in 5.778s)\n",
      "[t-SNE] Iteration 750: error = 2.7054868, gradient norm = 0.0000772 (50 iterations in 5.792s)\n",
      "[t-SNE] Iteration 800: error = 2.6881235, gradient norm = 0.0000718 (50 iterations in 5.781s)\n",
      "[t-SNE] Iteration 850: error = 2.6739287, gradient norm = 0.0000654 (50 iterations in 5.848s)\n",
      "[t-SNE] Iteration 900: error = 2.6619525, gradient norm = 0.0000603 (50 iterations in 5.938s)\n",
      "[t-SNE] Iteration 950: error = 2.6519251, gradient norm = 0.0000544 (50 iterations in 5.891s)\n",
      "[t-SNE] Iteration 1000: error = 2.6431267, gradient norm = 0.0000500 (50 iterations in 5.866s)\n",
      "[t-SNE] KL divergence after 1000 iterations: 2.643127\n"
     ]
    }
   ],
   "source": [
    "# GoogleNews corpus, reduce dim to 2\n",
    "google_embed = TSNE(n_components=2, perplexity=50, verbose=2, method='barnes_hut').fit_transform(downsized_wv)"
   ]
  },
  {
   "cell_type": "code",
   "execution_count": 96,
   "metadata": {
    "colab": {
     "base_uri": "https://localhost:8080/"
    },
    "id": "F7rbKPPU2Kdu",
    "outputId": "057a12e4-0265-439b-9859-fc1d8387046e"
   },
   "outputs": [
    {
     "name": "stdout",
     "output_type": "stream",
     "text": [
      "[t-SNE] Computing 241 nearest neighbors...\n",
      "[t-SNE] Indexed 3595 samples in 0.010s...\n",
      "[t-SNE] Computed neighbors for 3595 samples in 0.472s...\n",
      "[t-SNE] Computed conditional probabilities for sample 1000 / 3595\n",
      "[t-SNE] Computed conditional probabilities for sample 2000 / 3595\n",
      "[t-SNE] Computed conditional probabilities for sample 3000 / 3595\n",
      "[t-SNE] Computed conditional probabilities for sample 3595 / 3595\n",
      "[t-SNE] Mean sigma: 0.034417\n",
      "[t-SNE] Computed conditional probabilities in 0.683s\n",
      "[t-SNE] Iteration 50: error = 69.5417786, gradient norm = 0.0321016 (50 iterations in 3.313s)\n",
      "[t-SNE] Iteration 100: error = 65.7973175, gradient norm = 0.0054351 (50 iterations in 2.200s)\n",
      "[t-SNE] Iteration 150: error = 65.4730225, gradient norm = 0.0013915 (50 iterations in 1.878s)\n",
      "[t-SNE] Iteration 200: error = 65.3841553, gradient norm = 0.0004211 (50 iterations in 1.775s)\n",
      "[t-SNE] Iteration 250: error = 65.3576279, gradient norm = 0.0004107 (50 iterations in 1.750s)\n",
      "[t-SNE] KL divergence after 250 iterations with early exaggeration: 65.357628\n",
      "[t-SNE] Iteration 300: error = 1.8624613, gradient norm = 0.0010521 (50 iterations in 2.172s)\n",
      "[t-SNE] Iteration 350: error = 1.7184500, gradient norm = 0.0003470 (50 iterations in 2.556s)\n",
      "[t-SNE] Iteration 400: error = 1.6675131, gradient norm = 0.0001779 (50 iterations in 2.509s)\n",
      "[t-SNE] Iteration 450: error = 1.6437700, gradient norm = 0.0001056 (50 iterations in 2.524s)\n",
      "[t-SNE] Iteration 500: error = 1.6304363, gradient norm = 0.0000839 (50 iterations in 2.537s)\n",
      "[t-SNE] Iteration 550: error = 1.6225164, gradient norm = 0.0000654 (50 iterations in 2.656s)\n",
      "[t-SNE] Iteration 600: error = 1.6176628, gradient norm = 0.0000518 (50 iterations in 2.652s)\n",
      "[t-SNE] Iteration 650: error = 1.6143806, gradient norm = 0.0000442 (50 iterations in 2.685s)\n",
      "[t-SNE] Iteration 700: error = 1.6121053, gradient norm = 0.0000402 (50 iterations in 2.729s)\n",
      "[t-SNE] Iteration 750: error = 1.6105154, gradient norm = 0.0000397 (50 iterations in 2.772s)\n",
      "[t-SNE] Iteration 800: error = 1.6090797, gradient norm = 0.0000469 (50 iterations in 2.842s)\n",
      "[t-SNE] Iteration 850: error = 1.6083026, gradient norm = 0.0000390 (50 iterations in 2.751s)\n",
      "[t-SNE] Iteration 900: error = 1.6076739, gradient norm = 0.0000345 (50 iterations in 2.640s)\n",
      "[t-SNE] Iteration 950: error = 1.6071508, gradient norm = 0.0000322 (50 iterations in 2.580s)\n",
      "[t-SNE] Iteration 1000: error = 1.6066920, gradient norm = 0.0000310 (50 iterations in 2.547s)\n",
      "[t-SNE] KL divergence after 1000 iterations: 1.606692\n"
     ]
    }
   ],
   "source": [
    "# Alice corpus, reduce dim to 2\n",
    "alice_embed = TSNE(n_components=2, perplexity=80, verbose=2, method='barnes_hut').fit_transform(vector_list)"
   ]
  },
  {
   "cell_type": "markdown",
   "metadata": {
    "id": "B1UF_C4RBpQO"
   },
   "source": [
    "4. Using this (Links to an external site.) library (or your choice of scatterplot library), visualize both reduced datasets from the step above and explore the visualization."
   ]
  },
  {
   "cell_type": "code",
   "execution_count": 64,
   "metadata": {
    "colab": {
     "base_uri": "https://localhost:8080/",
     "height": 268
    },
    "id": "G2a9ZeHuzdiA",
    "outputId": "3c722255-44f5-4ce1-f1ed-ab61c8c00070"
   },
   "outputs": [
    {
     "data": {
      "image/png": "[encoded data removed]",
      "text/plain": [
       "<Figure size 432x288 with 1 Axes>"
      ]
     },
     "metadata": {
      "needs_background": "light",
      "tags": []
     },
     "output_type": "display_data"
    }
   ],
   "source": [
    "# first, use matplotlib to get the simple plots\n",
    "import matplotlib.pyplot as plt\n",
    "%matplotlib inline\n",
    "\n",
    "# visualize google dataset\n",
    "plt.scatter(x=google_embed[:,0], y=google_embed[:,1], s=3, c='green')\n",
    "plt.show()"
   ]
  },
  {
   "cell_type": "code",
   "execution_count": 97,
   "metadata": {
    "colab": {
     "base_uri": "https://localhost:8080/",
     "height": 265
    },
    "id": "kqHGQT0y_D6J",
    "outputId": "47f3d7c1-56f8-4cd5-c49e-bbb10b3ad1b0"
   },
   "outputs": [
    {
     "data": {
      "image/png": "[encoded data removed]",
      "text/plain": [
       "<Figure size 432x288 with 1 Axes>"
      ]
     },
     "metadata": {
      "needs_background": "light",
      "tags": []
     },
     "output_type": "display_data"
    }
   ],
   "source": [
    "# visualize alice dataset\n",
    "plt.scatter(x=alice_embed[:,0], y=alice_embed[:,1], s=3, c='purple')\n",
    "plt.show()"
   ]
  },
  {
   "cell_type": "code",
   "execution_count": 52,
   "metadata": {
    "colab": {
     "base_uri": "https://localhost:8080/"
    },
    "id": "PC8uVVPNA5GA",
    "outputId": "e0e982e9-d825-438f-9f5b-0c1257d4a0f0"
   },
   "outputs": [
    {
     "name": "stdout",
     "output_type": "stream",
     "text": [
      "Cloning into 'd3-scatterplot'...\n",
      "remote: Enumerating objects: 19, done.\u001b[K\n",
      "remote: Counting objects: 100% (19/19), done.\u001b[K\n",
      "remote: Compressing objects: 100% (19/19), done.\u001b[K\n",
      "remote: Total 1022 (delta 9), reused 1 (delta 0), pack-reused 1003\u001b[K\n",
      "Receiving objects: 100% (1022/1022), 1.94 MiB | 1.94 MiB/s, done.\n",
      "Resolving deltas: 100% (590/590), done.\n"
     ]
    }
   ],
   "source": [
    "# further, I try using the d3 library for visualization\n",
    "from google.colab.output import eval_js\n",
    "from IPython.display import Javascript\n",
    "!git clone https://github.com/CAHLR/d3-scatterplot.git"
   ]
  },
  {
   "cell_type": "code",
   "execution_count": 56,
   "metadata": {
    "id": "zmWXL9MzBBSx"
   },
   "outputs": [],
   "source": [
    "def show_port(port, data_file, width=600, height=800):\n",
    "  display(Javascript(\"\"\"\n",
    "  (async ()=>{\n",
    "    fm = document.createElement('iframe')\n",
    "    fm.src = await google.colab.kernel.proxyPort(%d) + '/index.html?dataset=%s'\n",
    "    fm.width = '90%%'\n",
    "    fm.height = '%d'\n",
    "    fm.frameBorder = 0\n",
    "    document.body.append(fm)\n",
    "  })();\n",
    "  \"\"\" % (port, data_file, height)))"
   ]
  },
  {
   "cell_type": "code",
   "execution_count": 58,
   "metadata": {
    "colab": {
     "base_uri": "https://localhost:8080/",
     "height": 204
    },
    "id": "MoXajFKREbL2",
    "outputId": "6c8d6b83-e702-47cd-9edd-e90caf722378"
   },
   "outputs": [
    {
     "data": {
      "text/html": [
       "<div>\n",
       "<style scoped>\n",
       "    .dataframe tbody tr th:only-of-type {\n",
       "        vertical-align: middle;\n",
       "    }\n",
       "\n",
       "    .dataframe tbody tr th {\n",
       "        vertical-align: top;\n",
       "    }\n",
       "\n",
       "    .dataframe thead th {\n",
       "        text-align: right;\n",
       "    }\n",
       "</style>\n",
       "<table border=\"1\" class=\"dataframe\">\n",
       "  <thead>\n",
       "    <tr style=\"text-align: right;\">\n",
       "      <th></th>\n",
       "      <th>x</th>\n",
       "      <th>y</th>\n",
       "      <th>word_text</th>\n",
       "    </tr>\n",
       "  </thead>\n",
       "  <tbody>\n",
       "    <tr>\n",
       "      <th>0</th>\n",
       "      <td>2.251091</td>\n",
       "      <td>-6.725315</td>\n",
       "      <td>&lt;/s&gt;</td>\n",
       "    </tr>\n",
       "    <tr>\n",
       "      <th>1</th>\n",
       "      <td>1.806505</td>\n",
       "      <td>-3.314204</td>\n",
       "      <td>in</td>\n",
       "    </tr>\n",
       "    <tr>\n",
       "      <th>2</th>\n",
       "      <td>3.737966</td>\n",
       "      <td>-4.093122</td>\n",
       "      <td>for</td>\n",
       "    </tr>\n",
       "    <tr>\n",
       "      <th>3</th>\n",
       "      <td>5.371419</td>\n",
       "      <td>-9.586966</td>\n",
       "      <td>that</td>\n",
       "    </tr>\n",
       "    <tr>\n",
       "      <th>4</th>\n",
       "      <td>20.320997</td>\n",
       "      <td>-14.191899</td>\n",
       "      <td>is</td>\n",
       "    </tr>\n",
       "  </tbody>\n",
       "</table>\n",
       "</div>"
      ],
      "text/plain": [
       "           x          y word_text\n",
       "0   2.251091  -6.725315      </s>\n",
       "1   1.806505  -3.314204        in\n",
       "2   3.737966  -4.093122       for\n",
       "3   5.371419  -9.586966      that\n",
       "4  20.320997 -14.191899        is"
      ]
     },
     "execution_count": 58,
     "metadata": {
      "tags": []
     },
     "output_type": "execute_result"
    }
   ],
   "source": [
    "# create a dataframe for google dataset, columns are x, y, and word_text\n",
    "df_google = pd.DataFrame(data=google_embed, columns=['x', 'y'])\n",
    "df_google['word_text'] = downsized_keys\n",
    "df_google.head(5)"
   ]
  },
  {
   "cell_type": "code",
   "execution_count": 75,
   "metadata": {
    "id": "N9W20JA9GDoJ"
   },
   "outputs": [],
   "source": [
    "df_google.to_csv('google.tsv', sep='\\t', index=False)"
   ]
  },
  {
   "cell_type": "code",
   "execution_count": 86,
   "metadata": {
    "colab": {
     "base_uri": "https://localhost:8080/",
     "height": 821
    },
    "id": "VLZBeBSKEXio",
    "outputId": "2d6f0999-fb71-466d-9fce-4169200fa575"
   },
   "outputs": [
    {
     "data": {
      "application/javascript": [
       "\n",
       "  (async ()=>{\n",
       "    fm = document.createElement('iframe')\n",
       "    fm.src = await google.colab.kernel.proxyPort(8000) + '/index.html?dataset=google.tsv'\n",
       "    fm.width = '90%'\n",
       "    fm.height = '800'\n",
       "    fm.frameBorder = 0\n",
       "    document.body.append(fm)\n",
       "  })();\n",
       "  "
      ],
      "text/plain": [
       "<IPython.core.display.Javascript object>"
      ]
     },
     "metadata": {
      "tags": []
     },
     "output_type": "display_data"
    }
   ],
   "source": [
    "port = 8000\n",
    "data_file = 'google.tsv'\n",
    "height = 1600\n",
    "\n",
    "get_ipython().system_raw('cd d3-scatterplot && python3 -m http.server %d &' % port) \n",
    "show_port(port, data_file, height)"
   ]
  },
  {
   "cell_type": "markdown",
   "metadata": {
    "id": "t9TQXRocN3vy"
   },
   "source": [
    "The above image for Google News dataset has shown a number of interesting clusters. For example, we find one cluster on upper left corder for the names of geographic regions in the US, such as cities and states. Another cluster closed to it shows the names for universities. Also, we can see two clusters respectively for first names and last names near the upper left. On the right side of the image, we find a cluster for many adverbs. At the lower center part, we also find some clusters for adjectives. At the upper center part, we find many words related to technologies and computers. These are all very interesting observations."
   ]
  },
  {
   "cell_type": "code",
   "execution_count": 98,
   "metadata": {
    "colab": {
     "base_uri": "https://localhost:8080/",
     "height": 204
    },
    "id": "2fwGxff1FcyZ",
    "outputId": "360eb1b2-e1f3-4552-90bb-9e8a1b509cd8"
   },
   "outputs": [
    {
     "data": {
      "text/html": [
       "<div>\n",
       "<style scoped>\n",
       "    .dataframe tbody tr th:only-of-type {\n",
       "        vertical-align: middle;\n",
       "    }\n",
       "\n",
       "    .dataframe tbody tr th {\n",
       "        vertical-align: top;\n",
       "    }\n",
       "\n",
       "    .dataframe thead th {\n",
       "        text-align: right;\n",
       "    }\n",
       "</style>\n",
       "<table border=\"1\" class=\"dataframe\">\n",
       "  <thead>\n",
       "    <tr style=\"text-align: right;\">\n",
       "      <th></th>\n",
       "      <th>x</th>\n",
       "      <th>y</th>\n",
       "      <th>word_text</th>\n",
       "    </tr>\n",
       "  </thead>\n",
       "  <tbody>\n",
       "    <tr>\n",
       "      <th>0</th>\n",
       "      <td>-35.001778</td>\n",
       "      <td>-7.629823</td>\n",
       "      <td>game</td>\n",
       "    </tr>\n",
       "    <tr>\n",
       "      <th>1</th>\n",
       "      <td>1.951661</td>\n",
       "      <td>-0.263966</td>\n",
       "      <td>caught</td>\n",
       "    </tr>\n",
       "    <tr>\n",
       "      <th>2</th>\n",
       "      <td>6.835761</td>\n",
       "      <td>8.351313</td>\n",
       "      <td>machines</td>\n",
       "    </tr>\n",
       "    <tr>\n",
       "      <th>3</th>\n",
       "      <td>-57.847202</td>\n",
       "      <td>12.440156</td>\n",
       "      <td>eyes</td>\n",
       "    </tr>\n",
       "    <tr>\n",
       "      <th>4</th>\n",
       "      <td>-36.353607</td>\n",
       "      <td>-5.916276</td>\n",
       "      <td>timidly</td>\n",
       "    </tr>\n",
       "  </tbody>\n",
       "</table>\n",
       "</div>"
      ],
      "text/plain": [
       "           x          y word_text\n",
       "0 -35.001778  -7.629823      game\n",
       "1   1.951661  -0.263966    caught\n",
       "2   6.835761   8.351313  machines\n",
       "3 -57.847202  12.440156      eyes\n",
       "4 -36.353607  -5.916276   timidly"
      ]
     },
     "execution_count": 98,
     "metadata": {
      "tags": []
     },
     "output_type": "execute_result"
    }
   ],
   "source": [
    "# create a dataframe for alice dataset, columns are x, y, and word_text\n",
    "df_alice = pd.DataFrame(data=alice_embed, columns=['x', 'y'])\n",
    "df_alice['word_text'] = unique_words\n",
    "df_alice.head(5)"
   ]
  },
  {
   "cell_type": "code",
   "execution_count": 99,
   "metadata": {
    "id": "oQYS9TCYFsZW"
   },
   "outputs": [],
   "source": [
    "df_alice.to_csv('alice.tsv', sep='\\t', index=False)"
   ]
  },
  {
   "cell_type": "code",
   "execution_count": 102,
   "metadata": {
    "colab": {
     "base_uri": "https://localhost:8080/",
     "height": 821
    },
    "id": "pmNIY5j-HJd4",
    "outputId": "fd3f707f-9ac0-4ef6-a595-50d84743e772"
   },
   "outputs": [
    {
     "data": {
      "application/javascript": [
       "\n",
       "  (async ()=>{\n",
       "    fm = document.createElement('iframe')\n",
       "    fm.src = await google.colab.kernel.proxyPort(8000) + '/index.html?dataset=alice.tsv'\n",
       "    fm.width = '90%'\n",
       "    fm.height = '800'\n",
       "    fm.frameBorder = 0\n",
       "    document.body.append(fm)\n",
       "  })();\n",
       "  "
      ],
      "text/plain": [
       "<IPython.core.display.Javascript object>"
      ]
     },
     "metadata": {
      "tags": []
     },
     "output_type": "display_data"
    }
   ],
   "source": [
    "port = 8000\n",
    "data_file = 'alice.tsv'\n",
    "height = 1600\n",
    "\n",
    "get_ipython().system_raw('cd d3-scatterplot && python3 -m http.server %d &' % port) \n",
    "show_port(port, data_file, height)"
   ]
  },
  {
   "cell_type": "markdown",
   "metadata": {
    "id": "GEtE4WHqQbk-"
   },
   "source": [
    "The image for the Alice in Wonderland is not as meaningful as the Google News dataset. I've tried different perplexity and other parameters, but still haven't found any meaningful meaning for points that are clustered."
   ]
  },
  {
   "cell_type": "code",
   "execution_count": null,
   "metadata": {
    "id": "UO9J8T-qUDir"
   },
   "outputs": [],
   "source": []
  }
 ],
 "metadata": {
  "colab": {
   "collapsed_sections": [],
   "name": "Qiu_Yin_Lab 6 Part 2",
   "provenance": []
  },
  "kernelspec": {
   "display_name": "Python 3",
   "language": "python",
   "name": "python3"
  },
  "language_info": {
   "codemirror_mode": {
    "name": "ipython",
    "version": 3
   },
   "file_extension": ".py",
   "mimetype": "text/x-python",
   "name": "python",
   "nbconvert_exporter": "python",
   "pygments_lexer": "ipython3",
   "version": "3.7.6"
  }
 },
 "nbformat": 4,
 "nbformat_minor": 4
}
