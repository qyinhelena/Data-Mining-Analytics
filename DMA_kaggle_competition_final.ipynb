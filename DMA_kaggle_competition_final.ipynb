{
  "nbformat": 4,
  "nbformat_minor": 0,
  "metadata": {
    "kernelspec": {
      "name": "python3",
      "display_name": "Python 3.7.7 64-bit ('APIs_geospatial': conda)",
      "metadata": {
        "interpreter": {
          "hash": "ebec687c2d4e7a324c2a9dcf0938da48db8fd1ea8a7f933651053124788d7424"
        }
      }
    },
    "language_info": {
      "pygments_lexer": "ipython3",
      "nbconvert_exporter": "python",
      "version": "3.7.7-final",
      "file_extension": ".py",
      "codemirror_mode": {
        "name": "ipython",
        "version": 3
      },
      "name": "python",
      "mimetype": "text/x-python"
    },
    "colab": {
      "name": "DMA_kaggle_competition.ipynb",
      "provenance": [],
      "collapsed_sections": []
    }
  },
  "cells": [
    {
      "cell_type": "code",
      "metadata": {
        "id": "Aczu8k20x-MN",
        "outputId": "63af86ad-13b9-4c44-c30c-dd19bcf8b9ed",
        "colab": {
          "base_uri": "https://localhost:8080/"
        }
      },
      "source": [
        "from google.colab import drive\n",
        "drive.mount('/content/drive')"
      ],
      "execution_count": 1,
      "outputs": [
        {
          "output_type": "stream",
          "text": [
            "Mounted at /content/drive\n"
          ],
          "name": "stdout"
        }
      ]
    },
    {
      "cell_type": "code",
      "metadata": {
        "id": "vKsxqZIRxZnJ"
      },
      "source": [
        "import os\n",
        "os.environ['KAGGLE_CONFIG_DIR'] = \"/content/gdrive/My Drive/DMA Kaggle\""
      ],
      "execution_count": 2,
      "outputs": []
    },
    {
      "cell_type": "code",
      "metadata": {
        "id": "s-ZMOVlAyM6_",
        "outputId": "c5505e81-10ee-4f4c-e714-c5768e9b5ea5",
        "colab": {
          "base_uri": "https://localhost:8080/"
        }
      },
      "source": [
        "%cd /content/drive/My Drive/DMA Kaggle"
      ],
      "execution_count": 3,
      "outputs": [
        {
          "output_type": "stream",
          "text": [
            "/content/drive/My Drive/DMA Kaggle\n"
          ],
          "name": "stdout"
        }
      ]
    },
    {
      "cell_type": "markdown",
      "metadata": {
        "id": "I78DwnPe0amQ"
      },
      "source": [
        "**Kaggle Challenge starts from here!!**\n",
        "\n",
        "Yin Qiu"
      ]
    },
    {
      "cell_type": "code",
      "metadata": {
        "_uuid": "8f2839f25d086af736a60e9eeb907d3b93b6e0e5",
        "_cell_guid": "b1076dfc-b9ad-4769-8c92-a6c4dae69d19",
        "trusted": true,
        "id": "Lee0jtG4sxUt"
      },
      "source": [
        "import numpy as np\n",
        "import pandas as pd\n",
        "import seaborn as sns\n",
        "import matplotlib.pyplot as plt\n",
        "%matplotlib inline\n",
        "\n",
        "from sklearn.tree import DecisionTreeClassifier\n",
        "from sklearn.ensemble import RandomForestClassifier\n",
        "from sklearn.ensemble import GradientBoostingClassifier\n",
        "from sklearn.neural_network import MLPClassifier\n",
        "\n",
        "from sklearn.impute import SimpleImputer\n",
        "from sklearn.feature_extraction import DictVectorizer\n",
        "from sklearn.model_selection import GridSearchCV, StratifiedKFold, KFold, train_test_split, cross_val_score, cross_validate\n",
        "from sklearn.metrics import accuracy_score\n",
        "from sklearn.preprocessing import StandardScaler"
      ],
      "execution_count": 4,
      "outputs": []
    },
    {
      "cell_type": "code",
      "metadata": {
        "_uuid": "d629ff2d2480ee46fbb7e2d37f6b5fab8052498a",
        "_cell_guid": "79c7e3d0-c299-4dcb-8224-4455121ee9b0",
        "trusted": true,
        "id": "qlBfzM5MsxUy"
      },
      "source": [
        "df_train = pd.read_csv('train.csv')\n",
        "df_test = pd.read_csv('test.csv')"
      ],
      "execution_count": 5,
      "outputs": []
    },
    {
      "cell_type": "code",
      "metadata": {
        "id": "oaotenGQ__1n",
        "outputId": "671e548b-27e7-44d9-fde4-9e978ac0b203",
        "colab": {
          "base_uri": "https://localhost:8080/",
          "height": 204
        }
      },
      "source": [
        "df_train.head(5)"
      ],
      "execution_count": 6,
      "outputs": [
        {
          "output_type": "execute_result",
          "data": {
            "text/html": [
              "<div>\n",
              "<style scoped>\n",
              "    .dataframe tbody tr th:only-of-type {\n",
              "        vertical-align: middle;\n",
              "    }\n",
              "\n",
              "    .dataframe tbody tr th {\n",
              "        vertical-align: top;\n",
              "    }\n",
              "\n",
              "    .dataframe thead th {\n",
              "        text-align: right;\n",
              "    }\n",
              "</style>\n",
              "<table border=\"1\" class=\"dataframe\">\n",
              "  <thead>\n",
              "    <tr style=\"text-align: right;\">\n",
              "      <th></th>\n",
              "      <th>PassengerId</th>\n",
              "      <th>Survived</th>\n",
              "      <th>Pclass</th>\n",
              "      <th>Name</th>\n",
              "      <th>Sex</th>\n",
              "      <th>Age</th>\n",
              "      <th>SibSp</th>\n",
              "      <th>Parch</th>\n",
              "      <th>Ticket</th>\n",
              "      <th>Fare</th>\n",
              "      <th>Cabin</th>\n",
              "      <th>Embarked</th>\n",
              "    </tr>\n",
              "  </thead>\n",
              "  <tbody>\n",
              "    <tr>\n",
              "      <th>0</th>\n",
              "      <td>1</td>\n",
              "      <td>0</td>\n",
              "      <td>3</td>\n",
              "      <td>Braund, Mr. Owen Harris</td>\n",
              "      <td>male</td>\n",
              "      <td>22.0</td>\n",
              "      <td>1</td>\n",
              "      <td>0</td>\n",
              "      <td>A/5 21171</td>\n",
              "      <td>7.2500</td>\n",
              "      <td>NaN</td>\n",
              "      <td>S</td>\n",
              "    </tr>\n",
              "    <tr>\n",
              "      <th>1</th>\n",
              "      <td>2</td>\n",
              "      <td>1</td>\n",
              "      <td>1</td>\n",
              "      <td>Cumings, Mrs. John Bradley (Florence Briggs Th...</td>\n",
              "      <td>female</td>\n",
              "      <td>38.0</td>\n",
              "      <td>1</td>\n",
              "      <td>0</td>\n",
              "      <td>PC 17599</td>\n",
              "      <td>71.2833</td>\n",
              "      <td>C85</td>\n",
              "      <td>C</td>\n",
              "    </tr>\n",
              "    <tr>\n",
              "      <th>2</th>\n",
              "      <td>3</td>\n",
              "      <td>1</td>\n",
              "      <td>3</td>\n",
              "      <td>Heikkinen, Miss. Laina</td>\n",
              "      <td>female</td>\n",
              "      <td>26.0</td>\n",
              "      <td>0</td>\n",
              "      <td>0</td>\n",
              "      <td>STON/O2. 3101282</td>\n",
              "      <td>7.9250</td>\n",
              "      <td>NaN</td>\n",
              "      <td>S</td>\n",
              "    </tr>\n",
              "    <tr>\n",
              "      <th>3</th>\n",
              "      <td>4</td>\n",
              "      <td>1</td>\n",
              "      <td>1</td>\n",
              "      <td>Futrelle, Mrs. Jacques Heath (Lily May Peel)</td>\n",
              "      <td>female</td>\n",
              "      <td>35.0</td>\n",
              "      <td>1</td>\n",
              "      <td>0</td>\n",
              "      <td>113803</td>\n",
              "      <td>53.1000</td>\n",
              "      <td>C123</td>\n",
              "      <td>S</td>\n",
              "    </tr>\n",
              "    <tr>\n",
              "      <th>4</th>\n",
              "      <td>5</td>\n",
              "      <td>0</td>\n",
              "      <td>3</td>\n",
              "      <td>Allen, Mr. William Henry</td>\n",
              "      <td>male</td>\n",
              "      <td>35.0</td>\n",
              "      <td>0</td>\n",
              "      <td>0</td>\n",
              "      <td>373450</td>\n",
              "      <td>8.0500</td>\n",
              "      <td>NaN</td>\n",
              "      <td>S</td>\n",
              "    </tr>\n",
              "  </tbody>\n",
              "</table>\n",
              "</div>"
            ],
            "text/plain": [
              "   PassengerId  Survived  Pclass  ...     Fare Cabin  Embarked\n",
              "0            1         0       3  ...   7.2500   NaN         S\n",
              "1            2         1       1  ...  71.2833   C85         C\n",
              "2            3         1       3  ...   7.9250   NaN         S\n",
              "3            4         1       1  ...  53.1000  C123         S\n",
              "4            5         0       3  ...   8.0500   NaN         S\n",
              "\n",
              "[5 rows x 12 columns]"
            ]
          },
          "metadata": {
            "tags": []
          },
          "execution_count": 6
        }
      ]
    },
    {
      "cell_type": "code",
      "metadata": {
        "id": "sGphlVkX25wk",
        "outputId": "4b66e7b6-345e-4ad0-a8de-e6ba0dcda19b",
        "colab": {
          "base_uri": "https://localhost:8080/"
        }
      },
      "source": [
        "# check missing values\n",
        "df_train.isnull().sum()"
      ],
      "execution_count": 7,
      "outputs": [
        {
          "output_type": "execute_result",
          "data": {
            "text/plain": [
              "PassengerId      0\n",
              "Survived         0\n",
              "Pclass           0\n",
              "Name             0\n",
              "Sex              0\n",
              "Age            177\n",
              "SibSp            0\n",
              "Parch            0\n",
              "Ticket           0\n",
              "Fare             0\n",
              "Cabin          687\n",
              "Embarked         2\n",
              "dtype: int64"
            ]
          },
          "metadata": {
            "tags": []
          },
          "execution_count": 7
        }
      ]
    },
    {
      "cell_type": "code",
      "metadata": {
        "id": "sw_9EhKNNacW",
        "outputId": "5147257a-e08d-4dc6-fa59-b0ec9e158f1f",
        "colab": {
          "base_uri": "https://localhost:8080/"
        }
      },
      "source": [
        "df_test.isnull().sum()"
      ],
      "execution_count": 8,
      "outputs": [
        {
          "output_type": "execute_result",
          "data": {
            "text/plain": [
              "PassengerId      0\n",
              "Pclass           0\n",
              "Name             0\n",
              "Sex              0\n",
              "Age             86\n",
              "SibSp            0\n",
              "Parch            0\n",
              "Ticket           0\n",
              "Fare             1\n",
              "Cabin          327\n",
              "Embarked         0\n",
              "dtype: int64"
            ]
          },
          "metadata": {
            "tags": []
          },
          "execution_count": 8
        }
      ]
    },
    {
      "cell_type": "code",
      "metadata": {
        "id": "Vx89HyF95aTd",
        "outputId": "ad6d42bc-6f66-4bcd-f35f-2a2a115132b9",
        "colab": {
          "base_uri": "https://localhost:8080/"
        }
      },
      "source": [
        "print(df_train.shape, df_test.shape)"
      ],
      "execution_count": 9,
      "outputs": [
        {
          "output_type": "stream",
          "text": [
            "(891, 12) (418, 11)\n"
          ],
          "name": "stdout"
        }
      ]
    },
    {
      "cell_type": "code",
      "metadata": {
        "id": "D5YPuarG5goS",
        "outputId": "4a4fac6d-7b0d-4610-a4e1-a7a4821a377a",
        "colab": {
          "base_uri": "https://localhost:8080/"
        }
      },
      "source": [
        "# check data types\n",
        "df_train.dtypes"
      ],
      "execution_count": 10,
      "outputs": [
        {
          "output_type": "execute_result",
          "data": {
            "text/plain": [
              "PassengerId      int64\n",
              "Survived         int64\n",
              "Pclass           int64\n",
              "Name            object\n",
              "Sex             object\n",
              "Age            float64\n",
              "SibSp            int64\n",
              "Parch            int64\n",
              "Ticket          object\n",
              "Fare           float64\n",
              "Cabin           object\n",
              "Embarked        object\n",
              "dtype: object"
            ]
          },
          "metadata": {
            "tags": []
          },
          "execution_count": 10
        }
      ]
    },
    {
      "cell_type": "code",
      "metadata": {
        "id": "WrLIzrV07Nrn",
        "outputId": "668ba81c-c709-4962-ac61-29b899278115",
        "colab": {
          "base_uri": "https://localhost:8080/",
          "height": 487
        }
      },
      "source": [
        "# plot a heatmap to see correlations for each pair of variables\n",
        "plt.figure(figsize=(12,8))\n",
        "correlation_matrix = df_train.corr().round(2)\n",
        "sns.heatmap(data=correlation_matrix, annot = True, linewidths= 0.2, cmap=\"RdBu\")\n",
        "plt.show()"
      ],
      "execution_count": 11,
      "outputs": [
        {
          "output_type": "display_data",
          "data": {
            "image/png": "[encoded data removed]",
            "text/plain": [
              "<Figure size 864x576 with 2 Axes>"
            ]
          },
          "metadata": {
            "tags": [],
            "needs_background": "light"
          }
        }
      ]
    },
    {
      "cell_type": "markdown",
      "metadata": {
        "id": "AU-WMvEo904m"
      },
      "source": [
        "**From the heatmap above, positive correlations are found in Pclass and Fare, Pclass and Age, SibSp and Age; negative correlations are found in Parch and Age, Parch and SibSp, Parch and Fare. The collinearity problem is not very significant, so we keep all the features. However, we can surely do some feature engineering.**"
      ]
    },
    {
      "cell_type": "code",
      "metadata": {
        "id": "vmdanLy26Lz4"
      },
      "source": [
        "# create column list of numerical features; we keep age and will impute missing values\n",
        "num_feat = ['Age', 'Fare', 'SibSp', 'Parch']\n",
        "# create column list of categorical features; we drop PassengerId, name and ticket (not quite meaningful in training), \n",
        "# and also cabin (too much missing)\n",
        "categ_feat = ['Sex', 'Pclass', 'Embarked']"
      ],
      "execution_count": 12,
      "outputs": []
    },
    {
      "cell_type": "code",
      "metadata": {
        "id": "zfR3DcyM9YfC"
      },
      "source": [
        "# separate features and label\n",
        "X = df_train.drop(['Survived'], axis=1)\n",
        "y = df_train['Survived']"
      ],
      "execution_count": 13,
      "outputs": []
    },
    {
      "cell_type": "code",
      "metadata": {
        "id": "kB8QTMjLMDcJ"
      },
      "source": [
        "# impute missing values in Embarked with mode\n",
        "imp_mode = SimpleImputer(missing_values=np.nan, strategy='most_frequent')\n",
        "imp_mode.fit(X[['Embarked']])\n",
        "X[['Embarked']] = imp_mode.transform(X[['Embarked']])\n",
        "df_test[['Embarked']] = imp_mode.transform(df_test[['Embarked']])\n",
        "\n",
        "# impute missing values in Age with mean\n",
        "imp_mean = SimpleImputer(missing_values=np.nan, strategy='mean')\n",
        "imp_mean.fit(X[['Age']])\n",
        "X[['Age']] = imp_mean.transform(X[['Age']])\n",
        "df_test[['Age']] = imp_mean.transform(df_test[['Age']])\n",
        "\n",
        "# impute missing value in Fare in df_test with mean\n",
        "imp_mean.fit(df_test[['Fare']])\n",
        "df_test[['Fare']] = imp_mean.transform(df_test[['Fare']])"
      ],
      "execution_count": 14,
      "outputs": []
    },
    {
      "cell_type": "code",
      "metadata": {
        "id": "BCTyNZNFA0Ek"
      },
      "source": [
        "# Dict to Vectorizer to transform features to all numerical, incl categorical variable\n",
        "X = X.drop(['Ticket', 'Cabin', 'PassengerId', 'Name'], axis=1).to_dict(orient='records')\n",
        "vec = DictVectorizer()\n",
        "X = vec.fit_transform(X).toarray()"
      ],
      "execution_count": 15,
      "outputs": []
    },
    {
      "cell_type": "code",
      "metadata": {
        "id": "oDNEwc8QUork"
      },
      "source": [
        "df_test_pid = df_test[['PassengerId']] # save for catenation when submit\n",
        "df_test = df_test.drop(['Ticket', 'Cabin', 'PassengerId', 'Name'], axis=1).to_dict(orient='records')\n",
        "vec = DictVectorizer()\n",
        "df_test = vec.fit_transform(df_test).toarray()"
      ],
      "execution_count": 16,
      "outputs": []
    },
    {
      "cell_type": "code",
      "metadata": {
        "id": "rXeAaDY9_pOp",
        "outputId": "6f9ce90d-29d4-40b8-98e5-30abee97618c",
        "colab": {
          "base_uri": "https://localhost:8080/"
        }
      },
      "source": [
        "# split training data into 80% train and 20% test\n",
        "X_train, X_test, y_train, y_test = train_test_split(X, y, \\\n",
        "                                                    train_size=0.8, test_size=0.2, \\\n",
        "                                                    random_state=42)\n",
        "print(X_train.shape, X_test.shape, y_train.shape, y_test.shape)"
      ],
      "execution_count": 17,
      "outputs": [
        {
          "output_type": "stream",
          "text": [
            "(712, 10) (179, 10) (712,) (179,)\n"
          ],
          "name": "stdout"
        }
      ]
    },
    {
      "cell_type": "code",
      "metadata": {
        "id": "6UieBfMoRzYQ",
        "outputId": "51959eaf-5056-4c6e-dbdc-8cf856a2fe4a",
        "colab": {
          "base_uri": "https://localhost:8080/"
        }
      },
      "source": [
        "# Model 1: Run random forest classifer, tune hyper-parameters with GridSearchCV\n",
        "parameters_grid = {'criterion': ['entropy'], \n",
        "                   'n_estimators': list(range(10, 101, 20)),\n",
        "                   'max_depth': list(range(1,11)),\n",
        "                   'min_samples_leaf': [1,2],\n",
        "                   'min_samples_split': [5,10]}\n",
        "rfc = RandomForestClassifier(random_state=42)\n",
        "cr_val = StratifiedKFold(n_splits=5) # 5 fold cross validation\n",
        "grid_search = GridSearchCV(rfc, param_grid=parameters_grid, cv=cr_val)\n",
        "grid_search.fit(X_train, y_train)\n",
        "\n",
        "print('Best score on training set: {}'.format(grid_search.best_score_.round(3)))\n",
        "print('Best parameters: {}'.format(grid_search.best_params_))"
      ],
      "execution_count": 19,
      "outputs": [
        {
          "output_type": "stream",
          "text": [
            "Best score on training set: 0.833\n",
            "Best parameters: {'criterion': 'entropy', 'max_depth': 6, 'min_samples_leaf': 1, 'min_samples_split': 5, 'n_estimators': 70}\n"
          ],
          "name": "stdout"
        }
      ]
    },
    {
      "cell_type": "code",
      "metadata": {
        "id": "RSUmB5GORzMA",
        "outputId": "80f90d1b-701b-419c-c50a-bfe05c9d9b8a",
        "colab": {
          "base_uri": "https://localhost:8080/"
        }
      },
      "source": [
        "rfc_best = grid_search.best_estimator_\n",
        "print(\"Best random forest model on testing score: {}\".format(rfc_best.score(X_test, y_test).round(3)))"
      ],
      "execution_count": 20,
      "outputs": [
        {
          "output_type": "stream",
          "text": [
            "Best random forest model on testing score: 0.816\n"
          ],
          "name": "stdout"
        }
      ]
    },
    {
      "cell_type": "markdown",
      "metadata": {
        "id": "rFPU9Tj-C_e0"
      },
      "source": [
        "**The Random Forest Classifer has achieved reasonably good score on both training (83.3%) and testing (81.6%), when hyper-parameters are:**\n",
        "\n",
        "**'criterion': 'entropy', 'max_depth': 6, 'min_samples_leaf': 1, 'min_samples_split': 5, 'n_estimators': 70**"
      ]
    },
    {
      "cell_type": "code",
      "metadata": {
        "id": "JpsFQVyqiiVd",
        "outputId": "176f8eb8-59c5-4175-f865-44e258d1cdf0",
        "colab": {
          "base_uri": "https://localhost:8080/"
        }
      },
      "source": [
        "# Model 2: Run gradient boosting classifier, tune hyperparameters with GridSearchCV\n",
        "param_grid_gb = {'loss':['deviance', 'exponential'],\n",
        "                 'learning_rate':np.arange(0.01,0.2,0.01),\n",
        "                 'max_depth':[4,8],\n",
        "                 'max_features': [0.3,0.5]}\n",
        "              \n",
        "gbc = GradientBoostingClassifier(random_state=42)\n",
        "cr_val = StratifiedKFold(n_splits=5)\n",
        "grid_search_gb = GridSearchCV(gbc, param_grid=param_grid_gb, cv=cr_val)\n",
        "grid_search_gb.fit(X_train, y_train)\n",
        "\n",
        "print('Best score on training set: {}'.format((grid_search_gb.best_score_).round(3)))\n",
        "print('Best parameters: {}'.format(grid_search_gb.best_params_))"
      ],
      "execution_count": 21,
      "outputs": [
        {
          "output_type": "stream",
          "text": [
            "Best score on training set: 0.837\n",
            "Best parameters: {'learning_rate': 0.09999999999999999, 'loss': 'exponential', 'max_depth': 4, 'max_features': 0.3}\n"
          ],
          "name": "stdout"
        }
      ]
    },
    {
      "cell_type": "code",
      "metadata": {
        "id": "WjMzDIMXjbd1",
        "outputId": "fca7600f-21be-45fc-a05a-d2608d9b471b",
        "colab": {
          "base_uri": "https://localhost:8080/"
        }
      },
      "source": [
        "gbc_best = grid_search_gb.best_estimator_\n",
        "print(\"Best gradient boosting model on testing score: \", gbc_best.score(X_test, y_test).round(3))"
      ],
      "execution_count": 22,
      "outputs": [
        {
          "output_type": "stream",
          "text": [
            "Best gradient boosting model on testing score:  0.821\n"
          ],
          "name": "stdout"
        }
      ]
    },
    {
      "cell_type": "markdown",
      "metadata": {
        "id": "bl0I5hc3C2LC"
      },
      "source": [
        "**The Grandient Boosting Classifer has achieved better score than Random Forest Classifer. Training score is 83.7% and testing score is 82.1%, when the hyper-parameters are:**\n",
        "\n",
        "**'learning_rate': 0.09999999999999999, 'loss': 'exponential', 'max_depth': 4, 'max_features': 0.3**\n",
        "\n"
      ]
    },
    {
      "cell_type": "code",
      "metadata": {
        "id": "v9JYQle8kp1i",
        "outputId": "1d9d9a5a-7baa-4a84-cf3c-4f640b7dd991",
        "colab": {
          "base_uri": "https://localhost:8080/"
        }
      },
      "source": [
        "# Model 3: Run neural network MLP Classifier, tune hyperparameters with GridSearchCV\n",
        "sc=StandardScaler() # standardscale dataset so it can converge better\n",
        "X_train_scaled = sc.fit_transform(X_train)\n",
        "X_test_scaled = sc.fit_transform(X_test)\n",
        "\n",
        "parameter_space = {\n",
        "    'hidden_layer_sizes': [(10,), (20,10),(10,10)],\n",
        "    'activation': ['tanh', 'relu',\"logistic\"],\n",
        "    'solver': ['sgd', 'adam', 'lbfgs'],\n",
        "    'alpha': [0.0001, 0.05],\n",
        "    'learning_rate': ['constant','adaptive']}\n",
        "\n",
        "mlp = MLPClassifier(max_iter=300, random_state=42)\n",
        "cr_val = StratifiedKFold(n_splits=5)\n",
        "grid_search_mlp = GridSearchCV(mlp, param_grid=parameter_space, n_jobs=-1, cv=cr_val)\n",
        "grid_search_mlp.fit(X_train_scaled, y_train)\n",
        "\n",
        "print('Best score on training set: {}'.format((grid_search_mlp.best_score_).round(3)))\n",
        "print('Best parameters: {}'.format(grid_search_mlp.best_params_))"
      ],
      "execution_count": 23,
      "outputs": [
        {
          "output_type": "stream",
          "text": [
            "Best score on training set: 0.822\n",
            "Best parameters: {'activation': 'relu', 'alpha': 0.0001, 'hidden_layer_sizes': (10, 10), 'learning_rate': 'constant', 'solver': 'adam'}\n"
          ],
          "name": "stdout"
        },
        {
          "output_type": "stream",
          "text": [
            "/usr/local/lib/python3.6/dist-packages/sklearn/neural_network/_multilayer_perceptron.py:571: ConvergenceWarning: Stochastic Optimizer: Maximum iterations (300) reached and the optimization hasn't converged yet.\n",
            "  % self.max_iter, ConvergenceWarning)\n"
          ],
          "name": "stderr"
        }
      ]
    },
    {
      "cell_type": "code",
      "metadata": {
        "id": "5Ap9Pbgf69-h",
        "outputId": "e6a1ffb9-9804-42c3-89af-fcba580f7657",
        "colab": {
          "base_uri": "https://localhost:8080/"
        }
      },
      "source": [
        "mlp_best = grid_search_mlp.best_estimator_\n",
        "print('Best MLP Classifier score on testing set: {}'.format(mlp_best.score(X_test, y_test).round(3)))"
      ],
      "execution_count": 25,
      "outputs": [
        {
          "output_type": "stream",
          "text": [
            "Best MLP Classifier score on testing set: 0.709\n"
          ],
          "name": "stdout"
        }
      ]
    },
    {
      "cell_type": "markdown",
      "metadata": {
        "id": "aOrTrohwCPW5"
      },
      "source": [
        "**The MLP classifier is a bit overfitting and need more tuning. Training score is 82.9% and testing score is 73.7%. It is still performing worse than the Random Forest and Gradient Boosting.**"
      ]
    },
    {
      "cell_type": "markdown",
      "metadata": {
        "id": "qx0H6iFBpaqu"
      },
      "source": [
        "**So far, the best model is Gradient Boosting Classifier**"
      ]
    },
    {
      "cell_type": "code",
      "metadata": {
        "id": "tRDtJtZFoe6-",
        "outputId": "c5e5fe88-2372-40cc-ff11-8c681376e69f",
        "colab": {
          "base_uri": "https://localhost:8080/",
          "height": 407
        }
      },
      "source": [
        "# compute the feature importance to see which features are more important to determine survival\n",
        "feature_importance = gbc_best.feature_importances_\n",
        "sorted_idx = np.argsort(feature_importance)\n",
        "pos = np.arange(sorted_idx.shape[0]) + .5\n",
        "fig = plt.figure(figsize=(12, 6))\n",
        "plt.subplot(1, 2, 1)\n",
        "plt.barh(pos, feature_importance[sorted_idx], align='center')\n",
        "plt.yticks(pos, np.array(vec.feature_names_)[sorted_idx])\n",
        "plt.title('Feature Importance')"
      ],
      "execution_count": 30,
      "outputs": [
        {
          "output_type": "execute_result",
          "data": {
            "text/plain": [
              "Text(0.5, 1.0, 'Feature Importance')"
            ]
          },
          "metadata": {
            "tags": []
          },
          "execution_count": 30
        },
        {
          "output_type": "display_data",
          "data": {
            "image/png": "[encoded data removed]",
            "text/plain": [
              "<Figure size 864x432 with 1 Axes>"
            ]
          },
          "metadata": {
            "tags": [],
            "needs_background": "light"
          }
        }
      ]
    },
    {
      "cell_type": "markdown",
      "metadata": {
        "id": "2z6ePAn4vWxe"
      },
      "source": [
        "**Who are more likely to survive? We conduct some exploration data analysis.**"
      ]
    },
    {
      "cell_type": "code",
      "metadata": {
        "id": "B8M4VVmxvUkU",
        "outputId": "27876ccf-3fc0-4620-ec60-6e6cd266eafc",
        "colab": {
          "base_uri": "https://localhost:8080/",
          "height": 124
        }
      },
      "source": [
        "# sex vs survived\n",
        "pd.crosstab(df_train.Sex, df_train.Survived,margins=True).style.background_gradient(cmap='Blues')"
      ],
      "execution_count": 33,
      "outputs": [
        {
          "output_type": "execute_result",
          "data": {
            "text/html": [
              "<style  type=\"text/css\" >\n",
              "#T_2d3ee0b2_0866_11eb_a4fd_0242ac1c0002row0_col0,#T_2d3ee0b2_0866_11eb_a4fd_0242ac1c0002row0_col2,#T_2d3ee0b2_0866_11eb_a4fd_0242ac1c0002row1_col1{\n",
              "            background-color:  #f7fbff;\n",
              "            color:  #000000;\n",
              "        }#T_2d3ee0b2_0866_11eb_a4fd_0242ac1c0002row0_col1{\n",
              "            background-color:  #60a7d2;\n",
              "            color:  #000000;\n",
              "        }#T_2d3ee0b2_0866_11eb_a4fd_0242ac1c0002row1_col0{\n",
              "            background-color:  #125da6;\n",
              "            color:  #f1f1f1;\n",
              "        }#T_2d3ee0b2_0866_11eb_a4fd_0242ac1c0002row1_col2{\n",
              "            background-color:  #7db8da;\n",
              "            color:  #000000;\n",
              "        }#T_2d3ee0b2_0866_11eb_a4fd_0242ac1c0002row2_col0,#T_2d3ee0b2_0866_11eb_a4fd_0242ac1c0002row2_col1,#T_2d3ee0b2_0866_11eb_a4fd_0242ac1c0002row2_col2{\n",
              "            background-color:  #08306b;\n",
              "            color:  #f1f1f1;\n",
              "        }</style><table id=\"T_2d3ee0b2_0866_11eb_a4fd_0242ac1c0002\" ><thead>    <tr>        <th class=\"index_name level0\" >Survived</th>        <th class=\"col_heading level0 col0\" >0</th>        <th class=\"col_heading level0 col1\" >1</th>        <th class=\"col_heading level0 col2\" >All</th>    </tr>    <tr>        <th class=\"index_name level0\" >Sex</th>        <th class=\"blank\" ></th>        <th class=\"blank\" ></th>        <th class=\"blank\" ></th>    </tr></thead><tbody>\n",
              "                <tr>\n",
              "                        <th id=\"T_2d3ee0b2_0866_11eb_a4fd_0242ac1c0002level0_row0\" class=\"row_heading level0 row0\" >female</th>\n",
              "                        <td id=\"T_2d3ee0b2_0866_11eb_a4fd_0242ac1c0002row0_col0\" class=\"data row0 col0\" >81</td>\n",
              "                        <td id=\"T_2d3ee0b2_0866_11eb_a4fd_0242ac1c0002row0_col1\" class=\"data row0 col1\" >233</td>\n",
              "                        <td id=\"T_2d3ee0b2_0866_11eb_a4fd_0242ac1c0002row0_col2\" class=\"data row0 col2\" >314</td>\n",
              "            </tr>\n",
              "            <tr>\n",
              "                        <th id=\"T_2d3ee0b2_0866_11eb_a4fd_0242ac1c0002level0_row1\" class=\"row_heading level0 row1\" >male</th>\n",
              "                        <td id=\"T_2d3ee0b2_0866_11eb_a4fd_0242ac1c0002row1_col0\" class=\"data row1 col0\" >468</td>\n",
              "                        <td id=\"T_2d3ee0b2_0866_11eb_a4fd_0242ac1c0002row1_col1\" class=\"data row1 col1\" >109</td>\n",
              "                        <td id=\"T_2d3ee0b2_0866_11eb_a4fd_0242ac1c0002row1_col2\" class=\"data row1 col2\" >577</td>\n",
              "            </tr>\n",
              "            <tr>\n",
              "                        <th id=\"T_2d3ee0b2_0866_11eb_a4fd_0242ac1c0002level0_row2\" class=\"row_heading level0 row2\" >All</th>\n",
              "                        <td id=\"T_2d3ee0b2_0866_11eb_a4fd_0242ac1c0002row2_col0\" class=\"data row2 col0\" >549</td>\n",
              "                        <td id=\"T_2d3ee0b2_0866_11eb_a4fd_0242ac1c0002row2_col1\" class=\"data row2 col1\" >342</td>\n",
              "                        <td id=\"T_2d3ee0b2_0866_11eb_a4fd_0242ac1c0002row2_col2\" class=\"data row2 col2\" >891</td>\n",
              "            </tr>\n",
              "    </tbody></table>"
            ],
            "text/plain": [
              "<pandas.io.formats.style.Styler at 0x7f6cc743b7f0>"
            ]
          },
          "metadata": {
            "tags": []
          },
          "execution_count": 33
        }
      ]
    },
    {
      "cell_type": "code",
      "metadata": {
        "id": "l7cWM-uQvVYt",
        "outputId": "7ad78c1a-4e7f-46a5-927d-3323e057bbbb",
        "colab": {
          "base_uri": "https://localhost:8080/",
          "height": 296
        }
      },
      "source": [
        "sns.countplot(x='Sex',hue='Survived',data=df_train)"
      ],
      "execution_count": 40,
      "outputs": [
        {
          "output_type": "execute_result",
          "data": {
            "text/plain": [
              "<matplotlib.axes._subplots.AxesSubplot at 0x7f6cc55d7390>"
            ]
          },
          "metadata": {
            "tags": []
          },
          "execution_count": 40
        },
        {
          "output_type": "display_data",
          "data": {
            "image/png": "[encoded data removed]",
            "text/plain": [
              "<Figure size 432x288 with 1 Axes>"
            ]
          },
          "metadata": {
            "tags": [],
            "needs_background": "light"
          }
        }
      ]
    },
    {
      "cell_type": "code",
      "metadata": {
        "id": "AUBBN3HBvVuC",
        "outputId": "b1158462-e966-4e9a-94fb-9cc26a904b35",
        "colab": {
          "base_uri": "https://localhost:8080/",
          "height": 400
        }
      },
      "source": [
        "sns.catplot(x='Sex', y='Survived', data=df_train, kind='point')"
      ],
      "execution_count": 41,
      "outputs": [
        {
          "output_type": "execute_result",
          "data": {
            "text/plain": [
              "<seaborn.axisgrid.FacetGrid at 0x7f6cc557ddd8>"
            ]
          },
          "metadata": {
            "tags": []
          },
          "execution_count": 41
        },
        {
          "output_type": "display_data",
          "data": {
            "image/png": "[encoded data removed]",
            "text/plain": [
              "<Figure size 360x360 with 1 Axes>"
            ]
          },
          "metadata": {
            "tags": [],
            "needs_background": "light"
          }
        }
      ]
    },
    {
      "cell_type": "code",
      "metadata": {
        "id": "CEX1U3uvvVNW",
        "outputId": "6ce42fbd-3090-4e97-dede-45bf62c58f37",
        "colab": {
          "base_uri": "https://localhost:8080/",
          "height": 145
        }
      },
      "source": [
        "# pclass vs survived\n",
        "pd.crosstab(df_train.Pclass,df_train.Survived,margins=True).style.background_gradient(cmap='Blues')"
      ],
      "execution_count": 36,
      "outputs": [
        {
          "output_type": "execute_result",
          "data": {
            "text/html": [
              "<style  type=\"text/css\" >\n",
              "#T_6d772180_0866_11eb_a4fd_0242ac1c0002row0_col0,#T_6d772180_0866_11eb_a4fd_0242ac1c0002row1_col1,#T_6d772180_0866_11eb_a4fd_0242ac1c0002row1_col2{\n",
              "            background-color:  #f7fbff;\n",
              "            color:  #000000;\n",
              "        }#T_6d772180_0866_11eb_a4fd_0242ac1c0002row0_col1{\n",
              "            background-color:  #d1e2f3;\n",
              "            color:  #000000;\n",
              "        }#T_6d772180_0866_11eb_a4fd_0242ac1c0002row0_col2{\n",
              "            background-color:  #eef5fc;\n",
              "            color:  #000000;\n",
              "        }#T_6d772180_0866_11eb_a4fd_0242ac1c0002row1_col0{\n",
              "            background-color:  #f0f6fd;\n",
              "            color:  #000000;\n",
              "        }#T_6d772180_0866_11eb_a4fd_0242ac1c0002row2_col0{\n",
              "            background-color:  #4292c6;\n",
              "            color:  #000000;\n",
              "        }#T_6d772180_0866_11eb_a4fd_0242ac1c0002row2_col1{\n",
              "            background-color:  #deebf7;\n",
              "            color:  #000000;\n",
              "        }#T_6d772180_0866_11eb_a4fd_0242ac1c0002row2_col2{\n",
              "            background-color:  #85bcdc;\n",
              "            color:  #000000;\n",
              "        }#T_6d772180_0866_11eb_a4fd_0242ac1c0002row3_col0,#T_6d772180_0866_11eb_a4fd_0242ac1c0002row3_col1,#T_6d772180_0866_11eb_a4fd_0242ac1c0002row3_col2{\n",
              "            background-color:  #08306b;\n",
              "            color:  #f1f1f1;\n",
              "        }</style><table id=\"T_6d772180_0866_11eb_a4fd_0242ac1c0002\" ><thead>    <tr>        <th class=\"index_name level0\" >Survived</th>        <th class=\"col_heading level0 col0\" >0</th>        <th class=\"col_heading level0 col1\" >1</th>        <th class=\"col_heading level0 col2\" >All</th>    </tr>    <tr>        <th class=\"index_name level0\" >Pclass</th>        <th class=\"blank\" ></th>        <th class=\"blank\" ></th>        <th class=\"blank\" ></th>    </tr></thead><tbody>\n",
              "                <tr>\n",
              "                        <th id=\"T_6d772180_0866_11eb_a4fd_0242ac1c0002level0_row0\" class=\"row_heading level0 row0\" >1</th>\n",
              "                        <td id=\"T_6d772180_0866_11eb_a4fd_0242ac1c0002row0_col0\" class=\"data row0 col0\" >80</td>\n",
              "                        <td id=\"T_6d772180_0866_11eb_a4fd_0242ac1c0002row0_col1\" class=\"data row0 col1\" >136</td>\n",
              "                        <td id=\"T_6d772180_0866_11eb_a4fd_0242ac1c0002row0_col2\" class=\"data row0 col2\" >216</td>\n",
              "            </tr>\n",
              "            <tr>\n",
              "                        <th id=\"T_6d772180_0866_11eb_a4fd_0242ac1c0002level0_row1\" class=\"row_heading level0 row1\" >2</th>\n",
              "                        <td id=\"T_6d772180_0866_11eb_a4fd_0242ac1c0002row1_col0\" class=\"data row1 col0\" >97</td>\n",
              "                        <td id=\"T_6d772180_0866_11eb_a4fd_0242ac1c0002row1_col1\" class=\"data row1 col1\" >87</td>\n",
              "                        <td id=\"T_6d772180_0866_11eb_a4fd_0242ac1c0002row1_col2\" class=\"data row1 col2\" >184</td>\n",
              "            </tr>\n",
              "            <tr>\n",
              "                        <th id=\"T_6d772180_0866_11eb_a4fd_0242ac1c0002level0_row2\" class=\"row_heading level0 row2\" >3</th>\n",
              "                        <td id=\"T_6d772180_0866_11eb_a4fd_0242ac1c0002row2_col0\" class=\"data row2 col0\" >372</td>\n",
              "                        <td id=\"T_6d772180_0866_11eb_a4fd_0242ac1c0002row2_col1\" class=\"data row2 col1\" >119</td>\n",
              "                        <td id=\"T_6d772180_0866_11eb_a4fd_0242ac1c0002row2_col2\" class=\"data row2 col2\" >491</td>\n",
              "            </tr>\n",
              "            <tr>\n",
              "                        <th id=\"T_6d772180_0866_11eb_a4fd_0242ac1c0002level0_row3\" class=\"row_heading level0 row3\" >All</th>\n",
              "                        <td id=\"T_6d772180_0866_11eb_a4fd_0242ac1c0002row3_col0\" class=\"data row3 col0\" >549</td>\n",
              "                        <td id=\"T_6d772180_0866_11eb_a4fd_0242ac1c0002row3_col1\" class=\"data row3 col1\" >342</td>\n",
              "                        <td id=\"T_6d772180_0866_11eb_a4fd_0242ac1c0002row3_col2\" class=\"data row3 col2\" >891</td>\n",
              "            </tr>\n",
              "    </tbody></table>"
            ],
            "text/plain": [
              "<pandas.io.formats.style.Styler at 0x7f6cc74ba9e8>"
            ]
          },
          "metadata": {
            "tags": []
          },
          "execution_count": 36
        }
      ]
    },
    {
      "cell_type": "code",
      "metadata": {
        "id": "i-iVJC5TwAT0",
        "outputId": "3b86acd9-1848-4e06-e22d-834859bafc65",
        "colab": {
          "base_uri": "https://localhost:8080/",
          "height": 296
        }
      },
      "source": [
        "sns.countplot(x='Pclass',hue='Survived',data=df_train)"
      ],
      "execution_count": 39,
      "outputs": [
        {
          "output_type": "execute_result",
          "data": {
            "text/plain": [
              "<matplotlib.axes._subplots.AxesSubplot at 0x7f6cc75d7048>"
            ]
          },
          "metadata": {
            "tags": []
          },
          "execution_count": 39
        },
        {
          "output_type": "display_data",
          "data": {
            "image/png": "[encoded data removed]",
            "text/plain": [
              "<Figure size 432x288 with 1 Axes>"
            ]
          },
          "metadata": {
            "tags": [],
            "needs_background": "light"
          }
        }
      ]
    },
    {
      "cell_type": "code",
      "metadata": {
        "id": "tSfjCtkCwA2T",
        "outputId": "f579a3ff-d189-40af-8eae-e88b4e8ecef4",
        "colab": {
          "base_uri": "https://localhost:8080/",
          "height": 454
        }
      },
      "source": [
        "sns.catplot('Pclass', 'Survived', data=df_train, kind='point')"
      ],
      "execution_count": 42,
      "outputs": [
        {
          "output_type": "stream",
          "text": [
            "/usr/local/lib/python3.6/dist-packages/seaborn/_decorators.py:43: FutureWarning: Pass the following variables as keyword args: x, y. From version 0.12, the only valid positional argument will be `data`, and passing other arguments without an explicit keyword will result in an error or misinterpretation.\n",
            "  FutureWarning\n"
          ],
          "name": "stderr"
        },
        {
          "output_type": "execute_result",
          "data": {
            "text/plain": [
              "<seaborn.axisgrid.FacetGrid at 0x7f6cc75d3278>"
            ]
          },
          "metadata": {
            "tags": []
          },
          "execution_count": 42
        },
        {
          "output_type": "display_data",
          "data": {
            "image/png": "[encoded data removed]",
            "text/plain": [
              "<Figure size 360x360 with 1 Axes>"
            ]
          },
          "metadata": {
            "tags": [],
            "needs_background": "light"
          }
        }
      ]
    },
    {
      "cell_type": "code",
      "metadata": {
        "id": "6ZjSMI3TwWQ1",
        "outputId": "9f599e5b-6d6b-44fc-fbc7-a4ec54322367",
        "colab": {
          "base_uri": "https://localhost:8080/",
          "height": 400
        }
      },
      "source": [
        "sns.catplot(x='Pclass', y='Survived', hue='Sex', data=df_train, kind='point')"
      ],
      "execution_count": 43,
      "outputs": [
        {
          "output_type": "execute_result",
          "data": {
            "text/plain": [
              "<seaborn.axisgrid.FacetGrid at 0x7f6cc766d908>"
            ]
          },
          "metadata": {
            "tags": []
          },
          "execution_count": 43
        },
        {
          "output_type": "display_data",
          "data": {
            "image/png": "[encoded data removed]",
            "text/plain": [
              "<Figure size 430.5x360 with 1 Axes>"
            ]
          },
          "metadata": {
            "tags": [],
            "needs_background": "light"
          }
        }
      ]
    },
    {
      "cell_type": "code",
      "metadata": {
        "id": "-cOXLQ9xwWUi",
        "outputId": "426e338f-5df3-4ea0-dfb0-7ac2d99743de",
        "colab": {
          "base_uri": "https://localhost:8080/",
          "height": 145
        }
      },
      "source": [
        "# embarked vs survived\n",
        "pd.crosstab(df_train.Embarked,df_train.Survived,margins=True).style.background_gradient(cmap='Blues')"
      ],
      "execution_count": 45,
      "outputs": [
        {
          "output_type": "execute_result",
          "data": {
            "text/html": [
              "<style  type=\"text/css\" >\n",
              "#T_dbf179b2_0866_11eb_a4fd_0242ac1c0002row0_col0{\n",
              "            background-color:  #ecf4fb;\n",
              "            color:  #000000;\n",
              "        }#T_dbf179b2_0866_11eb_a4fd_0242ac1c0002row0_col1{\n",
              "            background-color:  #cfe1f2;\n",
              "            color:  #000000;\n",
              "        }#T_dbf179b2_0866_11eb_a4fd_0242ac1c0002row0_col2{\n",
              "            background-color:  #e1edf8;\n",
              "            color:  #000000;\n",
              "        }#T_dbf179b2_0866_11eb_a4fd_0242ac1c0002row1_col0,#T_dbf179b2_0866_11eb_a4fd_0242ac1c0002row1_col1,#T_dbf179b2_0866_11eb_a4fd_0242ac1c0002row1_col2{\n",
              "            background-color:  #f7fbff;\n",
              "            color:  #000000;\n",
              "        }#T_dbf179b2_0866_11eb_a4fd_0242ac1c0002row2_col0{\n",
              "            background-color:  #206fb4;\n",
              "            color:  #f1f1f1;\n",
              "        }#T_dbf179b2_0866_11eb_a4fd_0242ac1c0002row2_col1{\n",
              "            background-color:  #4997c9;\n",
              "            color:  #000000;\n",
              "        }#T_dbf179b2_0866_11eb_a4fd_0242ac1c0002row2_col2{\n",
              "            background-color:  #2f7fbc;\n",
              "            color:  #000000;\n",
              "        }#T_dbf179b2_0866_11eb_a4fd_0242ac1c0002row3_col0,#T_dbf179b2_0866_11eb_a4fd_0242ac1c0002row3_col1,#T_dbf179b2_0866_11eb_a4fd_0242ac1c0002row3_col2{\n",
              "            background-color:  #08306b;\n",
              "            color:  #f1f1f1;\n",
              "        }</style><table id=\"T_dbf179b2_0866_11eb_a4fd_0242ac1c0002\" ><thead>    <tr>        <th class=\"index_name level0\" >Survived</th>        <th class=\"col_heading level0 col0\" >0</th>        <th class=\"col_heading level0 col1\" >1</th>        <th class=\"col_heading level0 col2\" >All</th>    </tr>    <tr>        <th class=\"index_name level0\" >Embarked</th>        <th class=\"blank\" ></th>        <th class=\"blank\" ></th>        <th class=\"blank\" ></th>    </tr></thead><tbody>\n",
              "                <tr>\n",
              "                        <th id=\"T_dbf179b2_0866_11eb_a4fd_0242ac1c0002level0_row0\" class=\"row_heading level0 row0\" >C</th>\n",
              "                        <td id=\"T_dbf179b2_0866_11eb_a4fd_0242ac1c0002row0_col0\" class=\"data row0 col0\" >75</td>\n",
              "                        <td id=\"T_dbf179b2_0866_11eb_a4fd_0242ac1c0002row0_col1\" class=\"data row0 col1\" >93</td>\n",
              "                        <td id=\"T_dbf179b2_0866_11eb_a4fd_0242ac1c0002row0_col2\" class=\"data row0 col2\" >168</td>\n",
              "            </tr>\n",
              "            <tr>\n",
              "                        <th id=\"T_dbf179b2_0866_11eb_a4fd_0242ac1c0002level0_row1\" class=\"row_heading level0 row1\" >Q</th>\n",
              "                        <td id=\"T_dbf179b2_0866_11eb_a4fd_0242ac1c0002row1_col0\" class=\"data row1 col0\" >47</td>\n",
              "                        <td id=\"T_dbf179b2_0866_11eb_a4fd_0242ac1c0002row1_col1\" class=\"data row1 col1\" >30</td>\n",
              "                        <td id=\"T_dbf179b2_0866_11eb_a4fd_0242ac1c0002row1_col2\" class=\"data row1 col2\" >77</td>\n",
              "            </tr>\n",
              "            <tr>\n",
              "                        <th id=\"T_dbf179b2_0866_11eb_a4fd_0242ac1c0002level0_row2\" class=\"row_heading level0 row2\" >S</th>\n",
              "                        <td id=\"T_dbf179b2_0866_11eb_a4fd_0242ac1c0002row2_col0\" class=\"data row2 col0\" >427</td>\n",
              "                        <td id=\"T_dbf179b2_0866_11eb_a4fd_0242ac1c0002row2_col1\" class=\"data row2 col1\" >217</td>\n",
              "                        <td id=\"T_dbf179b2_0866_11eb_a4fd_0242ac1c0002row2_col2\" class=\"data row2 col2\" >644</td>\n",
              "            </tr>\n",
              "            <tr>\n",
              "                        <th id=\"T_dbf179b2_0866_11eb_a4fd_0242ac1c0002level0_row3\" class=\"row_heading level0 row3\" >All</th>\n",
              "                        <td id=\"T_dbf179b2_0866_11eb_a4fd_0242ac1c0002row3_col0\" class=\"data row3 col0\" >549</td>\n",
              "                        <td id=\"T_dbf179b2_0866_11eb_a4fd_0242ac1c0002row3_col1\" class=\"data row3 col1\" >340</td>\n",
              "                        <td id=\"T_dbf179b2_0866_11eb_a4fd_0242ac1c0002row3_col2\" class=\"data row3 col2\" >889</td>\n",
              "            </tr>\n",
              "    </tbody></table>"
            ],
            "text/plain": [
              "<pandas.io.formats.style.Styler at 0x7f6cc544bc18>"
            ]
          },
          "metadata": {
            "tags": []
          },
          "execution_count": 45
        }
      ]
    },
    {
      "cell_type": "code",
      "metadata": {
        "id": "uKk56tjuwWK0",
        "outputId": "a0d0ff9e-eea7-415e-8d60-c95d026253b4",
        "colab": {
          "base_uri": "https://localhost:8080/",
          "height": 296
        }
      },
      "source": [
        "sns.countplot(x='Embarked', hue= 'Survived',data=df_train)"
      ],
      "execution_count": 46,
      "outputs": [
        {
          "output_type": "execute_result",
          "data": {
            "text/plain": [
              "<matplotlib.axes._subplots.AxesSubplot at 0x7f6cc5402550>"
            ]
          },
          "metadata": {
            "tags": []
          },
          "execution_count": 46
        },
        {
          "output_type": "display_data",
          "data": {
            "image/png": "[encoded data removed]",
            "text/plain": [
              "<Figure size 432x288 with 1 Axes>"
            ]
          },
          "metadata": {
            "tags": [],
            "needs_background": "light"
          }
        }
      ]
    },
    {
      "cell_type": "code",
      "metadata": {
        "id": "-bYKYxDbwAst",
        "outputId": "f598fa4e-7375-4336-b19f-cf0f6866d8de",
        "colab": {
          "base_uri": "https://localhost:8080/",
          "height": 400
        }
      },
      "source": [
        "sns.catplot(x='Embarked', y='Survived', data=df_train, kind='point')"
      ],
      "execution_count": 48,
      "outputs": [
        {
          "output_type": "execute_result",
          "data": {
            "text/plain": [
              "<seaborn.axisgrid.FacetGrid at 0x7f6cc54032b0>"
            ]
          },
          "metadata": {
            "tags": []
          },
          "execution_count": 48
        },
        {
          "output_type": "display_data",
          "data": {
            "image/png": "[encoded data removed]",
            "text/plain": [
              "<Figure size 360x360 with 1 Axes>"
            ]
          },
          "metadata": {
            "tags": [],
            "needs_background": "light"
          }
        }
      ]
    },
    {
      "cell_type": "code",
      "metadata": {
        "id": "aimCgLTmw6en",
        "outputId": "9a776fd5-c32c-4eab-8fcd-7910cbc6f156",
        "colab": {
          "base_uri": "https://localhost:8080/",
          "height": 400
        }
      },
      "source": [
        "sns.catplot(x='Embarked', y='Survived', hue='Pclass', data=df_train, kind='point')"
      ],
      "execution_count": 49,
      "outputs": [
        {
          "output_type": "execute_result",
          "data": {
            "text/plain": [
              "<seaborn.axisgrid.FacetGrid at 0x7f6ccae54eb8>"
            ]
          },
          "metadata": {
            "tags": []
          },
          "execution_count": 49
        },
        {
          "output_type": "display_data",
          "data": {
            "image/png": "[encoded data removed]",
            "text/plain": [
              "<Figure size 402.375x360 with 1 Axes>"
            ]
          },
          "metadata": {
            "tags": [],
            "needs_background": "light"
          }
        }
      ]
    },
    {
      "cell_type": "markdown",
      "metadata": {
        "id": "hJqUTA3yxAT4"
      },
      "source": [
        "**Observations about survival:**\n",
        "\n",
        "Female is more likely to survive than male in general and in segments of Pclass and Embarked. Sex is a very important feature for modeling.\n",
        "\n",
        "Pclass 1 is more likely to survive than lower classes. This trend hold true for Pclass 1 and 3, but slightly different for Pclass 2. Still, Pclass is an important feature.\n",
        "\n",
        "Embarking from C port is most likely to survive. However, the ranking of survival for male is C, S, Q and for female is C, Q, S. Overall, Embarked is also important feature."
      ]
    },
    {
      "cell_type": "code",
      "metadata": {
        "id": "gP1bS2tEpMVe",
        "outputId": "75f48352-8069-435e-8be2-bea09ecfbf76",
        "colab": {
          "base_uri": "https://localhost:8080/",
          "height": 204
        }
      },
      "source": [
        "# save result to dataframe submission\n",
        "submission = df_test_pid\n",
        "submission['Survived'] = gbc_best.predict(df_test)\n",
        "submission.head()"
      ],
      "execution_count": 31,
      "outputs": [
        {
          "output_type": "execute_result",
          "data": {
            "text/html": [
              "<div>\n",
              "<style scoped>\n",
              "    .dataframe tbody tr th:only-of-type {\n",
              "        vertical-align: middle;\n",
              "    }\n",
              "\n",
              "    .dataframe tbody tr th {\n",
              "        vertical-align: top;\n",
              "    }\n",
              "\n",
              "    .dataframe thead th {\n",
              "        text-align: right;\n",
              "    }\n",
              "</style>\n",
              "<table border=\"1\" class=\"dataframe\">\n",
              "  <thead>\n",
              "    <tr style=\"text-align: right;\">\n",
              "      <th></th>\n",
              "      <th>PassengerId</th>\n",
              "      <th>Survived</th>\n",
              "    </tr>\n",
              "  </thead>\n",
              "  <tbody>\n",
              "    <tr>\n",
              "      <th>0</th>\n",
              "      <td>892</td>\n",
              "      <td>0</td>\n",
              "    </tr>\n",
              "    <tr>\n",
              "      <th>1</th>\n",
              "      <td>893</td>\n",
              "      <td>0</td>\n",
              "    </tr>\n",
              "    <tr>\n",
              "      <th>2</th>\n",
              "      <td>894</td>\n",
              "      <td>0</td>\n",
              "    </tr>\n",
              "    <tr>\n",
              "      <th>3</th>\n",
              "      <td>895</td>\n",
              "      <td>0</td>\n",
              "    </tr>\n",
              "    <tr>\n",
              "      <th>4</th>\n",
              "      <td>896</td>\n",
              "      <td>0</td>\n",
              "    </tr>\n",
              "  </tbody>\n",
              "</table>\n",
              "</div>"
            ],
            "text/plain": [
              "   PassengerId  Survived\n",
              "0          892         0\n",
              "1          893         0\n",
              "2          894         0\n",
              "3          895         0\n",
              "4          896         0"
            ]
          },
          "metadata": {
            "tags": []
          },
          "execution_count": 31
        }
      ]
    },
    {
      "cell_type": "code",
      "metadata": {
        "id": "oDiKlSwGBzQ5"
      },
      "source": [
        "# save result as csv file. done!\n",
        "submission.to_csv('submission.csv', index=False)"
      ],
      "execution_count": 32,
      "outputs": []
    }
  ]
}