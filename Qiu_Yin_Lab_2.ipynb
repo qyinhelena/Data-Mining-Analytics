{
 "cells": [
  {
   "cell_type": "markdown",
   "metadata": {
    "colab_type": "text",
    "id": "RTtjzb-C8WfV"
   },
   "source": [
    "Make sure you fill in any place that says `YOUR CODE HERE` or `YOUR ANSWER HERE`, as well as your name below:"
   ]
  },
  {
   "cell_type": "code",
   "execution_count": 7,
   "metadata": {
    "colab": {},
    "colab_type": "code",
    "id": "84YmnDPm8WfX"
   },
   "outputs": [],
   "source": [
    "NAME = \"Yin Qiu\""
   ]
  },
  {
   "cell_type": "markdown",
   "metadata": {
    "colab_type": "text",
    "id": "mPzgt7538Wfe"
   },
   "source": [
    "---"
   ]
  },
  {
   "cell_type": "markdown",
   "metadata": {
    "colab_type": "text",
    "deletable": false,
    "editable": false,
    "id": "a84b7eS58Wff",
    "nbgrader": {
     "checksum": "421e2e076e4bd859041d2c49e8c1b374",
     "grade": false,
     "grade_id": "cell-9ca594c076da14a9",
     "locked": true,
     "schema_version": 1,
     "solution": false
    }
   },
   "source": [
    "# Lab 2: Clustering ##\n",
    "\n",
    "**Please read the following instructions very carefully**\n",
    "\n",
    "## About the Dataset\n",
    "The dataset for this lab has been created from some custom features from Lab 1. The columns are named as q1, q2....etc. A description of the features can be found at this link: https://docs.google.com/spreadsheets/d/18wwyjGku2HYfgDX9Vez64lGHz31E_PfbpmAdfb7ly6M/edit?usp=sharing\n",
    "\n",
    "## Working on the assignment / FAQs\n",
    "- **Always use the seed/random_state as *42* wherever applicable** (This is to ensure repeatability in answers, across students and coding environments) \n",
    "- Questions can be either autograded and manually graded.\n",
    "- The type of question and the points they carry are indicated in each question cell\n",
    "- An autograded question has 3 cells\n",
    "     - **Question cell** : Read only cell containing the question\n",
    "     - **Code Cell** : This is where you write the code\n",
    "     - **Grading cell** : This is where the grading occurs, and **you are required not to edit this cell**\n",
    "- Manually graded questions only have the question and code cells.\n",
    "- To avoid any ambiguity, each question also specifies what *value* the function must return. Note that these are dummy values and not the answers\n",
    "- If an autograded question has multiple answers (due to differences in handling NaNs, zeros etc.), all answers will be considered.\n",
    "- Most assignments have bonus questions for extra credit, do try them out! \n",
    "- You can delete the `raise NotImplementedError()` for all manually graded questions.\n",
    "- **Submitting the assignment** : Download the '.ipynb' file from Colab and upload it to canvas. Do not delete any outputs from cells before submitting.\n",
    "- That's about it. Happy coding! "
   ]
  },
  {
   "cell_type": "code",
   "execution_count": 8,
   "metadata": {
    "colab": {
     "base_uri": "https://localhost:8080/",
     "height": 306
    },
    "colab_type": "code",
    "deletable": false,
    "editable": false,
    "id": "uS-ZiJUd8Wfg",
    "nbgrader": {
     "checksum": "ccd093de0c01c601220c82809d785907",
     "grade": false,
     "grade_id": "cell-11a8a6cab098e8a1",
     "locked": true,
     "schema_version": 1,
     "solution": false
    },
    "outputId": "6316a857-2a52-43ba-9fec-8ce69321cb19"
   },
   "outputs": [
    {
     "name": "stdout",
     "output_type": "stream",
     "text": [
      "URL transformed to HTTPS due to an HSTS policy\n",
      "File ‘yelp_reviewers.zip’ already there; not retrieving.\n",
      "\n",
      "Archive:  yelp_reviewers.zip\n",
      "Dataset Downloaded: yelp_reviewers.csv\n",
      "                q3           q4  ...        q16ab        q16ac\n",
      "count  7177.000000  7177.000000  ...  7177.000000  7177.000000\n",
      "mean      6.838651     5.281455  ...     1.127751     3.649254\n",
      "std       7.597977    16.208703  ...     4.652206     0.977100\n",
      "min       1.000000     1.000000  ...     0.000000     1.000000\n",
      "25%       3.000000     1.000000  ...     0.000000     3.200000\n",
      "50%       5.000000     2.000000  ...     0.500000     3.777778\n",
      "75%       9.000000     4.000000  ...     1.307692     4.333333\n",
      "max     252.000000   607.000000  ...   342.300000     5.000000\n",
      "\n",
      "[8 rows x 40 columns]\n",
      "....SETUP COMPLETE....\n"
     ]
    }
   ],
   "source": [
    "import pandas as pd\n",
    "import collections\n",
    "from sklearn.cluster import KMeans\n",
    "from sklearn.metrics import silhouette_score\n",
    "import numpy as np\n",
    "from sklearn.preprocessing import normalize\n",
    "\n",
    "import matplotlib\n",
    "import matplotlib.pyplot as plt\n",
    "\n",
    "%matplotlib inline\n",
    "matplotlib.style.use('ggplot')\n",
    "\n",
    "\n",
    "\n",
    "#DOWNLOADING DATASET\n",
    "!wget -nc http://people.ischool.berkeley.edu/~zp/course_datasets/yelp_reviewers.zip\n",
    "!unzip -u yelp_reviewers.zip\n",
    "print('Dataset Downloaded: yelp_reviewers.csv')\n",
    "df = pd.read_csv('yelp_reviewers.csv')\n",
    "df = df.sample(frac=0.3, random_state=42)\n",
    "print(df.dropna().describe())\n",
    "\n",
    "print('....SETUP COMPLETE....')"
   ]
  },
  {
   "cell_type": "code",
   "execution_count": 9,
   "metadata": {
    "colab": {
     "base_uri": "https://localhost:8080/",
     "height": 1000
    },
    "colab_type": "code",
    "id": "ANCMpJ178foc",
    "outputId": "dfcb1423-c494-4f04-ca2b-7cf7d1740300"
   },
   "outputs": [
    {
     "data": {
      "text/html": [
       "<div>\n",
       "<style scoped>\n",
       "    .dataframe tbody tr th:only-of-type {\n",
       "        vertical-align: middle;\n",
       "    }\n",
       "\n",
       "    .dataframe tbody tr th {\n",
       "        vertical-align: top;\n",
       "    }\n",
       "\n",
       "    .dataframe thead th {\n",
       "        text-align: right;\n",
       "    }\n",
       "</style>\n",
       "<table border=\"1\" class=\"dataframe\">\n",
       "  <thead>\n",
       "    <tr style=\"text-align: right;\">\n",
       "      <th></th>\n",
       "      <th>129451</th>\n",
       "      <th>116706</th>\n",
       "      <th>144394</th>\n",
       "      <th>24699</th>\n",
       "      <th>47453</th>\n",
       "    </tr>\n",
       "  </thead>\n",
       "  <tbody>\n",
       "    <tr>\n",
       "      <th>user_id</th>\n",
       "      <td>kIWQXgjmVdgEs9BOgr8G5A</td>\n",
       "      <td>fXU_-5DBmNlGhI8fbX-2vQ</td>\n",
       "      <td>prF_lbKywPnZhNqvJOOaDw</td>\n",
       "      <td>8GHUeOm807bI5Qh4X3CHBA</td>\n",
       "      <td>Gd_IGX3BmRYbPD84ovLEoA</td>\n",
       "    </tr>\n",
       "    <tr>\n",
       "      <th>q3</th>\n",
       "      <td>1</td>\n",
       "      <td>1</td>\n",
       "      <td>1</td>\n",
       "      <td>1</td>\n",
       "      <td>8</td>\n",
       "    </tr>\n",
       "    <tr>\n",
       "      <th>q4</th>\n",
       "      <td>0</td>\n",
       "      <td>0</td>\n",
       "      <td>0</td>\n",
       "      <td>0</td>\n",
       "      <td>2</td>\n",
       "    </tr>\n",
       "    <tr>\n",
       "      <th>q5</th>\n",
       "      <td>0</td>\n",
       "      <td>0</td>\n",
       "      <td>0</td>\n",
       "      <td>0</td>\n",
       "      <td>1</td>\n",
       "    </tr>\n",
       "    <tr>\n",
       "      <th>q6</th>\n",
       "      <td>0</td>\n",
       "      <td>0</td>\n",
       "      <td>0</td>\n",
       "      <td>0</td>\n",
       "      <td>8</td>\n",
       "    </tr>\n",
       "    <tr>\n",
       "      <th>q7</th>\n",
       "      <td>0</td>\n",
       "      <td>0</td>\n",
       "      <td>0</td>\n",
       "      <td>0</td>\n",
       "      <td>2.08</td>\n",
       "    </tr>\n",
       "    <tr>\n",
       "      <th>q8</th>\n",
       "      <td>NaN</td>\n",
       "      <td>NaN</td>\n",
       "      <td>NaN</td>\n",
       "      <td>NaN</td>\n",
       "      <td>0.69</td>\n",
       "    </tr>\n",
       "    <tr>\n",
       "      <th>q9</th>\n",
       "      <td>NaN</td>\n",
       "      <td>NaN</td>\n",
       "      <td>NaN</td>\n",
       "      <td>NaN</td>\n",
       "      <td>0</td>\n",
       "    </tr>\n",
       "    <tr>\n",
       "      <th>q10</th>\n",
       "      <td>NaN</td>\n",
       "      <td>NaN</td>\n",
       "      <td>NaN</td>\n",
       "      <td>NaN</td>\n",
       "      <td>2.08</td>\n",
       "    </tr>\n",
       "    <tr>\n",
       "      <th>q11</th>\n",
       "      <td>NaN</td>\n",
       "      <td>NaN</td>\n",
       "      <td>NaN</td>\n",
       "      <td>NaN</td>\n",
       "      <td>18.18</td>\n",
       "    </tr>\n",
       "    <tr>\n",
       "      <th>q12</th>\n",
       "      <td>NaN</td>\n",
       "      <td>NaN</td>\n",
       "      <td>NaN</td>\n",
       "      <td>NaN</td>\n",
       "      <td>9.09</td>\n",
       "    </tr>\n",
       "    <tr>\n",
       "      <th>q13</th>\n",
       "      <td>NaN</td>\n",
       "      <td>NaN</td>\n",
       "      <td>NaN</td>\n",
       "      <td>NaN</td>\n",
       "      <td>72.73</td>\n",
       "    </tr>\n",
       "    <tr>\n",
       "      <th>q14</th>\n",
       "      <td>7</td>\n",
       "      <td>10</td>\n",
       "      <td>9</td>\n",
       "      <td>8</td>\n",
       "      <td>10</td>\n",
       "    </tr>\n",
       "    <tr>\n",
       "      <th>q15</th>\n",
       "      <td>510</td>\n",
       "      <td>132</td>\n",
       "      <td>1792</td>\n",
       "      <td>283</td>\n",
       "      <td>663.38</td>\n",
       "    </tr>\n",
       "    <tr>\n",
       "      <th>q16a</th>\n",
       "      <td>0</td>\n",
       "      <td>0</td>\n",
       "      <td>0</td>\n",
       "      <td>0</td>\n",
       "      <td>4</td>\n",
       "    </tr>\n",
       "    <tr>\n",
       "      <th>q16b</th>\n",
       "      <td>0</td>\n",
       "      <td>0</td>\n",
       "      <td>0</td>\n",
       "      <td>0</td>\n",
       "      <td>0.353553</td>\n",
       "    </tr>\n",
       "    <tr>\n",
       "      <th>q16c</th>\n",
       "      <td>0</td>\n",
       "      <td>0</td>\n",
       "      <td>0</td>\n",
       "      <td>0</td>\n",
       "      <td>0.00207273</td>\n",
       "    </tr>\n",
       "    <tr>\n",
       "      <th>q16d</th>\n",
       "      <td>3</td>\n",
       "      <td>1</td>\n",
       "      <td>3</td>\n",
       "      <td>5</td>\n",
       "      <td>4.875</td>\n",
       "    </tr>\n",
       "    <tr>\n",
       "      <th>q16e</th>\n",
       "      <td>0.0137255</td>\n",
       "      <td>0.0454545</td>\n",
       "      <td>0.0273438</td>\n",
       "      <td>0.0176678</td>\n",
       "      <td>0.0229885</td>\n",
       "    </tr>\n",
       "    <tr>\n",
       "      <th>q16f</th>\n",
       "      <td>0</td>\n",
       "      <td>0</td>\n",
       "      <td>0</td>\n",
       "      <td>0</td>\n",
       "      <td>0.330719</td>\n",
       "    </tr>\n",
       "    <tr>\n",
       "      <th>q16g</th>\n",
       "      <td>0</td>\n",
       "      <td>1</td>\n",
       "      <td>1</td>\n",
       "      <td>0</td>\n",
       "      <td>2</td>\n",
       "    </tr>\n",
       "    <tr>\n",
       "      <th>q16h</th>\n",
       "      <td>0</td>\n",
       "      <td>1</td>\n",
       "      <td>1</td>\n",
       "      <td>0</td>\n",
       "      <td>6</td>\n",
       "    </tr>\n",
       "    <tr>\n",
       "      <th>q16i</th>\n",
       "      <td>0</td>\n",
       "      <td>0</td>\n",
       "      <td>0</td>\n",
       "      <td>0</td>\n",
       "      <td>0</td>\n",
       "    </tr>\n",
       "    <tr>\n",
       "      <th>q16j</th>\n",
       "      <td>0</td>\n",
       "      <td>0</td>\n",
       "      <td>0</td>\n",
       "      <td>0</td>\n",
       "      <td>1.375</td>\n",
       "    </tr>\n",
       "    <tr>\n",
       "      <th>q16k</th>\n",
       "      <td>0</td>\n",
       "      <td>0</td>\n",
       "      <td>0</td>\n",
       "      <td>0</td>\n",
       "      <td>1</td>\n",
       "    </tr>\n",
       "    <tr>\n",
       "      <th>q16l</th>\n",
       "      <td>0</td>\n",
       "      <td>0</td>\n",
       "      <td>0</td>\n",
       "      <td>0</td>\n",
       "      <td>0</td>\n",
       "    </tr>\n",
       "    <tr>\n",
       "      <th>q16m</th>\n",
       "      <td>3</td>\n",
       "      <td>0</td>\n",
       "      <td>12</td>\n",
       "      <td>1</td>\n",
       "      <td>4.5</td>\n",
       "    </tr>\n",
       "    <tr>\n",
       "      <th>q16n</th>\n",
       "      <td>0</td>\n",
       "      <td>0</td>\n",
       "      <td>1</td>\n",
       "      <td>0</td>\n",
       "      <td>0.125</td>\n",
       "    </tr>\n",
       "    <tr>\n",
       "      <th>q16o</th>\n",
       "      <td>0</td>\n",
       "      <td>1</td>\n",
       "      <td>1</td>\n",
       "      <td>0</td>\n",
       "      <td>0.75</td>\n",
       "    </tr>\n",
       "    <tr>\n",
       "      <th>q16p</th>\n",
       "      <td>0</td>\n",
       "      <td>0</td>\n",
       "      <td>1</td>\n",
       "      <td>0</td>\n",
       "      <td>1</td>\n",
       "    </tr>\n",
       "    <tr>\n",
       "      <th>q16q</th>\n",
       "      <td>0</td>\n",
       "      <td>0</td>\n",
       "      <td>0</td>\n",
       "      <td>0</td>\n",
       "      <td>0.192489</td>\n",
       "    </tr>\n",
       "    <tr>\n",
       "      <th>q16r</th>\n",
       "      <td>3</td>\n",
       "      <td>1</td>\n",
       "      <td>3</td>\n",
       "      <td>5</td>\n",
       "      <td>5</td>\n",
       "    </tr>\n",
       "    <tr>\n",
       "      <th>q16s</th>\n",
       "      <td>experienced</td>\n",
       "      <td>experienced</td>\n",
       "      <td>experienced</td>\n",
       "      <td>experienced</td>\n",
       "      <td>experienced</td>\n",
       "    </tr>\n",
       "    <tr>\n",
       "      <th>q16t</th>\n",
       "      <td>no</td>\n",
       "      <td>no</td>\n",
       "      <td>no</td>\n",
       "      <td>no</td>\n",
       "      <td>no</td>\n",
       "    </tr>\n",
       "    <tr>\n",
       "      <th>q16u</th>\n",
       "      <td>0</td>\n",
       "      <td>0</td>\n",
       "      <td>2</td>\n",
       "      <td>0</td>\n",
       "      <td>0.375</td>\n",
       "    </tr>\n",
       "    <tr>\n",
       "      <th>q16v</th>\n",
       "      <td>13</td>\n",
       "      <td>35</td>\n",
       "      <td>36</td>\n",
       "      <td>33</td>\n",
       "      <td>8</td>\n",
       "    </tr>\n",
       "    <tr>\n",
       "      <th>q16w</th>\n",
       "      <td>3</td>\n",
       "      <td>1</td>\n",
       "      <td>3</td>\n",
       "      <td>5</td>\n",
       "      <td>39</td>\n",
       "    </tr>\n",
       "    <tr>\n",
       "      <th>q16x</th>\n",
       "      <td>0</td>\n",
       "      <td>0.00757576</td>\n",
       "      <td>0.00168539</td>\n",
       "      <td>0</td>\n",
       "      <td>0.00175505</td>\n",
       "    </tr>\n",
       "    <tr>\n",
       "      <th>q16y</th>\n",
       "      <td>101</td>\n",
       "      <td>23</td>\n",
       "      <td>363</td>\n",
       "      <td>50</td>\n",
       "      <td>91.0729</td>\n",
       "    </tr>\n",
       "    <tr>\n",
       "      <th>q16z</th>\n",
       "      <td>0</td>\n",
       "      <td>0</td>\n",
       "      <td>0</td>\n",
       "      <td>0</td>\n",
       "      <td>4</td>\n",
       "    </tr>\n",
       "    <tr>\n",
       "      <th>q16aa</th>\n",
       "      <td>0</td>\n",
       "      <td>0</td>\n",
       "      <td>0</td>\n",
       "      <td>0</td>\n",
       "      <td>0</td>\n",
       "    </tr>\n",
       "    <tr>\n",
       "      <th>q16ab</th>\n",
       "      <td>NaN</td>\n",
       "      <td>0</td>\n",
       "      <td>NaN</td>\n",
       "      <td>2</td>\n",
       "      <td>1</td>\n",
       "    </tr>\n",
       "    <tr>\n",
       "      <th>q16ac</th>\n",
       "      <td>3</td>\n",
       "      <td>1</td>\n",
       "      <td>3</td>\n",
       "      <td>5</td>\n",
       "      <td>4.875</td>\n",
       "    </tr>\n",
       "  </tbody>\n",
       "</table>\n",
       "</div>"
      ],
      "text/plain": [
       "                         129451  ...                  47453 \n",
       "user_id  kIWQXgjmVdgEs9BOgr8G5A  ...  Gd_IGX3BmRYbPD84ovLEoA\n",
       "q3                            1  ...                       8\n",
       "q4                            0  ...                       2\n",
       "q5                            0  ...                       1\n",
       "q6                            0  ...                       8\n",
       "q7                            0  ...                    2.08\n",
       "q8                          NaN  ...                    0.69\n",
       "q9                          NaN  ...                       0\n",
       "q10                         NaN  ...                    2.08\n",
       "q11                         NaN  ...                   18.18\n",
       "q12                         NaN  ...                    9.09\n",
       "q13                         NaN  ...                   72.73\n",
       "q14                           7  ...                      10\n",
       "q15                         510  ...                  663.38\n",
       "q16a                          0  ...                       4\n",
       "q16b                          0  ...                0.353553\n",
       "q16c                          0  ...              0.00207273\n",
       "q16d                          3  ...                   4.875\n",
       "q16e                  0.0137255  ...               0.0229885\n",
       "q16f                          0  ...                0.330719\n",
       "q16g                          0  ...                       2\n",
       "q16h                          0  ...                       6\n",
       "q16i                          0  ...                       0\n",
       "q16j                          0  ...                   1.375\n",
       "q16k                          0  ...                       1\n",
       "q16l                          0  ...                       0\n",
       "q16m                          3  ...                     4.5\n",
       "q16n                          0  ...                   0.125\n",
       "q16o                          0  ...                    0.75\n",
       "q16p                          0  ...                       1\n",
       "q16q                          0  ...                0.192489\n",
       "q16r                          3  ...                       5\n",
       "q16s                experienced  ...             experienced\n",
       "q16t                         no  ...                      no\n",
       "q16u                          0  ...                   0.375\n",
       "q16v                         13  ...                       8\n",
       "q16w                          3  ...                      39\n",
       "q16x                          0  ...              0.00175505\n",
       "q16y                        101  ...                 91.0729\n",
       "q16z                          0  ...                       4\n",
       "q16aa                         0  ...                       0\n",
       "q16ab                       NaN  ...                       1\n",
       "q16ac                         3  ...                   4.875\n",
       "\n",
       "[43 rows x 5 columns]"
      ]
     },
     "execution_count": 9,
     "metadata": {
      "tags": []
     },
     "output_type": "execute_result"
    }
   ],
   "source": [
    "df.head().T"
   ]
  },
  {
   "cell_type": "markdown",
   "metadata": {
    "colab_type": "text",
    "deletable": false,
    "editable": false,
    "id": "mV9fSZv88Wfk",
    "nbgrader": {
     "checksum": "abffba52a1391fd598ceb32fa84a5960",
     "grade": false,
     "grade_id": "cell-91b1f66036bc756a",
     "locked": true,
     "schema_version": 1,
     "solution": false
    }
   },
   "source": [
    "---"
   ]
  },
  {
   "cell_type": "markdown",
   "metadata": {
    "colab_type": "text",
    "deletable": false,
    "editable": false,
    "id": "FyEW1omS8Wfk",
    "nbgrader": {
     "checksum": "9a3601934d89674b0f1ddb8953f392b8",
     "grade": false,
     "grade_id": "cell-3cb43492c95c0336",
     "locked": true,
     "schema_version": 1,
     "solution": false
    }
   },
   "source": [
    "### Question 1 `(1 point)`\n",
    "What is the best choice of k according to the silhouette metric for clustering q4-q6? Only consider 2 <= k <= 8. \n",
    "\n",
    "\n",
    "**NOTE**: For features with high variance, empty clusters can occur. There are several ways of dealing with empty clusters. A common approach is to drop empty clusters, the prefered approach for this Lab is to treat the empty cluster as a “singleton” leaving it empty with a single point placeholder.\n"
   ]
  },
  {
   "cell_type": "code",
   "execution_count": 11,
   "metadata": {
    "colab": {
     "base_uri": "https://localhost:8080/",
     "height": 34
    },
    "colab_type": "code",
    "deletable": false,
    "id": "SHN499lB8Wfl",
    "nbgrader": {
     "checksum": "d870b56ad1274ceed7a8c1ad14120f4d",
     "grade": false,
     "grade_id": "cell-35daa961ef9ef163",
     "locked": false,
     "schema_version": 1,
     "solution": true
    },
    "outputId": "b78696e5-90ae-40d4-dd82-c60dbd1133f7"
   },
   "outputs": [
    {
     "name": "stdout",
     "output_type": "stream",
     "text": [
      "2\n"
     ]
    }
   ],
   "source": [
    "#Make sure you return the answer value in this function\n",
    "#The return value must be an integer\n",
    "def q1(df):\n",
    "  \n",
    "    X = df.loc[:, 'q4':'q6']\n",
    "    X.dropna(inplace=True)\n",
    "    \n",
    "    sh_scores = [] # build a list of silhouette scores for k as 2 to 8\n",
    "    for k in range(2, 9):\n",
    "      kmeans = KMeans(n_clusters=k, random_state=42)\n",
    "      kmeans.fit(X)\n",
    "      score = silhouette_score(X, kmeans.labels_)\n",
    "      sh_scores.append(score)\n",
    "    \n",
    "    max_index = sh_scores.index(max(sh_scores)) # find the first index of the largest silhouette score\n",
    "    return max_index+2 # return the k value in responding to the index\n",
    "\n",
    "    raise NotImplementedError()\n",
    "print(q1(df))"
   ]
  },
  {
   "cell_type": "markdown",
   "metadata": {
    "colab_type": "text",
    "deletable": false,
    "editable": false,
    "id": "t1USbOiZ8Wfo",
    "nbgrader": {
     "checksum": "9229f3626bea7238f91b319b76f8d6c1",
     "grade": false,
     "grade_id": "cell-1f4af152457c700f",
     "locked": true,
     "schema_version": 1,
     "solution": false
    }
   },
   "source": [
    "What is the best choice of k? "
   ]
  },
  {
   "cell_type": "code",
   "execution_count": 12,
   "metadata": {
    "colab": {},
    "colab_type": "code",
    "deletable": false,
    "id": "IiP-7-BI8Wfp",
    "nbgrader": {
     "checksum": "e686f8bb8933c06c0b80f1d3a0ab7c4c",
     "grade": true,
     "grade_id": "cell-75f42d06e03fe139",
     "locked": false,
     "points": 1,
     "schema_version": 1,
     "solution": true
    }
   },
   "outputs": [],
   "source": [
    "# The best choice of k is 2 for clustering q4-q6. When k = 2, it has the largest silhouette score.\n",
    "# raise NotImplementedError()"
   ]
  },
  {
   "cell_type": "markdown",
   "metadata": {
    "colab_type": "text",
    "deletable": false,
    "editable": false,
    "id": "nR7L0bqm8Wft",
    "nbgrader": {
     "checksum": "4d1db294cd60c6368ab7f1cc287ac861",
     "grade": false,
     "grade_id": "cell-3f1e7c00e311da4b",
     "locked": true,
     "schema_version": 1,
     "solution": false
    }
   },
   "source": [
    "### Question 2 `(1 point)`\n",
    "What is the best choice of k according to the silhouette metric for clustering q7-q10? Only consider 2 <= k <= 8. "
   ]
  },
  {
   "cell_type": "code",
   "execution_count": 13,
   "metadata": {
    "colab": {
     "base_uri": "https://localhost:8080/",
     "height": 34
    },
    "colab_type": "code",
    "deletable": false,
    "id": "Jv9s-92L8Wft",
    "nbgrader": {
     "checksum": "9cf8b96c08dc833c7b88ee35362ed959",
     "grade": false,
     "grade_id": "cell-dc62c66cc9acf621",
     "locked": false,
     "schema_version": 1,
     "solution": true
    },
    "outputId": "2f009470-8ee6-4021-99c5-c2dcd8684fcd"
   },
   "outputs": [
    {
     "name": "stdout",
     "output_type": "stream",
     "text": [
      "2\n"
     ]
    }
   ],
   "source": [
    "#Make sure you return the answer value in this function\n",
    "#The return value must be an integer\n",
    "def q2(df):\n",
    "    \n",
    "    X = df.loc[:, 'q7': 'q10']\n",
    "    X.dropna(inplace=True)\n",
    "\n",
    "    sh_scores = [] # build a list of silhouette scores for k as 2 to 8\n",
    "    for k in range(2, 9):\n",
    "      kmeans = KMeans(n_clusters=k, random_state=42)\n",
    "      kmeans.fit(X)\n",
    "      score = silhouette_score(X, kmeans.labels_)\n",
    "      sh_scores.append(score)\n",
    "    \n",
    "    max_index = sh_scores.index(max(sh_scores)) # find the first index of the largest silhouette score\n",
    "    return max_index+2 # return the k value in responding to the index\n",
    "    \n",
    "    raise NotImplementedError()\n",
    "print(q2(df))"
   ]
  },
  {
   "cell_type": "markdown",
   "metadata": {
    "colab_type": "text",
    "deletable": false,
    "editable": false,
    "id": "ohkPzjsf8Wfz",
    "nbgrader": {
     "checksum": "13a5d949504f1ed6dbf3bf474d135175",
     "grade": false,
     "grade_id": "cell-a798fe1067889c85",
     "locked": true,
     "schema_version": 1,
     "solution": false
    }
   },
   "source": [
    "What is the best choice of k? "
   ]
  },
  {
   "cell_type": "code",
   "execution_count": 14,
   "metadata": {
    "colab": {},
    "colab_type": "code",
    "deletable": false,
    "id": "WwlzPYjj8Wf0",
    "nbgrader": {
     "checksum": "39518f72ac99d22c2be6e053d683ecb3",
     "grade": true,
     "grade_id": "cell-b9c0fc321a251e1e",
     "locked": false,
     "points": 0.5,
     "schema_version": 1,
     "solution": true
    }
   },
   "outputs": [],
   "source": [
    "# The best choice of k is 2 for clustering q7-q10. When k = 2, it has the largest silhouette score.\n",
    "# raise NotImplementedError()"
   ]
  },
  {
   "cell_type": "markdown",
   "metadata": {
    "colab_type": "text",
    "deletable": false,
    "editable": false,
    "id": "QW6AW5SN8Wf3",
    "nbgrader": {
     "checksum": "685cbed1a7666b907cfd74876798b246",
     "grade": false,
     "grade_id": "cell-abc5d1274688008b",
     "locked": true,
     "schema_version": 1,
     "solution": false
    }
   },
   "source": [
    "### Question 3 `(1 point)`\n",
    "What is the best choice of k according to the silhouette metric for clustering q11-q13? Only consider 2 <= k <= 8. "
   ]
  },
  {
   "cell_type": "code",
   "execution_count": 15,
   "metadata": {
    "colab": {
     "base_uri": "https://localhost:8080/",
     "height": 34
    },
    "colab_type": "code",
    "deletable": false,
    "id": "FU0QGeDx8Wf6",
    "nbgrader": {
     "checksum": "79b98812400934790474017de005b61b",
     "grade": false,
     "grade_id": "cell-fa2944f22a609780",
     "locked": false,
     "schema_version": 1,
     "solution": true
    },
    "outputId": "0a143466-9653-4c4d-d35c-b78c8bd6d3b1"
   },
   "outputs": [
    {
     "name": "stdout",
     "output_type": "stream",
     "text": [
      "8\n"
     ]
    }
   ],
   "source": [
    "#Make sure you return the answer value in this function\n",
    "#The return value must be an integer\n",
    "def q3(df):\n",
    "    \n",
    "    X = df.loc[:, 'q11': 'q13']\n",
    "    X.dropna(inplace=True)\n",
    "    \n",
    "    sh_scores = [] # build a list of silhouette scores for k as 2 to 8\n",
    "    for k in range(2, 9):\n",
    "      kmeans = KMeans(n_clusters=k, random_state=42)\n",
    "      kmeans.fit(X)\n",
    "      score = silhouette_score(X, kmeans.labels_)\n",
    "      sh_scores.append(score)\n",
    "    \n",
    "    max_index = sh_scores.index(max(sh_scores)) # find the first index of the largest silhouette score\n",
    "    return max_index+2 # return the k value in responding to the index\n",
    "    \n",
    "    raise NotImplementedError()\n",
    "print(q3(df))"
   ]
  },
  {
   "cell_type": "markdown",
   "metadata": {
    "colab_type": "text",
    "deletable": false,
    "editable": false,
    "id": "Y-5NyKXZ8Wf_",
    "nbgrader": {
     "checksum": "7f1e4d9e7bc46ed5b72756983c3ea7d1",
     "grade": false,
     "grade_id": "cell-ffde459d3d7f30d4",
     "locked": true,
     "schema_version": 1,
     "solution": false
    }
   },
   "source": [
    "What is the best choice of k?"
   ]
  },
  {
   "cell_type": "code",
   "execution_count": 16,
   "metadata": {
    "colab": {},
    "colab_type": "code",
    "deletable": false,
    "id": "AZfZebXo8WgB",
    "nbgrader": {
     "checksum": "286a814a2fc12cff437655784716f2d7",
     "grade": true,
     "grade_id": "cell-dd60c729c46b5610",
     "locked": false,
     "points": 0.5,
     "schema_version": 1,
     "solution": true
    }
   },
   "outputs": [],
   "source": [
    "# The best choice of k is 8 for clustering q11-q13. When k = 8, it has the largest silhouette score.\n",
    "# raise NotImplementedError()"
   ]
  },
  {
   "cell_type": "markdown",
   "metadata": {
    "colab_type": "text",
    "deletable": false,
    "editable": false,
    "id": "aQMzO6nF8WgJ",
    "nbgrader": {
     "checksum": "a18ebc832af60a47193b79496235a06c",
     "grade": false,
     "grade_id": "cell-3bf4719c7aa218c6",
     "locked": true,
     "schema_version": 1,
     "solution": false
    }
   },
   "source": [
    "### Question 4 `(1 point)`\n",
    "Consider the best clustering (i.e., best value of K) from Question 3 and list the number of data points in each cluster."
   ]
  },
  {
   "cell_type": "code",
   "execution_count": 17,
   "metadata": {
    "colab": {},
    "colab_type": "code",
    "deletable": false,
    "id": "ztW4Dgbc8WgN",
    "nbgrader": {
     "checksum": "cc9c33b42265e3a41d8fefb18770a4e8",
     "grade": false,
     "grade_id": "cell-24fde636c2f83a67",
     "locked": false,
     "schema_version": 1,
     "solution": true
    }
   },
   "outputs": [],
   "source": [
    "#Make sure you return the answer value in this function\n",
    "#The return value must be an dictionary. Eg : {0:1000,1:500,2:1460}\n",
    "def q4(df):\n",
    "    \n",
    "    X = df.loc[:, 'q11': 'q13']\n",
    "    X.dropna(inplace=True)\n",
    "\n",
    "    kmeans = KMeans(n_clusters=8, random_state=42) # using best k=8 from Quesiton 3\n",
    "    kmeans.fit(X)\n",
    "    (cluster, counts) = np.unique(kmeans.labels_, return_counts=True)\n",
    "    \n",
    "    return dict(zip(cluster, counts))\n",
    "\n",
    "    # raise NotImplementedError()"
   ]
  },
  {
   "cell_type": "code",
   "execution_count": 18,
   "metadata": {
    "colab": {
     "base_uri": "https://localhost:8080/",
     "height": 34
    },
    "colab_type": "code",
    "deletable": false,
    "editable": false,
    "id": "iIUdLPIw8WgQ",
    "nbgrader": {
     "checksum": "99637ce263f2207d1701716f5f1f44ca",
     "grade": true,
     "grade_id": "cell-2deca552fa9f803f",
     "locked": true,
     "points": 1,
     "schema_version": 1,
     "solution": false
    },
    "outputId": "6742b9b2-aa7d-4048-d8f3-b4a0c8341c23"
   },
   "outputs": [
    {
     "name": "stdout",
     "output_type": "stream",
     "text": [
      "{0: 3307, 1: 1632, 2: 2862, 3: 9848, 4: 5723, 5: 3405, 6: 1192, 7: 2140}\n"
     ]
    }
   ],
   "source": [
    "#This is an autograded cell, do not edit\n",
    "print(q4(df))"
   ]
  },
  {
   "cell_type": "markdown",
   "metadata": {
    "colab_type": "text",
    "deletable": false,
    "editable": false,
    "id": "xgii61fI8WgT",
    "nbgrader": {
     "checksum": "f455a94d03bf20a31ce26a2da672ee98",
     "grade": false,
     "grade_id": "cell-4277f89074807c16",
     "locked": true,
     "schema_version": 1,
     "solution": false
    }
   },
   "source": [
    "### Question 5 `(1 point)`\n",
    "Consider the best cluster from Question 3. Were there clusters that represented very funny but useless reviewers (check column definitions for columns corresponding to funny, useless etc)?  If so, print the center of that cluster."
   ]
  },
  {
   "cell_type": "code",
   "execution_count": 19,
   "metadata": {
    "colab": {},
    "colab_type": "code",
    "deletable": false,
    "id": "_XzB8j6f8WgU",
    "nbgrader": {
     "checksum": "d2664de57a82a4d02c7d529617a1450c",
     "grade": false,
     "grade_id": "cell-550e8e6942843343",
     "locked": false,
     "schema_version": 1,
     "solution": true
    }
   },
   "outputs": [],
   "source": [
    "#Make sure you return the answer value in this function\n",
    "#The return value must be an Array. Eg : [10,30,54]\n",
    "def q5(df):\n",
    "    \n",
    "    X = df.loc[:, 'q11': 'q13']\n",
    "    X.dropna(inplace=True)\n",
    "    kmeans = KMeans(n_clusters=8, random_state=42)\n",
    "    kmeans.fit(X)\n",
    "    centroids = kmeans.cluster_centers_\n",
    "    \n",
    "    funny_useful_diff = centroids[:, 1] - centroids[:, 2] # find the largest difference between q12 and q13\n",
    "    index = np.argmax(funny_useful_diff)\n",
    "    return centroids[index]\n",
    "\n",
    "    # raise NotImplementedError()"
   ]
  },
  {
   "cell_type": "code",
   "execution_count": 20,
   "metadata": {
    "colab": {
     "base_uri": "https://localhost:8080/",
     "height": 34
    },
    "colab_type": "code",
    "deletable": false,
    "editable": false,
    "id": "g22ke0I48WgX",
    "nbgrader": {
     "checksum": "36e1fb3627b616460376cfe2db01762c",
     "grade": true,
     "grade_id": "cell-5c9ad8f64f9e3cb9",
     "locked": true,
     "points": 1,
     "schema_version": 1,
     "solution": false
    },
    "outputId": "68d0ba7c-c582-4e96-dd3e-0a23ef7cefde"
   },
   "outputs": [
    {
     "name": "stdout",
     "output_type": "stream",
     "text": [
      "[ 1.1 98.3  0.6]\n"
     ]
    }
   ],
   "source": [
    "#This is an autograded cell, do not edit\n",
    "print(np.round_(q5(df), decimals=1, out=None))"
   ]
  },
  {
   "cell_type": "markdown",
   "metadata": {
    "colab_type": "text",
    "deletable": false,
    "editable": false,
    "id": "U2yg2Z2_8Wgd",
    "nbgrader": {
     "checksum": "423fac1c99ce7c9090dd9e96e6778777",
     "grade": false,
     "grade_id": "cell-303792a4ac61cb3a",
     "locked": true,
     "schema_version": 1,
     "solution": false
    }
   },
   "source": [
    "### Question 6 `(1 point)`\n",
    "Consider the best clustering from Question 3. What was the centroid of the cluster that represented relatively equal strength in all voting categories?"
   ]
  },
  {
   "cell_type": "code",
   "execution_count": 21,
   "metadata": {
    "colab": {},
    "colab_type": "code",
    "deletable": false,
    "id": "94isPDi08Wgf",
    "nbgrader": {
     "checksum": "9b6ebc1ed5ed8d8042dcf7cd49952b57",
     "grade": false,
     "grade_id": "cell-391c7439f978dff8",
     "locked": false,
     "schema_version": 1,
     "solution": true
    }
   },
   "outputs": [],
   "source": [
    "#Make sure you return the answer value in this function\n",
    "def q6(df):\n",
    "    \n",
    "    X = df.loc[:, 'q11': 'q13']\n",
    "    X.dropna(inplace=True)\n",
    "    kmeans = KMeans(n_clusters=8, random_state=42)\n",
    "    kmeans.fit(X)\n",
    "    centroids = kmeans.cluster_centers_\n",
    "    \n",
    "    votes_std = np.std(centroids, axis=1) # compute the standard deviation of the three values\n",
    "    index = np.argmin(votes_std)\n",
    "    return centroids[index]\n",
    "\n",
    "    raise NotImplementedError()"
   ]
  },
  {
   "cell_type": "code",
   "execution_count": 22,
   "metadata": {
    "colab": {
     "base_uri": "https://localhost:8080/",
     "height": 34
    },
    "colab_type": "code",
    "deletable": false,
    "editable": false,
    "id": "GKePHYay8Wgl",
    "nbgrader": {
     "checksum": "cfcf6b7a02a8426368b49ab70898113b",
     "grade": true,
     "grade_id": "cell-4a75c628cdd62ed3",
     "locked": true,
     "points": 1,
     "schema_version": 1,
     "solution": false
    },
    "outputId": "ec29ac8b-8799-4bb7-fc3b-5d7528d1a94b"
   },
   "outputs": [
    {
     "name": "stdout",
     "output_type": "stream",
     "text": [
      "[31.44817308 30.39612587 38.15302273]\n"
     ]
    }
   ],
   "source": [
    "#This is an autograded cell, do not edit\n",
    "print(q6(df))"
   ]
  },
  {
   "cell_type": "markdown",
   "metadata": {
    "colab_type": "text",
    "deletable": false,
    "editable": false,
    "id": "BlCXYH7J8Wgp",
    "nbgrader": {
     "checksum": "7277b47e7131491c1b5bc8487bc7f848",
     "grade": false,
     "grade_id": "cell-b29200abdbf3f648",
     "locked": true,
     "schema_version": 1,
     "solution": false
    }
   },
   "source": [
    "### Question 7 `(1 point)`\n",
    "Cluster the dataset using $k = 5$ and using features q7-q15 (refer to the column descriptions if needed).\n",
    "What is the silhouette metric for this clustering?\n",
    "For a more in-depth understanding of cluster analysis with silhouette, look [here](http://scikit-learn.org/stable/auto_examples/cluster/plot_kmeans_silhouette_analysis.html)"
   ]
  },
  {
   "cell_type": "code",
   "execution_count": 23,
   "metadata": {
    "colab": {},
    "colab_type": "code",
    "deletable": false,
    "id": "P5AW-1Hj8Wgq",
    "nbgrader": {
     "checksum": "aadc8b4d3daea84bcdf7326f7d9e1e48",
     "grade": false,
     "grade_id": "cell-692872a9776a2f81",
     "locked": false,
     "schema_version": 1,
     "solution": true
    }
   },
   "outputs": [],
   "source": [
    "#Make sure you return the answer value in this function\n",
    "#The return value must be a float\n",
    "def q7(df):\n",
    "    \n",
    "    X = df.loc[:, 'q7': 'q15']\n",
    "    X.dropna(inplace=True)\n",
    "    kmeans = KMeans(n_clusters=5, random_state=42)\n",
    "    kmeans.fit(X)\n",
    "    sh_score = silhouette_score(X, kmeans.labels_)\n",
    "    return sh_score\n",
    "\n",
    "    raise NotImplementedError()"
   ]
  },
  {
   "cell_type": "code",
   "execution_count": 24,
   "metadata": {
    "colab": {
     "base_uri": "https://localhost:8080/",
     "height": 34
    },
    "colab_type": "code",
    "deletable": false,
    "editable": false,
    "id": "Kx23kyP18Wgw",
    "nbgrader": {
     "checksum": "7c847dc80333efefec63b12bce9a3c23",
     "grade": true,
     "grade_id": "cell-d5a3ed8462b9b40b",
     "locked": true,
     "points": 1,
     "schema_version": 1,
     "solution": false
    },
    "outputId": "e0764071-ab25-4909-98be-ac53610864cd"
   },
   "outputs": [
    {
     "name": "stdout",
     "output_type": "stream",
     "text": [
      "0.5481158706623568\n"
     ]
    }
   ],
   "source": [
    "#This is an autograded cell, do not edit\n",
    "print(q7(df))"
   ]
  },
  {
   "cell_type": "markdown",
   "metadata": {
    "colab_type": "text",
    "deletable": false,
    "editable": false,
    "id": "ghXtWRlm8Wg1",
    "nbgrader": {
     "checksum": "b5206e977bdec3a2a2da9a55d42539e1",
     "grade": false,
     "grade_id": "cell-bb20d152047de4c0",
     "locked": true,
     "schema_version": 1,
     "solution": false
    }
   },
   "source": [
    "### Question 8 `(1 point)`\n",
    "Cluster the dataset using $k = 5$ and using features q7-q15 (refer to the column descriptions if needed).\n",
    "\n",
    "What was the average q3 among the points in each of the clusters?"
   ]
  },
  {
   "cell_type": "code",
   "execution_count": 27,
   "metadata": {
    "colab": {},
    "colab_type": "code",
    "deletable": false,
    "id": "7VLNa7ZT8Wg2",
    "nbgrader": {
     "checksum": "cec8fcc62994a8c42d2a828240cf8d70",
     "grade": false,
     "grade_id": "cell-ce75d2c2b37a5939",
     "locked": false,
     "schema_version": 1,
     "solution": true
    }
   },
   "outputs": [],
   "source": [
    "#Make sure you return the answer value in this function\n",
    "#The return value must be an Array. Eg : [10,30,54]\n",
    "def q8(df):\n",
    "    \n",
    "    X = df.loc[:, 'q7': 'q15']\n",
    "    X.dropna(inplace=True)\n",
    "    kmeans = KMeans(n_clusters=5, random_state=42)\n",
    "    kmeans.fit(X)\n",
    "    q3 = np.exp(np.array(X['q7'])) # q3 equals to exp(q7)\n",
    "    df1 = pd.DataFrame({'q3': q3, 'cluster': kmeans.labels_}) # convert to dataframe and groupby and get mean of q3\n",
    "    return np.array(df1.groupby('cluster').mean()) # convert result to array\n",
    "\n",
    "    raise NotImplementedError()"
   ]
  },
  {
   "cell_type": "code",
   "execution_count": 28,
   "metadata": {
    "colab": {
     "base_uri": "https://localhost:8080/",
     "height": 102
    },
    "colab_type": "code",
    "deletable": false,
    "editable": false,
    "id": "uU1zA9hQ8Wg7",
    "nbgrader": {
     "checksum": "8fcac0a1587052a68abfd2dc22e6a444",
     "grade": true,
     "grade_id": "cell-125a523ba764c027",
     "locked": true,
     "points": 1,
     "schema_version": 1,
     "solution": false
    },
    "outputId": "8c1e153a-7a0c-4fe4-90c5-1d1f36cf73c1"
   },
   "outputs": [
    {
     "name": "stdout",
     "output_type": "stream",
     "text": [
      "[[7.3]\n",
      " [4.9]\n",
      " [6.6]\n",
      " [2.4]\n",
      " [6.9]]\n"
     ]
    }
   ],
   "source": [
    "#This is an autograded cell, do not edit\n",
    "print(np.round_(q8(df), decimals=1, out=None))"
   ]
  },
  {
   "cell_type": "markdown",
   "metadata": {
    "colab_type": "text",
    "deletable": false,
    "editable": false,
    "id": "ImMBccCv8WhE",
    "nbgrader": {
     "checksum": "539014b1c77f0d5159b9158216999ffa",
     "grade": false,
     "grade_id": "cell-32dc52f985a4469b",
     "locked": true,
     "schema_version": 1,
     "solution": false
    }
   },
   "source": [
    "### Question 9 `(2 points)`\n",
    "**This question will be manually graded.**\n",
    "\n",
    "Cluster the dataset using all features in the dataset\n",
    "\n",
    "We can drop features with high incidents of -Inf / blank / or NaN values). It is suggested that you perform some form of normalization on these question 16 features so as not to over bias the clustering towards the larger magnitude features. Let's do that now.\n",
    "\n",
    "#### Data Cleansing and Normalization ####\n",
    "Check how many null values there are in each column."
   ]
  },
  {
   "cell_type": "code",
   "execution_count": 29,
   "metadata": {
    "colab": {
     "base_uri": "https://localhost:8080/",
     "height": 51
    },
    "colab_type": "code",
    "id": "pCULMKNBd2Ji",
    "outputId": "cccbfa60-17d9-4436-85ab-17442e984a46"
   },
   "outputs": [
    {
     "name": "stdout",
     "output_type": "stream",
     "text": [
      "(51492, 43)\n",
      "(7177, 43)\n"
     ]
    }
   ],
   "source": [
    "print(df.shape) # shape of whole dataframe\n",
    "print(df.dropna().shape) # shape of dataframe with no missing values"
   ]
  },
  {
   "cell_type": "code",
   "execution_count": 30,
   "metadata": {
    "colab": {
     "base_uri": "https://localhost:8080/",
     "height": 765
    },
    "colab_type": "code",
    "deletable": false,
    "editable": false,
    "id": "vdt07lvl8WhH",
    "nbgrader": {
     "checksum": "26c5eee0748fe77d6f219f2f654adc69",
     "grade": false,
     "grade_id": "cell-00e25d9828db774a",
     "locked": true,
     "schema_version": 1,
     "solution": false
    },
    "outputId": "887f9730-e399-4379-b3db-da9b1ebb4d2a"
   },
   "outputs": [
    {
     "data": {
      "text/plain": [
       "user_id        0\n",
       "q3             0\n",
       "q4             0\n",
       "q5             0\n",
       "q6             0\n",
       "q7             0\n",
       "q8         35280\n",
       "q9         36743\n",
       "q10        24338\n",
       "q11        21383\n",
       "q12        21383\n",
       "q13        21383\n",
       "q14            0\n",
       "q15            0\n",
       "q16a           0\n",
       "q16b           0\n",
       "q16c           0\n",
       "q16d           0\n",
       "q16e           0\n",
       "q16f           0\n",
       "q16g           0\n",
       "q16h           0\n",
       "q16i           0\n",
       "q16j           0\n",
       "q16k           0\n",
       "q16l           0\n",
       "q16m           0\n",
       "q16n           0\n",
       "q16o           0\n",
       "q16p           0\n",
       "q16q           0\n",
       "q16r           0\n",
       "q16s           0\n",
       "q16t           0\n",
       "q16u           0\n",
       "q16v           0\n",
       "q16w           0\n",
       "q16x           0\n",
       "q16y           0\n",
       "q16z           0\n",
       "q16aa          0\n",
       "q16ab      14469\n",
       "q16ac          0\n",
       "dtype: int64"
      ]
     },
     "execution_count": 30,
     "metadata": {
      "tags": []
     },
     "output_type": "execute_result"
    }
   ],
   "source": [
    "df.isna().sum() # null values by columns"
   ]
  },
  {
   "cell_type": "markdown",
   "metadata": {
    "colab_type": "text",
    "deletable": false,
    "editable": false,
    "id": "yzAo6QRS8WhO",
    "nbgrader": {
     "checksum": "059796c35a25a2239b6af643d573077c",
     "grade": false,
     "grade_id": "cell-dda1709aadca4b74",
     "locked": true,
     "schema_version": 1,
     "solution": false
    }
   },
   "source": [
    "It looks like q8 - q13 and q16ab have a lot of null values. Let's see what the impact is of removing the two columns with the most null values."
   ]
  },
  {
   "cell_type": "code",
   "execution_count": 31,
   "metadata": {
    "colab": {
     "base_uri": "https://localhost:8080/",
     "height": 34
    },
    "colab_type": "code",
    "deletable": false,
    "editable": false,
    "id": "pSrZ9i3g8WhQ",
    "nbgrader": {
     "checksum": "c9201f034d5527471e11c4bdf4259a06",
     "grade": false,
     "grade_id": "cell-e67e9b14f016567d",
     "locked": true,
     "schema_version": 1,
     "solution": false
    },
    "outputId": "9ef8042a-7dcd-4d1c-daca-9e8fadc34fd9"
   },
   "outputs": [
    {
     "name": "stdout",
     "output_type": "stream",
     "text": [
      "(19582, 41)\n"
     ]
    }
   ],
   "source": [
    "df1 = df.drop(columns=['q8','q9'])\n",
    "df1 = df1.dropna()\n",
    "print(df1.shape) # check the shape of dataframe after removing q8 and q9"
   ]
  },
  {
   "cell_type": "markdown",
   "metadata": {
    "colab_type": "text",
    "deletable": false,
    "editable": false,
    "id": "gQbRuq_Z8Whb",
    "nbgrader": {
     "checksum": "55ec19beab75bcb01d51763aa77b7c7d",
     "grade": false,
     "grade_id": "cell-0832f08869a19534",
     "locked": true,
     "schema_version": 1,
     "solution": false
    }
   },
   "source": [
    "By removing two features, we effectively have double the number of rows remaining. That's pretty good.  \n",
    "Now, let's preprocess categorical variables into dummy values."
   ]
  },
  {
   "cell_type": "code",
   "execution_count": 32,
   "metadata": {
    "colab": {
     "base_uri": "https://localhost:8080/",
     "height": 1000
    },
    "colab_type": "code",
    "deletable": false,
    "editable": false,
    "id": "xnXUaCHl8Whc",
    "nbgrader": {
     "checksum": "9520a1834882784cba16fa1e635aeb9e",
     "grade": false,
     "grade_id": "cell-46dc2129f7ac4991",
     "locked": true,
     "schema_version": 1,
     "solution": false
    },
    "outputId": "5951935e-6ddb-4780-d950-305c43181c7c"
   },
   "outputs": [
    {
     "data": {
      "text/html": [
       "<div>\n",
       "<style scoped>\n",
       "    .dataframe tbody tr th:only-of-type {\n",
       "        vertical-align: middle;\n",
       "    }\n",
       "\n",
       "    .dataframe tbody tr th {\n",
       "        vertical-align: top;\n",
       "    }\n",
       "\n",
       "    .dataframe thead th {\n",
       "        text-align: right;\n",
       "    }\n",
       "</style>\n",
       "<table border=\"1\" class=\"dataframe\">\n",
       "  <thead>\n",
       "    <tr style=\"text-align: right;\">\n",
       "      <th></th>\n",
       "      <th>47453</th>\n",
       "      <th>53000</th>\n",
       "      <th>64580</th>\n",
       "      <th>84662</th>\n",
       "      <th>50079</th>\n",
       "    </tr>\n",
       "  </thead>\n",
       "  <tbody>\n",
       "    <tr>\n",
       "      <th>user_id</th>\n",
       "      <td>Gd_IGX3BmRYbPD84ovLEoA</td>\n",
       "      <td>Ihx1EQHDTIoXM35Cc08r2Q</td>\n",
       "      <td>N22hkNXzJdz_v_KocOy6vA</td>\n",
       "      <td>UZ2TflixHLqkCL9G6ykCNw</td>\n",
       "      <td>HcL7R7ingTW8nenpD3X2cg</td>\n",
       "    </tr>\n",
       "    <tr>\n",
       "      <th>q3</th>\n",
       "      <td>8</td>\n",
       "      <td>2</td>\n",
       "      <td>1</td>\n",
       "      <td>5</td>\n",
       "      <td>8</td>\n",
       "    </tr>\n",
       "    <tr>\n",
       "      <th>q4</th>\n",
       "      <td>2</td>\n",
       "      <td>1</td>\n",
       "      <td>0</td>\n",
       "      <td>0</td>\n",
       "      <td>8</td>\n",
       "    </tr>\n",
       "    <tr>\n",
       "      <th>q5</th>\n",
       "      <td>1</td>\n",
       "      <td>1</td>\n",
       "      <td>0</td>\n",
       "      <td>0</td>\n",
       "      <td>5</td>\n",
       "    </tr>\n",
       "    <tr>\n",
       "      <th>q6</th>\n",
       "      <td>8</td>\n",
       "      <td>2</td>\n",
       "      <td>1</td>\n",
       "      <td>4</td>\n",
       "      <td>13</td>\n",
       "    </tr>\n",
       "    <tr>\n",
       "      <th>q7</th>\n",
       "      <td>2.08</td>\n",
       "      <td>0.69</td>\n",
       "      <td>0</td>\n",
       "      <td>1.61</td>\n",
       "      <td>2.08</td>\n",
       "    </tr>\n",
       "    <tr>\n",
       "      <th>q10</th>\n",
       "      <td>2.08</td>\n",
       "      <td>0.69</td>\n",
       "      <td>0</td>\n",
       "      <td>1.39</td>\n",
       "      <td>2.56</td>\n",
       "    </tr>\n",
       "    <tr>\n",
       "      <th>q11</th>\n",
       "      <td>18.18</td>\n",
       "      <td>25</td>\n",
       "      <td>0</td>\n",
       "      <td>0</td>\n",
       "      <td>30.77</td>\n",
       "    </tr>\n",
       "    <tr>\n",
       "      <th>q12</th>\n",
       "      <td>9.09</td>\n",
       "      <td>25</td>\n",
       "      <td>0</td>\n",
       "      <td>0</td>\n",
       "      <td>19.23</td>\n",
       "    </tr>\n",
       "    <tr>\n",
       "      <th>q13</th>\n",
       "      <td>72.73</td>\n",
       "      <td>50</td>\n",
       "      <td>100</td>\n",
       "      <td>100</td>\n",
       "      <td>50</td>\n",
       "    </tr>\n",
       "    <tr>\n",
       "      <th>q14</th>\n",
       "      <td>10</td>\n",
       "      <td>10</td>\n",
       "      <td>5</td>\n",
       "      <td>6</td>\n",
       "      <td>9</td>\n",
       "    </tr>\n",
       "    <tr>\n",
       "      <th>q15</th>\n",
       "      <td>663.38</td>\n",
       "      <td>532.5</td>\n",
       "      <td>2018</td>\n",
       "      <td>1303.4</td>\n",
       "      <td>1047.5</td>\n",
       "    </tr>\n",
       "    <tr>\n",
       "      <th>q16a</th>\n",
       "      <td>4</td>\n",
       "      <td>0</td>\n",
       "      <td>0</td>\n",
       "      <td>1</td>\n",
       "      <td>2</td>\n",
       "    </tr>\n",
       "    <tr>\n",
       "      <th>q16b</th>\n",
       "      <td>0.353553</td>\n",
       "      <td>1.41421</td>\n",
       "      <td>0</td>\n",
       "      <td>1.67332</td>\n",
       "      <td>1.28174</td>\n",
       "    </tr>\n",
       "    <tr>\n",
       "      <th>q16c</th>\n",
       "      <td>0.00207273</td>\n",
       "      <td>0.00375587</td>\n",
       "      <td>0.00049554</td>\n",
       "      <td>0.000613779</td>\n",
       "      <td>0.00310262</td>\n",
       "    </tr>\n",
       "    <tr>\n",
       "      <th>q16d</th>\n",
       "      <td>4.875</td>\n",
       "      <td>3</td>\n",
       "      <td>5</td>\n",
       "      <td>3.6</td>\n",
       "      <td>3.75</td>\n",
       "    </tr>\n",
       "    <tr>\n",
       "      <th>q16e</th>\n",
       "      <td>0.0229885</td>\n",
       "      <td>0.0244131</td>\n",
       "      <td>0.0267592</td>\n",
       "      <td>0.0207151</td>\n",
       "      <td>0.0307876</td>\n",
       "    </tr>\n",
       "    <tr>\n",
       "      <th>q16f</th>\n",
       "      <td>0.330719</td>\n",
       "      <td>1</td>\n",
       "      <td>0</td>\n",
       "      <td>1.49666</td>\n",
       "      <td>1.19896</td>\n",
       "    </tr>\n",
       "    <tr>\n",
       "      <th>q16g</th>\n",
       "      <td>2</td>\n",
       "      <td>0</td>\n",
       "      <td>2</td>\n",
       "      <td>3</td>\n",
       "      <td>3</td>\n",
       "    </tr>\n",
       "    <tr>\n",
       "      <th>q16h</th>\n",
       "      <td>6</td>\n",
       "      <td>0</td>\n",
       "      <td>1</td>\n",
       "      <td>3</td>\n",
       "      <td>8</td>\n",
       "    </tr>\n",
       "    <tr>\n",
       "      <th>q16i</th>\n",
       "      <td>0</td>\n",
       "      <td>0</td>\n",
       "      <td>0</td>\n",
       "      <td>0</td>\n",
       "      <td>0</td>\n",
       "    </tr>\n",
       "    <tr>\n",
       "      <th>q16j</th>\n",
       "      <td>1.375</td>\n",
       "      <td>2</td>\n",
       "      <td>1</td>\n",
       "      <td>0.8</td>\n",
       "      <td>3.25</td>\n",
       "    </tr>\n",
       "    <tr>\n",
       "      <th>q16k</th>\n",
       "      <td>1</td>\n",
       "      <td>1</td>\n",
       "      <td>0</td>\n",
       "      <td>2</td>\n",
       "      <td>0</td>\n",
       "    </tr>\n",
       "    <tr>\n",
       "      <th>q16l</th>\n",
       "      <td>0</td>\n",
       "      <td>0</td>\n",
       "      <td>0</td>\n",
       "      <td>0</td>\n",
       "      <td>0</td>\n",
       "    </tr>\n",
       "    <tr>\n",
       "      <th>q16m</th>\n",
       "      <td>4.5</td>\n",
       "      <td>5.5</td>\n",
       "      <td>12</td>\n",
       "      <td>12.8</td>\n",
       "      <td>5.5</td>\n",
       "    </tr>\n",
       "    <tr>\n",
       "      <th>q16n</th>\n",
       "      <td>0.125</td>\n",
       "      <td>0</td>\n",
       "      <td>0</td>\n",
       "      <td>1</td>\n",
       "      <td>1.125</td>\n",
       "    </tr>\n",
       "    <tr>\n",
       "      <th>q16o</th>\n",
       "      <td>0.75</td>\n",
       "      <td>0</td>\n",
       "      <td>1</td>\n",
       "      <td>0.6</td>\n",
       "      <td>1</td>\n",
       "    </tr>\n",
       "    <tr>\n",
       "      <th>q16p</th>\n",
       "      <td>1</td>\n",
       "      <td>0</td>\n",
       "      <td>1</td>\n",
       "      <td>0.4</td>\n",
       "      <td>0.25</td>\n",
       "    </tr>\n",
       "    <tr>\n",
       "      <th>q16q</th>\n",
       "      <td>0.192489</td>\n",
       "      <td>0.205055</td>\n",
       "      <td>0.049554</td>\n",
       "      <td>0.0865149</td>\n",
       "      <td>0.137523</td>\n",
       "    </tr>\n",
       "    <tr>\n",
       "      <th>q16r</th>\n",
       "      <td>5</td>\n",
       "      <td>2</td>\n",
       "      <td>5</td>\n",
       "      <td>5</td>\n",
       "      <td>5</td>\n",
       "    </tr>\n",
       "    <tr>\n",
       "      <th>q16s</th>\n",
       "      <td>experienced</td>\n",
       "      <td>experienced</td>\n",
       "      <td>experienced</td>\n",
       "      <td>experienced</td>\n",
       "      <td>experienced</td>\n",
       "    </tr>\n",
       "    <tr>\n",
       "      <th>q16t</th>\n",
       "      <td>0</td>\n",
       "      <td>0</td>\n",
       "      <td>0</td>\n",
       "      <td>0</td>\n",
       "      <td>0</td>\n",
       "    </tr>\n",
       "    <tr>\n",
       "      <th>q16u</th>\n",
       "      <td>0.375</td>\n",
       "      <td>1</td>\n",
       "      <td>1</td>\n",
       "      <td>1.4</td>\n",
       "      <td>0.5</td>\n",
       "    </tr>\n",
       "    <tr>\n",
       "      <th>q16v</th>\n",
       "      <td>8</td>\n",
       "      <td>22</td>\n",
       "      <td>37</td>\n",
       "      <td>14</td>\n",
       "      <td>3</td>\n",
       "    </tr>\n",
       "    <tr>\n",
       "      <th>q16w</th>\n",
       "      <td>39</td>\n",
       "      <td>6</td>\n",
       "      <td>5</td>\n",
       "      <td>18</td>\n",
       "      <td>30</td>\n",
       "    </tr>\n",
       "    <tr>\n",
       "      <th>q16x</th>\n",
       "      <td>0.00175505</td>\n",
       "      <td>0</td>\n",
       "      <td>0.000497512</td>\n",
       "      <td>0.00157794</td>\n",
       "      <td>0.00986137</td>\n",
       "    </tr>\n",
       "    <tr>\n",
       "      <th>q16y</th>\n",
       "      <td>91.0729</td>\n",
       "      <td>46.5</td>\n",
       "      <td>197</td>\n",
       "      <td>167</td>\n",
       "      <td>91.5521</td>\n",
       "    </tr>\n",
       "    <tr>\n",
       "      <th>q16z</th>\n",
       "      <td>4</td>\n",
       "      <td>0</td>\n",
       "      <td>0</td>\n",
       "      <td>1</td>\n",
       "      <td>1</td>\n",
       "    </tr>\n",
       "    <tr>\n",
       "      <th>q16aa</th>\n",
       "      <td>0</td>\n",
       "      <td>3</td>\n",
       "      <td>0</td>\n",
       "      <td>0</td>\n",
       "      <td>13</td>\n",
       "    </tr>\n",
       "    <tr>\n",
       "      <th>q16ab</th>\n",
       "      <td>1</td>\n",
       "      <td>0</td>\n",
       "      <td>0</td>\n",
       "      <td>1.25</td>\n",
       "      <td>4</td>\n",
       "    </tr>\n",
       "    <tr>\n",
       "      <th>q16ac</th>\n",
       "      <td>4.875</td>\n",
       "      <td>3</td>\n",
       "      <td>5</td>\n",
       "      <td>3.6</td>\n",
       "      <td>3.75</td>\n",
       "    </tr>\n",
       "    <tr>\n",
       "      <th>status_experienced</th>\n",
       "      <td>1</td>\n",
       "      <td>1</td>\n",
       "      <td>1</td>\n",
       "      <td>1</td>\n",
       "      <td>1</td>\n",
       "    </tr>\n",
       "    <tr>\n",
       "      <th>status_freshman</th>\n",
       "      <td>0</td>\n",
       "      <td>0</td>\n",
       "      <td>0</td>\n",
       "      <td>0</td>\n",
       "      <td>0</td>\n",
       "    </tr>\n",
       "  </tbody>\n",
       "</table>\n",
       "</div>"
      ],
      "text/plain": [
       "                                     47453  ...                   50079\n",
       "user_id             Gd_IGX3BmRYbPD84ovLEoA  ...  HcL7R7ingTW8nenpD3X2cg\n",
       "q3                                       8  ...                       8\n",
       "q4                                       2  ...                       8\n",
       "q5                                       1  ...                       5\n",
       "q6                                       8  ...                      13\n",
       "q7                                    2.08  ...                    2.08\n",
       "q10                                   2.08  ...                    2.56\n",
       "q11                                  18.18  ...                   30.77\n",
       "q12                                   9.09  ...                   19.23\n",
       "q13                                  72.73  ...                      50\n",
       "q14                                     10  ...                       9\n",
       "q15                                 663.38  ...                  1047.5\n",
       "q16a                                     4  ...                       2\n",
       "q16b                              0.353553  ...                 1.28174\n",
       "q16c                            0.00207273  ...              0.00310262\n",
       "q16d                                 4.875  ...                    3.75\n",
       "q16e                             0.0229885  ...               0.0307876\n",
       "q16f                              0.330719  ...                 1.19896\n",
       "q16g                                     2  ...                       3\n",
       "q16h                                     6  ...                       8\n",
       "q16i                                     0  ...                       0\n",
       "q16j                                 1.375  ...                    3.25\n",
       "q16k                                     1  ...                       0\n",
       "q16l                                     0  ...                       0\n",
       "q16m                                   4.5  ...                     5.5\n",
       "q16n                                 0.125  ...                   1.125\n",
       "q16o                                  0.75  ...                       1\n",
       "q16p                                     1  ...                    0.25\n",
       "q16q                              0.192489  ...                0.137523\n",
       "q16r                                     5  ...                       5\n",
       "q16s                           experienced  ...             experienced\n",
       "q16t                                     0  ...                       0\n",
       "q16u                                 0.375  ...                     0.5\n",
       "q16v                                     8  ...                       3\n",
       "q16w                                    39  ...                      30\n",
       "q16x                            0.00175505  ...              0.00986137\n",
       "q16y                               91.0729  ...                 91.5521\n",
       "q16z                                     4  ...                       1\n",
       "q16aa                                    0  ...                      13\n",
       "q16ab                                    1  ...                       4\n",
       "q16ac                                4.875  ...                    3.75\n",
       "status_experienced                       1  ...                       1\n",
       "status_freshman                          0  ...                       0\n",
       "\n",
       "[43 rows x 5 columns]"
      ]
     },
     "execution_count": 32,
     "metadata": {
      "tags": []
     },
     "output_type": "execute_result"
    }
   ],
   "source": [
    "df1 = pd.concat([df1, pd.get_dummies(data=df1['q16s'], prefix='status')], axis=1) # one-hot encoding q16s for reviewer status\n",
    "df1['q16t'] = df1['q16t'].replace({'no': 0, 'yes': 1}) # replace no and yes to 0 and 1 in q16t\n",
    "df1.head().T"
   ]
  },
  {
   "cell_type": "markdown",
   "metadata": {
    "colab_type": "text",
    "deletable": false,
    "editable": false,
    "id": "AGnnilDI8Whl",
    "nbgrader": {
     "checksum": "7409a97cd6cc5a2203cb5953fd78951e",
     "grade": false,
     "grade_id": "cell-0bf07ed81b15a7c6",
     "locked": true,
     "schema_version": 1,
     "solution": false
    }
   },
   "source": [
    "Now, normalize the remaining values"
   ]
  },
  {
   "cell_type": "code",
   "execution_count": 33,
   "metadata": {
    "colab": {
     "base_uri": "https://localhost:8080/",
     "height": 1000
    },
    "colab_type": "code",
    "id": "8WwJyLg_vNZ5",
    "outputId": "c66c6ca4-8a83-4458-947d-5a03b4f14123"
   },
   "outputs": [
    {
     "data": {
      "text/html": [
       "<div>\n",
       "<style scoped>\n",
       "    .dataframe tbody tr th:only-of-type {\n",
       "        vertical-align: middle;\n",
       "    }\n",
       "\n",
       "    .dataframe tbody tr th {\n",
       "        vertical-align: top;\n",
       "    }\n",
       "\n",
       "    .dataframe thead th {\n",
       "        text-align: right;\n",
       "    }\n",
       "</style>\n",
       "<table border=\"1\" class=\"dataframe\">\n",
       "  <thead>\n",
       "    <tr style=\"text-align: right;\">\n",
       "      <th></th>\n",
       "      <th>47453</th>\n",
       "      <th>53000</th>\n",
       "      <th>64580</th>\n",
       "      <th>84662</th>\n",
       "      <th>50079</th>\n",
       "    </tr>\n",
       "  </thead>\n",
       "  <tbody>\n",
       "    <tr>\n",
       "      <th>user_id</th>\n",
       "      <td>Gd_IGX3BmRYbPD84ovLEoA</td>\n",
       "      <td>Ihx1EQHDTIoXM35Cc08r2Q</td>\n",
       "      <td>N22hkNXzJdz_v_KocOy6vA</td>\n",
       "      <td>UZ2TflixHLqkCL9G6ykCNw</td>\n",
       "      <td>HcL7R7ingTW8nenpD3X2cg</td>\n",
       "    </tr>\n",
       "    <tr>\n",
       "      <th>q3</th>\n",
       "      <td>0.008138</td>\n",
       "      <td>0.0020345</td>\n",
       "      <td>0.00101725</td>\n",
       "      <td>0.00508625</td>\n",
       "      <td>0.008138</td>\n",
       "    </tr>\n",
       "    <tr>\n",
       "      <th>q4</th>\n",
       "      <td>0.00138075</td>\n",
       "      <td>0.000690376</td>\n",
       "      <td>0</td>\n",
       "      <td>0</td>\n",
       "      <td>0.00552301</td>\n",
       "    </tr>\n",
       "    <tr>\n",
       "      <th>q5</th>\n",
       "      <td>0.000803353</td>\n",
       "      <td>0.000803353</td>\n",
       "      <td>0</td>\n",
       "      <td>0</td>\n",
       "      <td>0.00401676</td>\n",
       "    </tr>\n",
       "    <tr>\n",
       "      <th>q6</th>\n",
       "      <td>0.00425678</td>\n",
       "      <td>0.0010642</td>\n",
       "      <td>0.000532098</td>\n",
       "      <td>0.00212839</td>\n",
       "      <td>0.00691727</td>\n",
       "    </tr>\n",
       "    <tr>\n",
       "      <th>q7</th>\n",
       "      <td>0.0105699</td>\n",
       "      <td>0.00350638</td>\n",
       "      <td>0</td>\n",
       "      <td>0.00818155</td>\n",
       "      <td>0.0105699</td>\n",
       "    </tr>\n",
       "    <tr>\n",
       "      <th>q10</th>\n",
       "      <td>0.0113462</td>\n",
       "      <td>0.00376387</td>\n",
       "      <td>0</td>\n",
       "      <td>0.00758229</td>\n",
       "      <td>0.0139645</td>\n",
       "    </tr>\n",
       "    <tr>\n",
       "      <th>q11</th>\n",
       "      <td>0.00526298</td>\n",
       "      <td>0.00723733</td>\n",
       "      <td>0</td>\n",
       "      <td>0</td>\n",
       "      <td>0.0089077</td>\n",
       "    </tr>\n",
       "    <tr>\n",
       "      <th>q12</th>\n",
       "      <td>0.00290135</td>\n",
       "      <td>0.00797951</td>\n",
       "      <td>0</td>\n",
       "      <td>0</td>\n",
       "      <td>0.00613784</td>\n",
       "    </tr>\n",
       "    <tr>\n",
       "      <th>q13</th>\n",
       "      <td>0.00702216</td>\n",
       "      <td>0.00482755</td>\n",
       "      <td>0.0096551</td>\n",
       "      <td>0.0096551</td>\n",
       "      <td>0.00482755</td>\n",
       "    </tr>\n",
       "    <tr>\n",
       "      <th>q14</th>\n",
       "      <td>0.00835634</td>\n",
       "      <td>0.00835634</td>\n",
       "      <td>0.00417817</td>\n",
       "      <td>0.0050138</td>\n",
       "      <td>0.0075207</td>\n",
       "    </tr>\n",
       "    <tr>\n",
       "      <th>q15</th>\n",
       "      <td>0.00530761</td>\n",
       "      <td>0.00426046</td>\n",
       "      <td>0.0161457</td>\n",
       "      <td>0.0104283</td>\n",
       "      <td>0.0083809</td>\n",
       "    </tr>\n",
       "    <tr>\n",
       "      <th>q16a</th>\n",
       "      <td>0.0157272</td>\n",
       "      <td>0</td>\n",
       "      <td>0</td>\n",
       "      <td>0.0039318</td>\n",
       "      <td>0.0078636</td>\n",
       "    </tr>\n",
       "    <tr>\n",
       "      <th>q16b</th>\n",
       "      <td>0.00211393</td>\n",
       "      <td>0.00845572</td>\n",
       "      <td>0</td>\n",
       "      <td>0.0100049</td>\n",
       "      <td>0.00766365</td>\n",
       "    </tr>\n",
       "    <tr>\n",
       "      <th>q16c</th>\n",
       "      <td>0.00169056</td>\n",
       "      <td>0.00306336</td>\n",
       "      <td>0.000404172</td>\n",
       "      <td>0.00050061</td>\n",
       "      <td>0.00253056</td>\n",
       "    </tr>\n",
       "    <tr>\n",
       "      <th>q16d</th>\n",
       "      <td>0.00936562</td>\n",
       "      <td>0.00576346</td>\n",
       "      <td>0.00960576</td>\n",
       "      <td>0.00691615</td>\n",
       "      <td>0.00720432</td>\n",
       "    </tr>\n",
       "    <tr>\n",
       "      <th>q16e</th>\n",
       "      <td>0.00497069</td>\n",
       "      <td>0.00527873</td>\n",
       "      <td>0.005786</td>\n",
       "      <td>0.00447911</td>\n",
       "      <td>0.00665705</td>\n",
       "    </tr>\n",
       "    <tr>\n",
       "      <th>q16f</th>\n",
       "      <td>0.00236205</td>\n",
       "      <td>0.00714217</td>\n",
       "      <td>0</td>\n",
       "      <td>0.0106894</td>\n",
       "      <td>0.00856316</td>\n",
       "    </tr>\n",
       "    <tr>\n",
       "      <th>q16g</th>\n",
       "      <td>0.00496006</td>\n",
       "      <td>0</td>\n",
       "      <td>0.00496006</td>\n",
       "      <td>0.00744009</td>\n",
       "      <td>0.00744009</td>\n",
       "    </tr>\n",
       "    <tr>\n",
       "      <th>q16h</th>\n",
       "      <td>0.0100263</td>\n",
       "      <td>0</td>\n",
       "      <td>0.00167105</td>\n",
       "      <td>0.00501315</td>\n",
       "      <td>0.0133684</td>\n",
       "    </tr>\n",
       "    <tr>\n",
       "      <th>q16i</th>\n",
       "      <td>0</td>\n",
       "      <td>0</td>\n",
       "      <td>0</td>\n",
       "      <td>0</td>\n",
       "      <td>0</td>\n",
       "    </tr>\n",
       "    <tr>\n",
       "      <th>q16j</th>\n",
       "      <td>0.0025374</td>\n",
       "      <td>0.00369077</td>\n",
       "      <td>0.00184539</td>\n",
       "      <td>0.00147631</td>\n",
       "      <td>0.0059975</td>\n",
       "    </tr>\n",
       "    <tr>\n",
       "      <th>q16k</th>\n",
       "      <td>0.00450049</td>\n",
       "      <td>0.00450049</td>\n",
       "      <td>0</td>\n",
       "      <td>0.00900098</td>\n",
       "      <td>0</td>\n",
       "    </tr>\n",
       "    <tr>\n",
       "      <th>q16l</th>\n",
       "      <td>0</td>\n",
       "      <td>0</td>\n",
       "      <td>0</td>\n",
       "      <td>0</td>\n",
       "      <td>0</td>\n",
       "    </tr>\n",
       "    <tr>\n",
       "      <th>q16m</th>\n",
       "      <td>0.0046769</td>\n",
       "      <td>0.00571621</td>\n",
       "      <td>0.0124717</td>\n",
       "      <td>0.0133032</td>\n",
       "      <td>0.00571621</td>\n",
       "    </tr>\n",
       "    <tr>\n",
       "      <th>q16n</th>\n",
       "      <td>0.00108013</td>\n",
       "      <td>0</td>\n",
       "      <td>0</td>\n",
       "      <td>0.00864105</td>\n",
       "      <td>0.00972118</td>\n",
       "    </tr>\n",
       "    <tr>\n",
       "      <th>q16o</th>\n",
       "      <td>0.008286</td>\n",
       "      <td>0</td>\n",
       "      <td>0.011048</td>\n",
       "      <td>0.0066288</td>\n",
       "      <td>0.011048</td>\n",
       "    </tr>\n",
       "    <tr>\n",
       "      <th>q16p</th>\n",
       "      <td>0.00860207</td>\n",
       "      <td>0</td>\n",
       "      <td>0.00860207</td>\n",
       "      <td>0.00344083</td>\n",
       "      <td>0.00215052</td>\n",
       "    </tr>\n",
       "    <tr>\n",
       "      <th>q16q</th>\n",
       "      <td>0.00263352</td>\n",
       "      <td>0.00280545</td>\n",
       "      <td>0.00067797</td>\n",
       "      <td>0.00118365</td>\n",
       "      <td>0.00188152</td>\n",
       "    </tr>\n",
       "    <tr>\n",
       "      <th>q16r</th>\n",
       "      <td>0.00949049</td>\n",
       "      <td>0.00379619</td>\n",
       "      <td>0.00949049</td>\n",
       "      <td>0.00949049</td>\n",
       "      <td>0.00949049</td>\n",
       "    </tr>\n",
       "    <tr>\n",
       "      <th>q16s</th>\n",
       "      <td>experienced</td>\n",
       "      <td>experienced</td>\n",
       "      <td>experienced</td>\n",
       "      <td>experienced</td>\n",
       "      <td>experienced</td>\n",
       "    </tr>\n",
       "    <tr>\n",
       "      <th>q16t</th>\n",
       "      <td>0</td>\n",
       "      <td>0</td>\n",
       "      <td>0</td>\n",
       "      <td>0</td>\n",
       "      <td>0</td>\n",
       "    </tr>\n",
       "    <tr>\n",
       "      <th>q16u</th>\n",
       "      <td>0.0037012</td>\n",
       "      <td>0.00986986</td>\n",
       "      <td>0.00986986</td>\n",
       "      <td>0.0138178</td>\n",
       "      <td>0.00493493</td>\n",
       "    </tr>\n",
       "    <tr>\n",
       "      <th>q16v</th>\n",
       "      <td>0.00214236</td>\n",
       "      <td>0.0058915</td>\n",
       "      <td>0.00990843</td>\n",
       "      <td>0.00374913</td>\n",
       "      <td>0.000803386</td>\n",
       "    </tr>\n",
       "    <tr>\n",
       "      <th>q16w</th>\n",
       "      <td>0.0104295</td>\n",
       "      <td>0.00160453</td>\n",
       "      <td>0.00133711</td>\n",
       "      <td>0.0048136</td>\n",
       "      <td>0.00802266</td>\n",
       "    </tr>\n",
       "    <tr>\n",
       "      <th>q16x</th>\n",
       "      <td>0.0015922</td>\n",
       "      <td>0</td>\n",
       "      <td>0.000451349</td>\n",
       "      <td>0.00143152</td>\n",
       "      <td>0.00894635</td>\n",
       "    </tr>\n",
       "    <tr>\n",
       "      <th>q16y</th>\n",
       "      <td>0.00716585</td>\n",
       "      <td>0.00365874</td>\n",
       "      <td>0.0155005</td>\n",
       "      <td>0.01314</td>\n",
       "      <td>0.00720355</td>\n",
       "    </tr>\n",
       "    <tr>\n",
       "      <th>q16z</th>\n",
       "      <td>0.0247974</td>\n",
       "      <td>0</td>\n",
       "      <td>0</td>\n",
       "      <td>0.00619935</td>\n",
       "      <td>0.00619935</td>\n",
       "    </tr>\n",
       "    <tr>\n",
       "      <th>q16aa</th>\n",
       "      <td>0</td>\n",
       "      <td>0.015082</td>\n",
       "      <td>0</td>\n",
       "      <td>0</td>\n",
       "      <td>0.0653555</td>\n",
       "    </tr>\n",
       "    <tr>\n",
       "      <th>q16ab</th>\n",
       "      <td>0.00187722</td>\n",
       "      <td>0</td>\n",
       "      <td>0</td>\n",
       "      <td>0.00234652</td>\n",
       "      <td>0.00750887</td>\n",
       "    </tr>\n",
       "    <tr>\n",
       "      <th>q16ac</th>\n",
       "      <td>0.00936562</td>\n",
       "      <td>0.00576346</td>\n",
       "      <td>0.00960576</td>\n",
       "      <td>0.00691615</td>\n",
       "      <td>0.00720432</td>\n",
       "    </tr>\n",
       "    <tr>\n",
       "      <th>status_experienced</th>\n",
       "      <td>1</td>\n",
       "      <td>1</td>\n",
       "      <td>1</td>\n",
       "      <td>1</td>\n",
       "      <td>1</td>\n",
       "    </tr>\n",
       "    <tr>\n",
       "      <th>status_freshman</th>\n",
       "      <td>0</td>\n",
       "      <td>0</td>\n",
       "      <td>0</td>\n",
       "      <td>0</td>\n",
       "      <td>0</td>\n",
       "    </tr>\n",
       "  </tbody>\n",
       "</table>\n",
       "</div>"
      ],
      "text/plain": [
       "                                     47453  ...                   50079\n",
       "user_id             Gd_IGX3BmRYbPD84ovLEoA  ...  HcL7R7ingTW8nenpD3X2cg\n",
       "q3                                0.008138  ...                0.008138\n",
       "q4                              0.00138075  ...              0.00552301\n",
       "q5                             0.000803353  ...              0.00401676\n",
       "q6                              0.00425678  ...              0.00691727\n",
       "q7                               0.0105699  ...               0.0105699\n",
       "q10                              0.0113462  ...               0.0139645\n",
       "q11                             0.00526298  ...               0.0089077\n",
       "q12                             0.00290135  ...              0.00613784\n",
       "q13                             0.00702216  ...              0.00482755\n",
       "q14                             0.00835634  ...               0.0075207\n",
       "q15                             0.00530761  ...               0.0083809\n",
       "q16a                             0.0157272  ...               0.0078636\n",
       "q16b                            0.00211393  ...              0.00766365\n",
       "q16c                            0.00169056  ...              0.00253056\n",
       "q16d                            0.00936562  ...              0.00720432\n",
       "q16e                            0.00497069  ...              0.00665705\n",
       "q16f                            0.00236205  ...              0.00856316\n",
       "q16g                            0.00496006  ...              0.00744009\n",
       "q16h                             0.0100263  ...               0.0133684\n",
       "q16i                                     0  ...                       0\n",
       "q16j                             0.0025374  ...               0.0059975\n",
       "q16k                            0.00450049  ...                       0\n",
       "q16l                                     0  ...                       0\n",
       "q16m                             0.0046769  ...              0.00571621\n",
       "q16n                            0.00108013  ...              0.00972118\n",
       "q16o                              0.008286  ...                0.011048\n",
       "q16p                            0.00860207  ...              0.00215052\n",
       "q16q                            0.00263352  ...              0.00188152\n",
       "q16r                            0.00949049  ...              0.00949049\n",
       "q16s                           experienced  ...             experienced\n",
       "q16t                                     0  ...                       0\n",
       "q16u                             0.0037012  ...              0.00493493\n",
       "q16v                            0.00214236  ...             0.000803386\n",
       "q16w                             0.0104295  ...              0.00802266\n",
       "q16x                             0.0015922  ...              0.00894635\n",
       "q16y                            0.00716585  ...              0.00720355\n",
       "q16z                             0.0247974  ...              0.00619935\n",
       "q16aa                                    0  ...               0.0653555\n",
       "q16ab                           0.00187722  ...              0.00750887\n",
       "q16ac                           0.00936562  ...              0.00720432\n",
       "status_experienced                       1  ...                       1\n",
       "status_freshman                          0  ...                       0\n",
       "\n",
       "[43 rows x 5 columns]"
      ]
     },
     "execution_count": 33,
     "metadata": {
      "tags": []
     },
     "output_type": "execute_result"
    }
   ],
   "source": [
    "# excluding categorical, nominal and binary variables for normalization\n",
    "num_cols = [col for col in df1.columns if col not in ['user_id','q16l','q16s','q16t','status_experienced','status_freshman']]\n",
    "df1[num_cols]=normalize(df1[num_cols], axis=0) # update numerical features with normalized values\n",
    "df1.head().T"
   ]
  },
  {
   "cell_type": "markdown",
   "metadata": {
    "colab_type": "text",
    "deletable": false,
    "editable": false,
    "id": "jSJjHlsc8Wht",
    "nbgrader": {
     "checksum": "26e9bec01f855d44456f65879afa7ccf",
     "grade": false,
     "grade_id": "cell-be1b2a4ecbcb5558",
     "locked": true,
     "schema_version": 1,
     "solution": false
    }
   },
   "source": [
    "Using the the `sum of within cluster variance` metric with the elbow method what was the best k?"
   ]
  },
  {
   "cell_type": "code",
   "execution_count": 34,
   "metadata": {
    "colab": {
     "base_uri": "https://localhost:8080/",
     "height": 299
    },
    "colab_type": "code",
    "deletable": false,
    "id": "HoZOPumL8Whv",
    "nbgrader": {
     "checksum": "3971d6b7067c2e2b586a79b0fca34252",
     "grade": true,
     "grade_id": "cell-f49f54902337159c",
     "locked": false,
     "points": 2,
     "schema_version": 1,
     "solution": true
    },
    "outputId": "21dfa255-9e98-47e4-d7ed-b57a40a4ff72"
   },
   "outputs": [
    {
     "data": {
      "image/png": "[encoded data removed]",
      "text/plain": [
       "<Figure size 432x288 with 1 Axes>"
      ]
     },
     "metadata": {
      "tags": []
     },
     "output_type": "display_data"
    }
   ],
   "source": [
    "X = df1.drop(columns=['user_id', 'q16s'])\n",
    "intra_var = []\n",
    "K = range(1,11)\n",
    "for k in K:\n",
    "  kmeans = KMeans(n_clusters=k, random_state=42)\n",
    "  kmeans.fit(X)\n",
    "  intra_var.append(kmeans.inertia_)\n",
    "\n",
    "plt.plot(K, intra_var,'bx-')\n",
    "plt.xlabel('k')\n",
    "plt.ylabel('Sum of within cluster variance')\n",
    "plt.title('The Elbow Method showing the best k')\n",
    "plt.show()\n",
    "\n",
    "# raise NotImplementedError()"
   ]
  },
  {
   "cell_type": "markdown",
   "metadata": {
    "colab_type": "text",
    "id": "Q19WwY1hnLij"
   },
   "source": [
    "The best k is 3 where the inflection point of the biggest change in slope."
   ]
  },
  {
   "cell_type": "markdown",
   "metadata": {
    "colab_type": "text",
    "deletable": false,
    "editable": false,
    "id": "_-cRpVgA8Wh2",
    "nbgrader": {
     "checksum": "78e8416b2c9c63fb2e91cc747a982eb9",
     "grade": false,
     "grade_id": "cell-ed56b09f2baf02c7",
     "locked": true,
     "schema_version": 1,
     "solution": false
    }
   },
   "source": [
    "### Question 10 `(1 points)`\n",
    "**This question will be manually graded.**\n",
    "\n",
    "For this question please come up with your own question about this dataset and using a clustering technique as part of your method of answering it. Describe in short the question, and how clustering can answer that question.\n"
   ]
  },
  {
   "cell_type": "code",
   "execution_count": 35,
   "metadata": {
    "colab": {
     "base_uri": "https://localhost:8080/",
     "height": 299
    },
    "colab_type": "code",
    "deletable": false,
    "id": "vGcMVdVM8Wh6",
    "nbgrader": {
     "checksum": "5ec519964252120ba10b8ea5633da3d3",
     "grade": true,
     "grade_id": "cell-01090109d82adc22",
     "locked": false,
     "points": 1,
     "schema_version": 1,
     "solution": true
    },
    "outputId": "c3433df0-59d5-4feb-c875-e61d510d3ba8"
   },
   "outputs": [
    {
     "data": {
      "image/png": "[encoded data removed]",
      "text/plain": [
       "<Figure size 432x288 with 1 Axes>"
      ]
     },
     "metadata": {
      "tags": []
     },
     "output_type": "display_data"
    }
   ],
   "source": [
    "# my question: What is the best k using the Elbow Method rather than Silhouette Score as the metric in Question3? Will the k be different?\n",
    "X_1 = df1.loc[:,'q11':'q13']\n",
    "sse = []\n",
    "K = range(1,11)\n",
    "for k in K:\n",
    "  kmeans_1 = KMeans(n_clusters=k, random_state=42)\n",
    "  kmeans_1.fit(X_1)\n",
    "  sse.append(kmeans_1.inertia_)\n",
    "\n",
    "plt.plot(K, sse,'bx-')\n",
    "plt.xlabel('k')\n",
    "plt.ylabel('Sum of within cluster variance')\n",
    "plt.title('The Elbow Method showing the best k')\n",
    "plt.show()\n",
    "# raise NotImplementedError()"
   ]
  },
  {
   "cell_type": "markdown",
   "metadata": {
    "colab_type": "text",
    "id": "7OdEVafG5LPF"
   },
   "source": [
    "The best k=3 if we change the metric to SSE with Elbow Method rather than k=8 if using Silhouette Score. Since we don't consider inter-cluster distances in the Elbow method, we get a different k in clustering. This tells us that metric to evaluate clustering performance is very important."
   ]
  },
  {
   "cell_type": "markdown",
   "metadata": {
    "colab_type": "text",
    "deletable": false,
    "editable": false,
    "id": "Ylv6UWqm8WiC",
    "nbgrader": {
     "checksum": "47c18987b74081b9f0e201d36229f33d",
     "grade": false,
     "grade_id": "cell-b549ed2cba475bb7",
     "locked": true,
     "schema_version": 1,
     "solution": false
    }
   },
   "source": [
    "## Bonus question (`2 Points`) - Reviewer overlap:\n",
    "- Download last week's dataset\n",
    "- Aggregate cool, funny and useful votes for each business id\n",
    "- You may transform the aggregations (take %, log, or leave it as it is)\n",
    "- Cluster this dataframe (you can choose k). Do you find any meaningful/interesting clusters?\n",
    "- Assign the cluster label to each business id\n",
    "- Merge this with users to show what clusters the reviewers have reviewed. (You may need to use the pivot function) "
   ]
  },
  {
   "cell_type": "code",
   "execution_count": null,
   "metadata": {
    "colab": {},
    "colab_type": "code",
    "deletable": false,
    "id": "j319ReI98WiH",
    "nbgrader": {
     "checksum": "b07907c97fe5a173c8ed578ba3d2876b",
     "grade": true,
     "grade_id": "cell-33aa50b382e692ca",
     "locked": false,
     "points": 2,
     "schema_version": 1,
     "solution": true
    }
   },
   "outputs": [],
   "source": [
    "# YOUR CODE HERE\n",
    "raise NotImplementedError()"
   ]
  }
 ],
 "metadata": {
  "colab": {
   "collapsed_sections": [],
   "name": "Qiu_Yin_Lab 2",
   "provenance": []
  },
  "kernelspec": {
   "display_name": "Python 3",
   "language": "python",
   "name": "python3"
  },
  "language_info": {
   "codemirror_mode": {
    "name": "ipython",
    "version": 3
   },
   "file_extension": ".py",
   "mimetype": "text/x-python",
   "name": "python",
   "nbconvert_exporter": "python",
   "pygments_lexer": "ipython3",
   "version": "3.7.6"
  }
 },
 "nbformat": 4,
 "nbformat_minor": 1
}
