{
 "cells": [
  {
   "cell_type": "markdown",
   "metadata": {
    "colab_type": "text",
    "id": "1xxMXNDF7ckw"
   },
   "source": [
    "\n",
    "\n",
    "```\n",
    "# This is formatted as code\n",
    "```\n",
    "\n",
    "# DMA Fall 20\n",
    "\n",
    "**Note** : This entire lab will be manually evaluated.\n",
    "\n",
    "Name : 'Yin Qiu'\n",
    "Collaborator : ''"
   ]
  },
  {
   "cell_type": "markdown",
   "metadata": {
    "colab_type": "text",
    "id": "Oyb_RNpFreOr"
   },
   "source": [
    "# Lab 4: Neural Networks #\n"
   ]
  },
  {
   "cell_type": "code",
   "execution_count": 1,
   "metadata": {
    "colab": {},
    "colab_type": "code",
    "id": "yj9Uh79ereOs"
   },
   "outputs": [],
   "source": [
    "import pandas as pd\n",
    "from sklearn.neural_network import MLPClassifier\n",
    "from sklearn.svm import SVC\n",
    "\n",
    "from sklearn.preprocessing import StandardScaler, MinMaxScaler\n",
    "from sklearn.preprocessing import LabelEncoder, OneHotEncoder\n",
    "from sklearn.feature_extraction import DictVectorizer\n",
    "\n",
    "from sklearn.pipeline import Pipeline\n",
    "from sklearn.metrics import accuracy_score\n",
    "from sklearn.model_selection import train_test_split\n",
    "from sklearn.model_selection import GridSearchCV, ParameterGrid\n",
    "\n",
    "import numpy as np\n",
    "\n",
    "import warnings\n",
    "warnings.filterwarnings(\"ignore\")"
   ]
  },
  {
   "cell_type": "code",
   "execution_count": 3,
   "metadata": {
    "colab": {
     "base_uri": "https://localhost:8080/",
     "height": 700
    },
    "colab_type": "code",
    "id": "n6SRFrhfreOt",
    "outputId": "417a026c-cdaa-4294-8677-ea8669b28cc7"
   },
   "outputs": [
    {
     "name": "stdout",
     "output_type": "stream",
     "text": [
      "--2020-09-21 01:51:59--  http://people.ischool.berkeley.edu/~zp/course_datasets/lab_4_training.csv\n",
      "Resolving people.ischool.berkeley.edu (people.ischool.berkeley.edu)... 128.32.78.16\n",
      "Connecting to people.ischool.berkeley.edu (people.ischool.berkeley.edu)|128.32.78.16|:80... connected.\n",
      "HTTP request sent, awaiting response... 301 Moved Permanently\n",
      "Location: https://people.ischool.berkeley.edu/~zp/course_datasets/lab_4_training.csv [following]\n",
      "--2020-09-21 01:51:59--  https://people.ischool.berkeley.edu/~zp/course_datasets/lab_4_training.csv\n",
      "Connecting to people.ischool.berkeley.edu (people.ischool.berkeley.edu)|128.32.78.16|:443... connected.\n",
      "HTTP request sent, awaiting response... 200 OK\n",
      "Length: 105581 (103K) [text/csv]\n",
      "Saving to: ‘lab_4_training.csv.1’\n",
      "\n",
      "lab_4_training.csv. 100%[===================>] 103.11K   252KB/s    in 0.4s    \n",
      "\n",
      "2020-09-21 01:52:00 (252 KB/s) - ‘lab_4_training.csv.1’ saved [105581/105581]\n",
      "\n",
      "URL transformed to HTTPS due to an HSTS policy\n",
      "--2020-09-21 01:52:00--  https://people.ischool.berkeley.edu/~zp/course_datasets/lab_4_test.csv\n",
      "Resolving people.ischool.berkeley.edu (people.ischool.berkeley.edu)... 128.32.78.16\n",
      "Connecting to people.ischool.berkeley.edu (people.ischool.berkeley.edu)|128.32.78.16|:443... connected.\n",
      "HTTP request sent, awaiting response... 200 OK\n",
      "Length: 26523 (26K) [text/csv]\n",
      "Saving to: ‘lab_4_test.csv.1’\n",
      "\n",
      "lab_4_test.csv.1    100%[===================>]  25.90K  --.-KB/s    in 0.1s    \n",
      "\n",
      "2020-09-21 01:52:01 (190 KB/s) - ‘lab_4_test.csv.1’ saved [26523/26523]\n",
      "\n"
     ]
    },
    {
     "data": {
      "text/html": [
       "<div>\n",
       "<style scoped>\n",
       "    .dataframe tbody tr th:only-of-type {\n",
       "        vertical-align: middle;\n",
       "    }\n",
       "\n",
       "    .dataframe tbody tr th {\n",
       "        vertical-align: top;\n",
       "    }\n",
       "\n",
       "    .dataframe thead th {\n",
       "        text-align: right;\n",
       "    }\n",
       "</style>\n",
       "<table border=\"1\" class=\"dataframe\">\n",
       "  <thead>\n",
       "    <tr style=\"text-align: right;\">\n",
       "      <th></th>\n",
       "      <th>Unnamed: 0</th>\n",
       "      <th>gender</th>\n",
       "      <th>age</th>\n",
       "      <th>year</th>\n",
       "      <th>eyecolor</th>\n",
       "      <th>height</th>\n",
       "      <th>miles</th>\n",
       "      <th>brothers</th>\n",
       "      <th>sisters</th>\n",
       "      <th>computertime</th>\n",
       "      <th>exercise</th>\n",
       "      <th>exercisehours</th>\n",
       "      <th>musiccds</th>\n",
       "      <th>playgames</th>\n",
       "      <th>watchtv</th>\n",
       "    </tr>\n",
       "  </thead>\n",
       "  <tbody>\n",
       "    <tr>\n",
       "      <th>0</th>\n",
       "      <td>1303</td>\n",
       "      <td>male</td>\n",
       "      <td>20</td>\n",
       "      <td>second</td>\n",
       "      <td>green</td>\n",
       "      <td>73.0</td>\n",
       "      <td>210.0</td>\n",
       "      <td>0</td>\n",
       "      <td>1</td>\n",
       "      <td>10.0</td>\n",
       "      <td>Yes</td>\n",
       "      <td>5.0</td>\n",
       "      <td>50.0</td>\n",
       "      <td>1.0</td>\n",
       "      <td>15.0</td>\n",
       "    </tr>\n",
       "    <tr>\n",
       "      <th>1</th>\n",
       "      <td>36</td>\n",
       "      <td>male</td>\n",
       "      <td>20</td>\n",
       "      <td>third</td>\n",
       "      <td>other</td>\n",
       "      <td>71.0</td>\n",
       "      <td>90.0</td>\n",
       "      <td>1</td>\n",
       "      <td>0</td>\n",
       "      <td>15.0</td>\n",
       "      <td>Yes</td>\n",
       "      <td>4.0</td>\n",
       "      <td>10.0</td>\n",
       "      <td>0.0</td>\n",
       "      <td>1.0</td>\n",
       "    </tr>\n",
       "    <tr>\n",
       "      <th>2</th>\n",
       "      <td>489</td>\n",
       "      <td>male</td>\n",
       "      <td>22</td>\n",
       "      <td>fourth</td>\n",
       "      <td>hazel</td>\n",
       "      <td>75.0</td>\n",
       "      <td>200.0</td>\n",
       "      <td>0</td>\n",
       "      <td>1</td>\n",
       "      <td>1.0</td>\n",
       "      <td>Yes</td>\n",
       "      <td>2.0</td>\n",
       "      <td>150.0</td>\n",
       "      <td>1.0</td>\n",
       "      <td>10.0</td>\n",
       "    </tr>\n",
       "    <tr>\n",
       "      <th>3</th>\n",
       "      <td>1415</td>\n",
       "      <td>male</td>\n",
       "      <td>19</td>\n",
       "      <td>second</td>\n",
       "      <td>brown</td>\n",
       "      <td>72.0</td>\n",
       "      <td>35.0</td>\n",
       "      <td>2</td>\n",
       "      <td>2</td>\n",
       "      <td>20.0</td>\n",
       "      <td>Yes</td>\n",
       "      <td>5.0</td>\n",
       "      <td>100.0</td>\n",
       "      <td>0.0</td>\n",
       "      <td>7.0</td>\n",
       "    </tr>\n",
       "    <tr>\n",
       "      <th>4</th>\n",
       "      <td>616</td>\n",
       "      <td>male</td>\n",
       "      <td>22</td>\n",
       "      <td>fourth</td>\n",
       "      <td>hazel</td>\n",
       "      <td>71.0</td>\n",
       "      <td>15.0</td>\n",
       "      <td>2</td>\n",
       "      <td>1</td>\n",
       "      <td>10.0</td>\n",
       "      <td>Yes</td>\n",
       "      <td>7.0</td>\n",
       "      <td>10.0</td>\n",
       "      <td>0.0</td>\n",
       "      <td>5.0</td>\n",
       "    </tr>\n",
       "  </tbody>\n",
       "</table>\n",
       "</div>"
      ],
      "text/plain": [
       "   Unnamed: 0 gender  age    year  ... exercisehours  musiccds  playgames  watchtv\n",
       "0        1303   male   20  second  ...           5.0      50.0        1.0     15.0\n",
       "1          36   male   20   third  ...           4.0      10.0        0.0      1.0\n",
       "2         489   male   22  fourth  ...           2.0     150.0        1.0     10.0\n",
       "3        1415   male   19  second  ...           5.0     100.0        0.0      7.0\n",
       "4         616   male   22  fourth  ...           7.0      10.0        0.0      5.0\n",
       "\n",
       "[5 rows x 15 columns]"
      ]
     },
     "execution_count": 3,
     "metadata": {
      "tags": []
     },
     "output_type": "execute_result"
    }
   ],
   "source": [
    "!wget http://people.ischool.berkeley.edu/~zp/course_datasets/lab_4_training.csv\n",
    "!wget http://people.ischool.berkeley.edu/~zp/course_datasets/lab_4_test.csv\n",
    "\n",
    "df_train = pd.read_csv('./lab_4_training.csv')\n",
    "df_test = pd.read_csv('./lab_4_test.csv')\n",
    "df_train.head()"
   ]
  },
  {
   "cell_type": "markdown",
   "metadata": {
    "colab_type": "text",
    "id": "RGt_10ZAreOv"
   },
   "source": [
    "***\n",
    "### Question 1###\n",
    "Calculate a baseline accuracy measure using the majority class, assuming a target variable of 'gender'. The majority class is the most common value of the target variable in a particular dataset. Accuracy is calculated as (true positives + true negatives) / (all negatives and positives)"
   ]
  },
  {
   "cell_type": "markdown",
   "metadata": {
    "colab_type": "text",
    "id": "UZPiLgekreOw"
   },
   "source": [
    "**Question 1.a**  \n",
    "Find the majority class in the training set. If you always predicted this class in the training set, what would your accuracy be?"
   ]
  },
  {
   "cell_type": "code",
   "execution_count": 11,
   "metadata": {
    "colab": {
     "base_uri": "https://localhost:8080/",
     "height": 68
    },
    "colab_type": "code",
    "id": "iYjEFc1greOx",
    "outputId": "39f5d3cc-82cf-471c-ce37-9a22a5f1fb9d"
   },
   "outputs": [
    {
     "data": {
      "text/plain": [
       "female    855\n",
       "male      735\n",
       "Name: gender, dtype: int64"
      ]
     },
     "execution_count": 11,
     "metadata": {
      "tags": []
     },
     "output_type": "execute_result"
    }
   ],
   "source": [
    "df1 = df_train.gender.value_counts()\n",
    "df1"
   ]
  },
  {
   "cell_type": "code",
   "execution_count": 33,
   "metadata": {
    "colab": {
     "base_uri": "https://localhost:8080/",
     "height": 34
    },
    "colab_type": "code",
    "id": "NvB7qaqjX0JD",
    "outputId": "6465ccac-b65d-4990-8aeb-ad7cbd6a2a13"
   },
   "outputs": [
    {
     "data": {
      "text/plain": [
       "0.5377358490566038"
      ]
     },
     "execution_count": 33,
     "metadata": {
      "tags": []
     },
     "output_type": "execute_result"
    }
   ],
   "source": [
    "# majority class is female; calculate accuracy if all predictions are female\n",
    "accuracy_q1a = df1['female']/df1.sum()\n",
    "accuracy_q1a"
   ]
  },
  {
   "cell_type": "markdown",
   "metadata": {
    "colab_type": "text",
    "id": "RtvFM-hM0y2o"
   },
   "source": [
    "###ANSWER: \n",
    "Accuracy is 0.5377358490566038"
   ]
  },
  {
   "cell_type": "markdown",
   "metadata": {
    "colab_type": "text",
    "id": "ULPKW0IvreOy"
   },
   "source": [
    "**Question 1.b**   \n",
    "If you always predicted this same class (majority from the training set) in the test set, what would your accuracy be?"
   ]
  },
  {
   "cell_type": "code",
   "execution_count": 13,
   "metadata": {
    "colab": {
     "base_uri": "https://localhost:8080/",
     "height": 68
    },
    "colab_type": "code",
    "id": "dfU5mwh405vq",
    "outputId": "606d6153-449c-44c9-bf5d-e48c9959dea2"
   },
   "outputs": [
    {
     "data": {
      "text/plain": [
       "female    208\n",
       "male      190\n",
       "Name: gender, dtype: int64"
      ]
     },
     "execution_count": 13,
     "metadata": {
      "tags": []
     },
     "output_type": "execute_result"
    }
   ],
   "source": [
    "df2 = df_test.gender.value_counts()\n",
    "df2"
   ]
  },
  {
   "cell_type": "code",
   "execution_count": 34,
   "metadata": {
    "colab": {
     "base_uri": "https://localhost:8080/",
     "height": 34
    },
    "colab_type": "code",
    "id": "eJi0lf8TaCQ5",
    "outputId": "177d26c6-fb5c-47a5-e25c-00411b69397c"
   },
   "outputs": [
    {
     "data": {
      "text/plain": [
       "0.5226130653266332"
      ]
     },
     "execution_count": 34,
     "metadata": {
      "tags": []
     },
     "output_type": "execute_result"
    }
   ],
   "source": [
    "accuracy_q1b = df2['female']/df2.sum()\n",
    "accuracy_q1b"
   ]
  },
  {
   "cell_type": "markdown",
   "metadata": {
    "colab_type": "text",
    "id": "pINRUJxG05v4"
   },
   "source": [
    "###ANSWER: \n",
    "Accuracy is 0.5226130653266332"
   ]
  },
  {
   "cell_type": "markdown",
   "metadata": {
    "colab_type": "text",
    "id": "GKb2Ju-GreO0"
   },
   "source": [
    "***\n",
    "### Question 2 ###\n",
    "Get started with Neural Networks."
   ]
  },
  {
   "cell_type": "markdown",
   "metadata": {
    "colab_type": "text",
    "id": "UYI6e3F3reO0"
   },
   "source": [
    "   \n",
    "Choose a NN implementation (eg: scikit-learn) and specify which you choose. Be sure the implementation allows you to modify the number of hidden layers and hidden nodes per layer.  \n",
    "\n",
    "NOTE: When possible, specify the logsig (sigmoid/logistc) function as the transfer function (another word for activation function) and use Levenberg-Marquardt backpropagation (lbfgs). It is possible to specify logistic in Sklearn MLPclassifier (Neural net).  "
   ]
  },
  {
   "cell_type": "markdown",
   "metadata": {
    "colab_type": "text",
    "id": "4am3sGc4reO1"
   },
   "source": [
    "**Question 2.a**   \n",
    "Train a neural network with a single 10 node hidden layer. Only use the Height feature of the dataset to predict the Gender. You will have to change Gender to a 0 and 1 class. After training, use your trained model to predict the class using the height feature from the training set. What was the accuracy of this prediction?"
   ]
  },
  {
   "cell_type": "code",
   "execution_count": 27,
   "metadata": {
    "colab": {
     "base_uri": "https://localhost:8080/",
     "height": 34
    },
    "colab_type": "code",
    "id": "jbAzltaw067l",
    "outputId": "fc3efebe-170d-42bc-cc74-2abdf0360a21"
   },
   "outputs": [
    {
     "name": "stdout",
     "output_type": "stream",
     "text": [
      "Accuracy on training:  0.8465408805031447\n"
     ]
    }
   ],
   "source": [
    "X_train = df_train[['height']]\n",
    "y_train = df_train['gender'].replace({'female': 0, 'male': 1}, inplace=False)\n",
    "\n",
    "clf = MLPClassifier(hidden_layer_sizes=(10,), activation='logistic', solver='lbfgs', \n",
    "                    max_iter=100, n_iter_no_change=10, random_state=42, verbose=True)\n",
    "\n",
    "clf.fit(X_train, y_train)\n",
    "y_train_pred = clf.predict(X_train)\n",
    "print('Accuracy on training: ', accuracy_score(y_train, y_train_pred))"
   ]
  },
  {
   "cell_type": "markdown",
   "metadata": {
    "colab_type": "text",
    "id": "EuaCk0l0067q"
   },
   "source": [
    "###ANSWER: \n",
    "The accuracy of the prediction on training data is 0.8465408805031447"
   ]
  },
  {
   "cell_type": "markdown",
   "metadata": {
    "colab_type": "text",
    "id": "AkqzIeshreO2"
   },
   "source": [
    "**Question 2.b**  \n",
    "Take the trained model from question 2.a and use it to predict the test set. This can be accomplished by taking the trained model and giving it the Height feature values from the test set. What is the accuracy of this model on the test set?"
   ]
  },
  {
   "cell_type": "code",
   "execution_count": 28,
   "metadata": {
    "colab": {
     "base_uri": "https://localhost:8080/",
     "height": 34
    },
    "colab_type": "code",
    "id": "Tw25ezWp07hj",
    "outputId": "de3c0237-0115-47d2-e9c1-ed724a03ad1e"
   },
   "outputs": [
    {
     "name": "stdout",
     "output_type": "stream",
     "text": [
      "Accuracy on testing:  0.8542713567839196\n"
     ]
    }
   ],
   "source": [
    "X_test = df_test[['height']]\n",
    "y_test = df_test['gender'].replace({'female': 0, 'male': 1}, inplace=False)\n",
    "\n",
    "y_test_pred = clf.predict(X_test)\n",
    "print('Accuracy on testing: ', accuracy_score(y_test, y_test_pred))"
   ]
  },
  {
   "cell_type": "markdown",
   "metadata": {
    "colab_type": "text",
    "id": "HbHMAFvw07hm"
   },
   "source": [
    "###ANSWER: \n",
    "The accuracy of the prediction on testing data is 0.8542713567839196"
   ]
  },
  {
   "cell_type": "markdown",
   "metadata": {
    "colab_type": "text",
    "id": "uMmIfsNEreO3"
   },
   "source": [
    "**Question 2.c**   \n",
    "Neural Networks tend to prefer smaller, normalized feature values. Try taking the log of the height feature in both training and testing sets or use a Standard Scalar operation in SKlearn to centre and normalize the data between 0-1 for continuous values. Repeat question 2.a and 2.b with the log version or the normalized and centered version of this feature"
   ]
  },
  {
   "cell_type": "code",
   "execution_count": 32,
   "metadata": {
    "colab": {
     "base_uri": "https://localhost:8080/",
     "height": 51
    },
    "colab_type": "code",
    "id": "wDhCZPaU07_8",
    "outputId": "48699110-d19e-4689-b48b-fca9d97a41b3"
   },
   "outputs": [
    {
     "name": "stdout",
     "output_type": "stream",
     "text": [
      "Accuracy on standardized training set:  0.8465408805031447\n",
      "Accuracy on standardized testing set:  0.8542713567839196\n"
     ]
    }
   ],
   "source": [
    "# Use Standard Scaler to normalize X train and X test\n",
    "sc = StandardScaler()\n",
    "X_train_scaled = sc.fit_transform(X_train)\n",
    "X_test_scaled = sc.transform(X_test)\n",
    "\n",
    "clf_2c = MLPClassifier(hidden_layer_sizes=(10,), activation='logistic', solver='lbfgs', \n",
    "                    max_iter=100, n_iter_no_change=10, random_state=42, verbose=True)\n",
    "\n",
    "clf_2c.fit(X_train_scaled, y_train)\n",
    "y_train_pred_2c = clf_2c.predict(X_train_scaled)\n",
    "print('Accuracy on standardized training set: ', accuracy_score(y_train, y_train_pred_2c))\n",
    "\n",
    "y_test_pred_2c = clf_2c.predict(X_test_scaled)\n",
    "print('Accuracy on standardized testing set: ', accuracy_score(y_test, y_test_pred_2c))"
   ]
  },
  {
   "cell_type": "markdown",
   "metadata": {
    "colab_type": "text",
    "id": "GTO2KMti07__"
   },
   "source": [
    "###ANSWER: \n",
    "Using standardization scaler, the accuracy on training is 0.8465408805031447, and the accuracy on testing is 0.8542713567839196"
   ]
  },
  {
   "cell_type": "markdown",
   "metadata": {
    "colab_type": "text",
    "id": "2_SlOdcarePC"
   },
   "source": [
    "***\n",
    "\n",
    "### Question 3###\n",
    "The rest of features in this dataset barring a few are categorical. No ML method accepts categorical features, so transform year, eyecolor, exercise into a set of binary features, one feature per unique original feature value, and mark the binary feature as ‘1’ if the feature value matches the original value and ‘0’ otherwise. Using only these binary variable transformed features, train and predict the class of the test set. What was your accuracy using Neural Network with a single 10 node hidden layer? During training, use a maximum number of iterations of 50."
   ]
  },
  {
   "cell_type": "code",
   "execution_count": 39,
   "metadata": {
    "colab": {
     "base_uri": "https://localhost:8080/",
     "height": 51
    },
    "colab_type": "code",
    "id": "YjhzBFNV1Aip",
    "outputId": "f390672d-d267-4c81-b982-0bc9dc6cf861"
   },
   "outputs": [
    {
     "name": "stdout",
     "output_type": "stream",
     "text": [
      "Accuracy of training data of year, eyecolor and exercise:  0.5779874213836478\n",
      "Accuracy of testing data of year, eyecolor and exercise:  0.5728643216080402\n"
     ]
    }
   ],
   "source": [
    "df_train['year'].replace('first\"','first', inplace=True) # fix a typo in the dataset\n",
    "df_test['year'].replace('first\"','first', inplace=True) # fix a typo in the dataset\n",
    "df3_train = pd.get_dummies(data=df_train[['year', 'eyecolor', 'exercise']]) # one-hot encoding for training categorical variables\n",
    "df3_test = pd.get_dummies(data=df_test[['year', 'eyecolor', 'exercise']]) # one-hot encoding for testing categorical variables\n",
    "\n",
    "clf_3 = MLPClassifier(hidden_layer_sizes=(10,), activation='logistic', solver='lbfgs', \n",
    "                    max_iter=100, n_iter_no_change=50, random_state=42, verbose=True)\n",
    "\n",
    "clf_3.fit(df3_train, y_train)\n",
    "y_train_pred3 = clf_3.predict(df3_train)\n",
    "print('Accuracy of training data of year, eyecolor and exercise: ', accuracy_score(y_train, y_train_pred3))\n",
    "\n",
    "y_test_pred3 = clf_3.predict(df3_test)\n",
    "print('Accuracy of testing data of year, eyecolor and exercise: ', accuracy_score(y_test, y_test_pred3))"
   ]
  },
  {
   "cell_type": "markdown",
   "metadata": {
    "colab_type": "text",
    "id": "PyQ1EvAY1Ait"
   },
   "source": [
    "###ANSWER: \n",
    "\n",
    "Accuracy of training data of year, eyecolor and exercise:  0.5779874213836478\n",
    "\n",
    "Accuracy of testing data of year, eyecolor and exercise:  0.5728643216080402\n",
    "\n"
   ]
  },
  {
   "cell_type": "markdown",
   "metadata": {
    "colab_type": "text",
    "id": "dSSr9sBlrePG"
   },
   "source": [
    "***\n",
    "### Question 4###\n",
    "Using a NN, report the accuracy on  the test set of a model that trained only on the height and the eye color features of instances in the training set."
   ]
  },
  {
   "cell_type": "markdown",
   "metadata": {
    "colab_type": "text",
    "id": "rMNSlOmJrePG"
   },
   "source": [
    "**Question 4.a**  \n",
    "What is the accuracy on the test set using the original height values (no pre-processing) and eye color as a one-hot?"
   ]
  },
  {
   "cell_type": "code",
   "execution_count": 95,
   "metadata": {
    "colab": {
     "base_uri": "https://localhost:8080/",
     "height": 51
    },
    "colab_type": "code",
    "id": "mEfv8L9mz7AZ",
    "outputId": "e5b95a1c-8268-49cb-ea4e-a3b1d259e87a"
   },
   "outputs": [
    {
     "name": "stdout",
     "output_type": "stream",
     "text": [
      "Accuracy of training data of height and eyecolor:  0.8446540880503145\n",
      "Accuracy of testing data of height and eyecolor:  0.8567839195979899\n"
     ]
    }
   ],
   "source": [
    "# no preprocessing height and one-hot encoding eyecolor\n",
    "df4_train = pd.concat([df_train['height'], pd.get_dummies(data=df_train['eyecolor'])], axis=1)\n",
    "df4_test = pd.concat([df_test['height'], pd.get_dummies(data=df_test['eyecolor'])], axis=1)\n",
    "\n",
    "clf_4a = MLPClassifier(hidden_layer_sizes=(10,), activation='logistic', solver='lbfgs', \n",
    "                    max_iter=100, n_iter_no_change=50, random_state=42, verbose=True)\n",
    "clf_4a.fit(df4_train, y_train)\n",
    "y_train_pred4a = clf_4a.predict(df4_train)\n",
    "print('Accuracy of training data of height and eyecolor: ', accuracy_score(y_train, y_train_pred4a))\n",
    "\n",
    "y_test_pred4a = clf_4a.predict(df4_test)\n",
    "print('Accuracy of testing data of height and eyecolor: ', accuracy_score(y_test, y_test_pred4a))"
   ]
  },
  {
   "cell_type": "markdown",
   "metadata": {
    "colab_type": "text",
    "id": "CaL2o0TW1Cks"
   },
   "source": [
    "###ANSWER: \n",
    "Accuracy of testing data of year and eyecolor is 0.8567839195979899"
   ]
  },
  {
   "cell_type": "markdown",
   "metadata": {
    "colab_type": "text",
    "id": "NC8Ipx9QrePH"
   },
   "source": [
    "**Question 4.b**  \n",
    "What is the accuracy on the test set using the log of height values (applied to both training and testing sets) and eye color as a one-hot?"
   ]
  },
  {
   "cell_type": "code",
   "execution_count": 96,
   "metadata": {
    "colab": {
     "base_uri": "https://localhost:8080/",
     "height": 51
    },
    "colab_type": "code",
    "id": "cFvzNv6O1DG3",
    "outputId": "a56c79f7-8391-46c2-f068-2470e62c8fc0"
   },
   "outputs": [
    {
     "name": "stdout",
     "output_type": "stream",
     "text": [
      "Accuracy of training data of log(height) and eyecolor:  0.8503144654088051\n",
      "Accuracy of testing data of log(height) and eyecolor:  0.8592964824120602\n"
     ]
    }
   ],
   "source": [
    "# log transformation of height and one-hot encoding eyecolor\n",
    "df4_train['height'] = np.log(np.array(df_train[['height']]))\n",
    "df4_test['height'] = np.log(np.array(df_test[['height']]))\n",
    "\n",
    "clf_4b = MLPClassifier(hidden_layer_sizes=(10,), activation='logistic', solver='lbfgs', \n",
    "                    max_iter=100, n_iter_no_change=50, random_state=42, verbose=True)\n",
    "clf_4b.fit(df4_train, y_train)\n",
    "y_train_pred4b = clf_4b.predict(df4_train)\n",
    "print('Accuracy of training data of log(height) and eyecolor: ', accuracy_score(y_train, y_train_pred4b))\n",
    "\n",
    "y_test_pred4b = clf_4b.predict(df4_test)\n",
    "print('Accuracy of testing data of log(height) and eyecolor: ', accuracy_score(y_test, y_test_pred4b))"
   ]
  },
  {
   "cell_type": "markdown",
   "metadata": {
    "colab_type": "text",
    "id": "Pt3NMp1M1DG4"
   },
   "source": [
    "###ANSWER: \n",
    "Accuracy of testing data of log(height) and eyecolor is 0.8592964824120602"
   ]
  },
  {
   "cell_type": "markdown",
   "metadata": {
    "colab_type": "text",
    "id": "iYm2jqnprePI"
   },
   "source": [
    "**Question 4.c**  \n",
    "What is the accuracy on the test set using the Z-score of height values and eye color as a one-hot? \n",
    "\n",
    "Z-score is a normalization function. It is the value of a feature minus the average value for that feature (in the training set), divided by the standard deviation of that feature (in the training set). Remember that, whenever applying a function to a feature in the training set, it also has to be applied to that same feature in the test set."
   ]
  },
  {
   "cell_type": "code",
   "execution_count": 97,
   "metadata": {
    "colab": {
     "base_uri": "https://localhost:8080/",
     "height": 51
    },
    "colab_type": "code",
    "id": "P3mDjF6N1DoN",
    "outputId": "f631a195-e651-4fda-cf04-34acbdf0e166"
   },
   "outputs": [
    {
     "name": "stdout",
     "output_type": "stream",
     "text": [
      "Accuracy of training data of z-score(height) and eyecolor:  0.8540880503144654\n",
      "Accuracy of testing data of z-score(height) and eyecolor:  0.8693467336683417\n"
     ]
    }
   ],
   "source": [
    "# z-score transformation of height and one-hot encoding eyecolor\n",
    "from scipy.stats import zscore\n",
    "df4_train['height'] = zscore(df_train[['height']])\n",
    "df4_test['height'] = zscore(df_test[['height']])\n",
    "\n",
    "clf_4c = MLPClassifier(hidden_layer_sizes=(10,), activation='logistic', solver='lbfgs', \n",
    "                    max_iter=100, n_iter_no_change=50, random_state=42, verbose=True)\n",
    "clf_4c.fit(df4_train, y_train)\n",
    "y_train_pred4c = clf_4c.predict(df4_train)\n",
    "print('Accuracy of training data of z-score(height) and eyecolor: ', accuracy_score(y_train, y_train_pred4c))\n",
    "\n",
    "y_test_pred4c = clf_4c.predict(df4_test)\n",
    "print('Accuracy of testing data of z-score(height) and eyecolor: ', accuracy_score(y_test, y_test_pred4c))"
   ]
  },
  {
   "cell_type": "markdown",
   "metadata": {
    "colab_type": "text",
    "id": "YAnuY8Sv1DoO"
   },
   "source": [
    "###ANSWER: \n",
    "Accuracy of testing data of z-score(height) and eyecolor is  0.8693467336683417"
   ]
  },
  {
   "cell_type": "markdown",
   "metadata": {
    "colab_type": "text",
    "id": "Fh9qwu_9rePJ"
   },
   "source": [
    "***\n",
    "### Question 5 ###\n",
    "Repeat question 4 for exercise hours + eye color"
   ]
  },
  {
   "cell_type": "code",
   "execution_count": 110,
   "metadata": {
    "colab": {
     "base_uri": "https://localhost:8080/",
     "height": 51
    },
    "colab_type": "code",
    "id": "LefQ1DJ7IsDX",
    "outputId": "9bb0bb4e-633f-488f-88d2-8e98f206515b"
   },
   "outputs": [
    {
     "name": "stdout",
     "output_type": "stream",
     "text": [
      "Accuracy of training data of exercise hours and eyecolor:  0.5880503144654088\n",
      "Accuracy of testing data of exercise hours and eyecolor:  0.5778894472361809\n"
     ]
    }
   ],
   "source": [
    "# no preprocessing exercise hours and one-hot encoding eyecolor\n",
    "df5_train = pd.concat([df_train['exercisehours'], pd.get_dummies(data=df_train['eyecolor'])], axis=1)\n",
    "df5_test = pd.concat([df_test['exercisehours'], pd.get_dummies(data=df_test['eyecolor'])], axis=1)\n",
    "\n",
    "clf_5a = MLPClassifier(hidden_layer_sizes=(10,), activation='logistic', solver='lbfgs', \n",
    "                    max_iter=100, n_iter_no_change=50, random_state=42, verbose=True)\n",
    "clf_5a.fit(df5_train, y_train)\n",
    "y_train_pred5a = clf_5a.predict(df5_train)\n",
    "print('Accuracy of training data of exercise hours and eyecolor: ', accuracy_score(y_train, y_train_pred5a))\n",
    "\n",
    "y_test_pred5a = clf_5a.predict(df5_test)\n",
    "print('Accuracy of testing data of exercise hours and eyecolor: ', accuracy_score(y_test, y_test_pred5a))"
   ]
  },
  {
   "cell_type": "code",
   "execution_count": 113,
   "metadata": {
    "colab": {
     "base_uri": "https://localhost:8080/",
     "height": 51
    },
    "colab_type": "code",
    "id": "emZy6dTgJiFI",
    "outputId": "9efc3712-49c5-4eb0-abd9-c65b730de381"
   },
   "outputs": [
    {
     "name": "stdout",
     "output_type": "stream",
     "text": [
      "Accuracy of training data of log(exercise hours) and eyecolor:  0.5861635220125786\n",
      "Accuracy of testing data of log(exercise hours) and eyecolor:  0.5753768844221105\n"
     ]
    }
   ],
   "source": [
    "# log transformation of exercise hours and one-hot encoding eyecolor\n",
    "exer_train = np.array(df_train[['exercisehours']])\n",
    "df5_train['exercisehours'] = np.log(np.where(exer_train==0, 0.00001, exer_train)) # replace 0 to 0.00001 for log transformation\n",
    "\n",
    "exer_test = np.array(df_test[['exercisehours']])\n",
    "df5_test['exercisehours'] = np.log(np.where(exer_test==0, 0.00001, exer_test)) # replace 0 to 0.00001 for log transformation\n",
    "\n",
    "clf_5b = MLPClassifier(hidden_layer_sizes=(10,), activation='logistic', solver='lbfgs', \n",
    "                    max_iter=100, n_iter_no_change=50, random_state=42, verbose=True)\n",
    "\n",
    "clf_5b.fit(df5_train, y_train)\n",
    "y_train_pred5b = clf_5b.predict(df5_train)\n",
    "print('Accuracy of training data of log(exercise hours) and eyecolor: ', accuracy_score(y_train, y_train_pred5b))\n",
    "\n",
    "y_test_pred5b = clf_5b.predict(df5_test)\n",
    "print('Accuracy of testing data of log(exercise hours) and eyecolor: ', accuracy_score(y_test, y_test_pred5b))"
   ]
  },
  {
   "cell_type": "code",
   "execution_count": 115,
   "metadata": {
    "colab": {
     "base_uri": "https://localhost:8080/",
     "height": 51
    },
    "colab_type": "code",
    "id": "bZ3KlNTdJiWc",
    "outputId": "9b705a56-c412-436c-a7de-becb612b0ccb"
   },
   "outputs": [
    {
     "name": "stdout",
     "output_type": "stream",
     "text": [
      "Accuracy of training data of z-score(exercisehours) and eyecolor:  0.5937106918238994\n",
      "Accuracy of testing data of z-score(exercisehours) and eyecolor:  0.5753768844221105\n"
     ]
    }
   ],
   "source": [
    "# z-score transformation of exercise hours and one-hot encoding eyecolor\n",
    "df5_train['exercisehours'] = zscore(df_train[['exercisehours']])\n",
    "df5_test['exercisehours'] = zscore(df_test[['exercisehours']])\n",
    "\n",
    "clf_5c = MLPClassifier(hidden_layer_sizes=(10,), activation='logistic', solver='lbfgs', \n",
    "                    max_iter=100, n_iter_no_change=50, random_state=42, verbose=True)\n",
    "clf_5c.fit(df5_train, y_train)\n",
    "y_train_pred5c = clf_5c.predict(df5_train)\n",
    "print('Accuracy of training data of z-score(exercisehours) and eyecolor: ', accuracy_score(y_train, y_train_pred5c))\n",
    "\n",
    "y_test_pred5c = clf_5c.predict(df5_test)\n",
    "print('Accuracy of testing data of z-score(exercisehours) and eyecolor: ', accuracy_score(y_test, y_test_pred5c))"
   ]
  },
  {
   "cell_type": "markdown",
   "metadata": {
    "colab_type": "text",
    "id": "ZlDfGvy61EMS"
   },
   "source": [
    "###ANSWER: \n",
    "Accuracy of testing data of exercise hours and eyecolor is 0.5778894472361809\n",
    "\n",
    "Accuracy of testing data of log(exercise hours) and eyecolor is 0.5753768844221105\n",
    "\n",
    "Accuracy of testing data of z-score(exercisehours) and eyecolor is 0.5753768844221105"
   ]
  },
  {
   "cell_type": "markdown",
   "metadata": {
    "colab_type": "text",
    "id": "JYVuaPWgrePL"
   },
   "source": [
    "***\n",
    "### Question 6###\n",
    "Combine the features from question 3, 4, and 5 (year, eyecolor, exercise, height, exercise hours). For numeric features use the best normalization method from questions 4 and 5."
   ]
  },
  {
   "cell_type": "markdown",
   "metadata": {
    "colab_type": "text",
    "id": "1iAiFhlFrePM"
   },
   "source": [
    "**Question 6.a**  \n",
    "What was the NN accuracy on the test set using the single 10 node hidden layer?"
   ]
  },
  {
   "cell_type": "code",
   "execution_count": 117,
   "metadata": {
    "colab": {
     "base_uri": "https://localhost:8080/",
     "height": 51
    },
    "colab_type": "code",
    "id": "QuLJ6sTB1FfN",
    "outputId": "980a7aa5-0f0f-4c74-905a-0ce2bb7f28aa"
   },
   "outputs": [
    {
     "name": "stdout",
     "output_type": "stream",
     "text": [
      "Accuracy of training data of z-score(exercisehours) and eyecolor:  0.8572327044025158\n",
      "Accuracy of testing data of z-score(exercisehours) and eyecolor:  0.864321608040201\n"
     ]
    }
   ],
   "source": [
    "# Accroding to q4 and q5, z-score(height) and non-preprocessing(exercisehours) are the best normalization methods\n",
    "df6_train = pd.concat([df3_train, df4_train[['height']], df_train[['exercisehours']]], axis=1)\n",
    "df6_test = pd.concat([df3_test, df4_test[['height']], df_test[['exercisehours']]], axis=1)\n",
    "\n",
    "clf_6 = MLPClassifier(hidden_layer_sizes=(10,), activation='logistic', solver='lbfgs', \n",
    "                    max_iter=100, n_iter_no_change=50, random_state=42, verbose=True)\n",
    "clf_6.fit(df6_train, y_train)\n",
    "y_train_pred6 = clf_6.predict(df6_train)\n",
    "print('Accuracy of training data of z-score(exercisehours) and eyecolor: ', accuracy_score(y_train, y_train_pred6))\n",
    "\n",
    "y_test_pred6 = clf_6.predict(df6_test)\n",
    "print('Accuracy of testing data of z-score(exercisehours) and eyecolor: ', accuracy_score(y_test, y_test_pred6))"
   ]
  },
  {
   "cell_type": "markdown",
   "metadata": {
    "colab_type": "text",
    "id": "1foS74O01FfP"
   },
   "source": [
    "###ANSWER: \n",
    "Accuracy of testing data of z-score(exercisehours) and eyecolor is 0.864321608040201"
   ]
  },
  {
   "cell_type": "markdown",
   "metadata": {
    "colab_type": "text",
    "id": "Jusc-kofrePP"
   },
   "source": [
    "***\n",
    "### Question 7- Bonus (10%)###\n",
    "Can you improve your test set prediction accuracy by 5% or more?  \n",
    "\n",
    "See how close to that milestone of improvement you can get by modifying the tuning parameters of  Neural Networks (the number of hidden layers, number of hidden nodes in each layer, the learning rate aka mu). A great guide to tuning parameters is explained in this guide: http://www.csie.ntu.edu.tw/~cjlin/papers/guide/guide.pdf. \n",
    "\n",
    "While the guide is specific to SVM and in particular the C and gamma parameters of the RBF kernel, the method applies to generally to any ML technique with tuning parameters.\n",
    "\n",
    "Please also write a paragraph in a markdown cell below with an explanation of your approach and evaluation metrics.\n"
   ]
  },
  {
   "cell_type": "code",
   "execution_count": null,
   "metadata": {
    "colab": {},
    "colab_type": "code",
    "id": "qvpoUdeq1GsX"
   },
   "outputs": [],
   "source": [
    "# YOUR CODE HERE"
   ]
  },
  {
   "cell_type": "markdown",
   "metadata": {
    "colab_type": "text",
    "id": "2rFY8D4Q1GsZ"
   },
   "source": [
    "###ANSWER: "
   ]
  }
 ],
 "metadata": {
  "colab": {
   "collapsed_sections": [
    "GTO2KMti07__",
    "YAnuY8Sv1DoO",
    "ZlDfGvy61EMS",
    "1foS74O01FfP",
    "2rFY8D4Q1GsZ"
   ],
   "name": "Qiu_Yin_Lab4",
   "provenance": []
  },
  "kernelspec": {
   "display_name": "Python 3",
   "language": "python",
   "name": "python3"
  },
  "language_info": {
   "codemirror_mode": {
    "name": "ipython",
    "version": 3
   },
   "file_extension": ".py",
   "mimetype": "text/x-python",
   "name": "python",
   "nbconvert_exporter": "python",
   "pygments_lexer": "ipython3",
   "version": "3.7.6"
  }
 },
 "nbformat": 4,
 "nbformat_minor": 1
}
