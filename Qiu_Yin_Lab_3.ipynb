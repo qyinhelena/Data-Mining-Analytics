{
 "cells": [
  {
   "cell_type": "markdown",
   "metadata": {
    "colab_type": "text",
    "id": "vAxKKJ84ugjs"
   },
   "source": [
    "# DMA Fall '20"
   ]
  },
  {
   "cell_type": "code",
   "execution_count": 1,
   "metadata": {
    "colab": {},
    "colab_type": "code",
    "id": "nFr3Tjz_ugjv"
   },
   "outputs": [],
   "source": [
    "NAME = \"Yin Qiu\"\n",
    "COLLABORATORS = \"\""
   ]
  },
  {
   "cell_type": "markdown",
   "metadata": {
    "colab_type": "text",
    "id": "VtQyVZG7ugj0"
   },
   "source": [
    "---"
   ]
  },
  {
   "cell_type": "markdown",
   "metadata": {
    "colab_type": "text",
    "deletable": false,
    "editable": false,
    "id": "dSxT_unDugj1",
    "nbgrader": {
     "checksum": "0ec61936c13b80ce01fa0818121a29a9",
     "grade": false,
     "grade_id": "cell-c6a6e713740ff888",
     "locked": true,
     "schema_version": 1,
     "solution": false
    }
   },
   "source": [
    "# Lab 3: Decision Trees\n",
    "\n",
    "**Please read the following instructions very carefully**\n",
    "\n",
    "## Working on the assignment / FAQs\n",
    "- **Always use the seed/random_state as *42* wherever applicable** (This is to ensure repeatability in answers, across students and coding environments) \n",
    "- Questions can be either autograded and manually graded.\n",
    "- The type of question and the points they carry are indicated in each question cell\n",
    "- An autograded question has 3 cells\n",
    "     - **Question cell** : Read only cell containing the question\n",
    "     - **Code Cell** : This is where you write the code\n",
    "     - **Grading cell** : This is where the grading occurs, and **you are required not to edit this cell**\n",
    "- Manually graded questions only have the question and code cells. **All manually graded questions are explicitly stated**\n",
    "- To avoid any ambiguity, each question also specifies what *value* must be set. Note that these are dummy values and not the answers\n",
    "- If an autograded question has multiple answers (due to differences in handling NaNs, zeros etc.), all answers will be considered.\n",
    "- Most assignments have bonus questions for extra credit, do try them out! \n",
    "- You can delete the `raise NotImplementedError()` for all questions.\n",
    "- **Submitting the assignment** : Download the '.ipynb' file from Colab and upload it to bcourses. Do not delete any outputs from cells before submitting.\n",
    "- That's about it. Happy coding!\n",
    "\n",
    "\n",
    "## About the dataset\n",
    "This assignment uses a dataset obtained from the JSE Data Archive that contains biological and self-reported activity traits of a sample of college students at a single university uploaded in 2013. The study associated with these data focused on exploring if a correspondence exists between eye color and and other traits. You will be using gender as the target/label in this lab.\n",
    "\n",
    "FEATURE DESCRIPTIONS: \n",
    "- Color (Blue, Brown, Green, Hazel, Other)\n",
    "- Age (in years)\n",
    "- YearinSchool (First, Second, Third, Fourth, Other)\n",
    "- Height (in inches)\n",
    "- Miles (distance from home town of student to Ames, IA) \n",
    "- Brothers (number of brothers)\n",
    "- Sisters (number of sisters)\n",
    "- CompTime (number of hours spent on computer per week)\n",
    "- Exercise (whether the student exercises Yes or No)\n",
    "- ExerTime (number of hours spent exercising per week)\n",
    "- MusicCDs (number of music CDs student owns)\n",
    "- PlayGames (number of hours spent playing games per week)\n",
    "- WatchTV (number of hours spent watching TV per week\n",
    "\n",
    "https://ww2.amstat.org/publications/jse/jse_data_archive.htm (eyecolorgenderdata.csv)\n"
   ]
  },
  {
   "cell_type": "code",
   "execution_count": 2,
   "metadata": {
    "colab": {
     "base_uri": "https://localhost:8080/",
     "height": 527
    },
    "colab_type": "code",
    "deletable": false,
    "editable": false,
    "id": "xeiDHBc5ugj2",
    "nbgrader": {
     "checksum": "0fb5897b9d372125635a32c3c25065db",
     "grade": false,
     "grade_id": "cell-0c1c5a5b7543f388",
     "locked": true,
     "schema_version": 1,
     "solution": false
    },
    "outputId": "1565181f-05ff-41f8-e192-17c19590bc3d"
   },
   "outputs": [
    {
     "name": "stdout",
     "output_type": "stream",
     "text": [
      "--2020-09-14 02:11:48--  http://people.ischool.berkeley.edu/~zp/course_datasets/eye_color.zip\n",
      "Resolving people.ischool.berkeley.edu (people.ischool.berkeley.edu)... 128.32.78.16\n",
      "Connecting to people.ischool.berkeley.edu (people.ischool.berkeley.edu)|128.32.78.16|:80... connected.\n",
      "HTTP request sent, awaiting response... 301 Moved Permanently\n",
      "Location: https://people.ischool.berkeley.edu/~zp/course_datasets/eye_color.zip [following]\n",
      "--2020-09-14 02:11:48--  https://people.ischool.berkeley.edu/~zp/course_datasets/eye_color.zip\n",
      "Connecting to people.ischool.berkeley.edu (people.ischool.berkeley.edu)|128.32.78.16|:443... connected.\n",
      "HTTP request sent, awaiting response... 200 OK\n",
      "Length: 23344 (23K) [application/zip]\n",
      "Saving to: ‘eye_color.zip’\n",
      "\n",
      "eye_color.zip       100%[===================>]  22.80K  --.-KB/s    in 0.1s    \n",
      "\n",
      "2020-09-14 02:11:49 (167 KB/s) - ‘eye_color.zip’ saved [23344/23344]\n",
      "\n",
      "Archive:  eye_color.zip\n",
      "  inflating: Eye_Color.csv           \n",
      "  inflating: Eye_Color_Dataset_Description.txt  \n",
      "Eye_Color.csv  Eye_Color_Dataset_Description.txt  eye_color.zip  sample_data\n"
     ]
    },
    {
     "data": {
      "text/html": [
       "<div>\n",
       "<style scoped>\n",
       "    .dataframe tbody tr th:only-of-type {\n",
       "        vertical-align: middle;\n",
       "    }\n",
       "\n",
       "    .dataframe tbody tr th {\n",
       "        vertical-align: top;\n",
       "    }\n",
       "\n",
       "    .dataframe thead th {\n",
       "        text-align: right;\n",
       "    }\n",
       "</style>\n",
       "<table border=\"1\" class=\"dataframe\">\n",
       "  <thead>\n",
       "    <tr style=\"text-align: right;\">\n",
       "      <th></th>\n",
       "      <th>gender</th>\n",
       "      <th>age</th>\n",
       "      <th>year</th>\n",
       "      <th>eyecolor</th>\n",
       "      <th>height</th>\n",
       "      <th>miles</th>\n",
       "      <th>brothers</th>\n",
       "      <th>sisters</th>\n",
       "      <th>computertime</th>\n",
       "      <th>exercise</th>\n",
       "      <th>exercisehours</th>\n",
       "      <th>musiccds</th>\n",
       "      <th>playgames</th>\n",
       "      <th>watchtv</th>\n",
       "    </tr>\n",
       "  </thead>\n",
       "  <tbody>\n",
       "    <tr>\n",
       "      <th>0</th>\n",
       "      <td>female</td>\n",
       "      <td>18</td>\n",
       "      <td>first</td>\n",
       "      <td>hazel</td>\n",
       "      <td>68.0</td>\n",
       "      <td>195.0</td>\n",
       "      <td>0</td>\n",
       "      <td>1</td>\n",
       "      <td>20.0</td>\n",
       "      <td>Yes</td>\n",
       "      <td>3.0</td>\n",
       "      <td>75.0</td>\n",
       "      <td>6.0</td>\n",
       "      <td>18.0</td>\n",
       "    </tr>\n",
       "    <tr>\n",
       "      <th>1</th>\n",
       "      <td>male</td>\n",
       "      <td>20</td>\n",
       "      <td>third</td>\n",
       "      <td>brown</td>\n",
       "      <td>70.0</td>\n",
       "      <td>120.0</td>\n",
       "      <td>3</td>\n",
       "      <td>0</td>\n",
       "      <td>24.0</td>\n",
       "      <td>No</td>\n",
       "      <td>0.0</td>\n",
       "      <td>50.0</td>\n",
       "      <td>0.0</td>\n",
       "      <td>3.0</td>\n",
       "    </tr>\n",
       "    <tr>\n",
       "      <th>2</th>\n",
       "      <td>female</td>\n",
       "      <td>18</td>\n",
       "      <td>first</td>\n",
       "      <td>green</td>\n",
       "      <td>67.0</td>\n",
       "      <td>200.0</td>\n",
       "      <td>0</td>\n",
       "      <td>1</td>\n",
       "      <td>35.0</td>\n",
       "      <td>Yes</td>\n",
       "      <td>3.0</td>\n",
       "      <td>53.0</td>\n",
       "      <td>8.0</td>\n",
       "      <td>1.0</td>\n",
       "    </tr>\n",
       "    <tr>\n",
       "      <th>3</th>\n",
       "      <td>male</td>\n",
       "      <td>23</td>\n",
       "      <td>fourth</td>\n",
       "      <td>hazel</td>\n",
       "      <td>74.0</td>\n",
       "      <td>140.0</td>\n",
       "      <td>1</td>\n",
       "      <td>1</td>\n",
       "      <td>5.0</td>\n",
       "      <td>Yes</td>\n",
       "      <td>25.0</td>\n",
       "      <td>50.0</td>\n",
       "      <td>0.0</td>\n",
       "      <td>7.0</td>\n",
       "    </tr>\n",
       "    <tr>\n",
       "      <th>4</th>\n",
       "      <td>female</td>\n",
       "      <td>19</td>\n",
       "      <td>second</td>\n",
       "      <td>blue</td>\n",
       "      <td>62.0</td>\n",
       "      <td>60.0</td>\n",
       "      <td>0</td>\n",
       "      <td>1</td>\n",
       "      <td>5.0</td>\n",
       "      <td>Yes</td>\n",
       "      <td>4.0</td>\n",
       "      <td>30.0</td>\n",
       "      <td>2.0</td>\n",
       "      <td>5.0</td>\n",
       "    </tr>\n",
       "  </tbody>\n",
       "</table>\n",
       "</div>"
      ],
      "text/plain": [
       "   gender  age    year eyecolor  ...  exercisehours  musiccds  playgames  watchtv\n",
       "0  female   18   first    hazel  ...            3.0      75.0        6.0     18.0\n",
       "1    male   20   third    brown  ...            0.0      50.0        0.0      3.0\n",
       "2  female   18   first    green  ...            3.0      53.0        8.0      1.0\n",
       "3    male   23  fourth    hazel  ...           25.0      50.0        0.0      7.0\n",
       "4  female   19  second     blue  ...            4.0      30.0        2.0      5.0\n",
       "\n",
       "[5 rows x 14 columns]"
      ]
     },
     "execution_count": 2,
     "metadata": {
      "tags": []
     },
     "output_type": "execute_result"
    }
   ],
   "source": [
    "from collections import Counter, defaultdict\n",
    "import itertools\n",
    "import pandas as pd\n",
    "import numpy as np\n",
    "import operator\n",
    "import math\n",
    "\n",
    "!wget -nc http://people.ischool.berkeley.edu/~zp/course_datasets/eye_color.zip\n",
    "!unzip -u eye_color.zip\n",
    "!ls\n",
    "df = pd.read_csv('Eye_Color.csv')\n",
    "# remove NA's and reset the index\n",
    "df = df.dropna(axis=0, how='any', thresh=None, subset=None, inplace=False)\n",
    "df = df.reset_index(drop=True)\n",
    "\n",
    "df.head()"
   ]
  },
  {
   "cell_type": "markdown",
   "metadata": {
    "colab_type": "text",
    "deletable": false,
    "editable": false,
    "id": "S2_bd_sZugj_",
    "nbgrader": {
     "checksum": "f27367e7e9ea794fdff16caaf9834f90",
     "grade": false,
     "grade_id": "cell-80cb77583712aa18",
     "locked": true,
     "schema_version": 1,
     "solution": false
    }
   },
   "source": [
    "---\n",
    "**Question 1 (0.5 points, autograded)**: How many males and females exist in the dataset?"
   ]
  },
  {
   "cell_type": "code",
   "execution_count": 3,
   "metadata": {
    "colab": {
     "base_uri": "https://localhost:8080/",
     "height": 68
    },
    "colab_type": "code",
    "deletable": false,
    "id": "Qq43exlvugkA",
    "nbgrader": {
     "checksum": "7bae96e9bc3cf6154faf15c8c953a12d",
     "grade": false,
     "grade_id": "cell-30e88bd16d0691ae",
     "locked": false,
     "schema_version": 1,
     "solution": true
    },
    "outputId": "28c46bed-4839-4864-a652-f930baf72403"
   },
   "outputs": [
    {
     "data": {
      "text/plain": [
       "female    1078\n",
       "male       910\n",
       "Name: gender, dtype: int64"
      ]
     },
     "execution_count": 3,
     "metadata": {
      "tags": []
     },
     "output_type": "execute_result"
    }
   ],
   "source": [
    "df['gender'].value_counts()\n",
    "\n",
    "# raise NotImplementedError()"
   ]
  },
  {
   "cell_type": "code",
   "execution_count": 4,
   "metadata": {
    "colab": {},
    "colab_type": "code",
    "deletable": false,
    "id": "qowIpB1MugkL",
    "nbgrader": {
     "checksum": "4b015ffcf2248033a4c736e194051ce0",
     "grade": false,
     "grade_id": "cell-b6afcdf2e16edeaf",
     "locked": false,
     "schema_version": 1,
     "solution": true
    }
   },
   "outputs": [],
   "source": [
    "#The value set in the variables must be integers\n",
    "num_males = 910 #Replace 0 with the actual value\n",
    "num_females = 1078 #Replace 0 with the actual value\n",
    "\n",
    "# raise NotImplementedError()"
   ]
  },
  {
   "cell_type": "code",
   "execution_count": 5,
   "metadata": {
    "colab": {
     "base_uri": "https://localhost:8080/",
     "height": 34
    },
    "colab_type": "code",
    "deletable": false,
    "editable": false,
    "id": "rxROmUKRugkQ",
    "nbgrader": {
     "checksum": "b5f6c5a26715775443afa42a101640d3",
     "grade": true,
     "grade_id": "cell-148801df79f2a9ad",
     "locked": true,
     "points": 0.5,
     "schema_version": 1,
     "solution": false
    },
    "outputId": "358f6e58-6b86-4e84-862e-f3a150e67a8a"
   },
   "outputs": [
    {
     "name": "stdout",
     "output_type": "stream",
     "text": [
      "910 1078\n"
     ]
    }
   ],
   "source": [
    "#This is an autograded cell, do not edit\n",
    "print(num_males, num_females)"
   ]
  },
  {
   "cell_type": "markdown",
   "metadata": {
    "colab_type": "text",
    "deletable": false,
    "editable": false,
    "id": "LE7EGFnbugkU",
    "nbgrader": {
     "checksum": "46a9256f2edd92e7d4ab52309a6b4c57",
     "grade": false,
     "grade_id": "cell-c087e3cd6c8885e2",
     "locked": true,
     "schema_version": 1,
     "solution": false
    }
   },
   "source": [
    "---\n",
    "**Question 2 (0.5 points, autograded)**: What is the Gini Index of this dataset, using males and females as the target classes?"
   ]
  },
  {
   "cell_type": "code",
   "execution_count": 6,
   "metadata": {
    "colab": {
     "base_uri": "https://localhost:8080/",
     "height": 34
    },
    "colab_type": "code",
    "deletable": false,
    "id": "L5-IeBVlugkV",
    "nbgrader": {
     "checksum": "099940e4f38498b7848e39cf16effa72",
     "grade": false,
     "grade_id": "cell-77e48e0f5499c4dc",
     "locked": false,
     "schema_version": 1,
     "solution": true
    },
    "outputId": "adeb8aa7-3170-4a80-972f-942d0658d65a"
   },
   "outputs": [
    {
     "data": {
      "text/plain": [
       "0.49642927990478075"
      ]
     },
     "execution_count": 6,
     "metadata": {
      "tags": []
     },
     "output_type": "execute_result"
    }
   ],
   "source": [
    "p = num_males /(num_males + num_females) # probability of being male\n",
    "gini_gender = 2*p*(1-p)\n",
    "gini_gender\n",
    "\n",
    "# raise NotImplementedError()"
   ]
  },
  {
   "cell_type": "code",
   "execution_count": 7,
   "metadata": {
    "colab": {},
    "colab_type": "code",
    "deletable": false,
    "id": "qWJVFWqqugkZ",
    "nbgrader": {
     "checksum": "9ad8fad77a751f201648404551610cd0",
     "grade": false,
     "grade_id": "cell-48020b6f76b01df8",
     "locked": false,
     "schema_version": 1,
     "solution": true
    }
   },
   "outputs": [],
   "source": [
    "#The value set in the variable must be float\n",
    "gini_index = gini_gender #Replace 0 with the actual value / formula\n",
    "\n",
    "# raise NotImplementedError()"
   ]
  },
  {
   "cell_type": "code",
   "execution_count": 8,
   "metadata": {
    "colab": {
     "base_uri": "https://localhost:8080/",
     "height": 34
    },
    "colab_type": "code",
    "deletable": false,
    "editable": false,
    "id": "N6nvXmTHugke",
    "nbgrader": {
     "checksum": "9e64fcb8ce6b4b69fad066fea2ced65a",
     "grade": true,
     "grade_id": "cell-7ae5a16e0caf13e6",
     "locked": true,
     "points": 0.5,
     "schema_version": 1,
     "solution": false
    },
    "outputId": "56d46f4e-e78c-4417-e5b8-f2c22db68fb7"
   },
   "outputs": [
    {
     "name": "stdout",
     "output_type": "stream",
     "text": [
      "0.49642927990478075\n"
     ]
    }
   ],
   "source": [
    "#This is an autograded cell, do not edit\n",
    "print(gini_index)"
   ]
  },
  {
   "cell_type": "markdown",
   "metadata": {
    "colab_type": "text",
    "deletable": false,
    "editable": false,
    "id": "p4XzX2Jjugkj",
    "nbgrader": {
     "checksum": "df88f99709afdfc9d92e17de990723e4",
     "grade": false,
     "grade_id": "cell-429dd5b9870bc4f0",
     "locked": true,
     "schema_version": 1,
     "solution": false
    }
   },
   "source": [
    "---\n",
    "## Best Split of a numeric feature\n",
    "**Question 3 (1.5 points, autograded)**: What is the best split point of the 'height' feature? (Still using males and females as the target classes, assuming a binary split)\n",
    "\n",
    "Recall that, to calculate the best split of this numeric field, you'll need to order your data by 'height', then consider the midpoint between each pair of consecutive heights as a potential split point, then calculate the Gini Index for that partitioning. You'll want to keep track of the best split point and its Gini Index (remember that you are trying to minimize the Gini Index). \n",
    "\n",
    "There are a lot of ways to do this. Some are very fast, others very slow. One tip to make this run quickly is, as you consecutively step through the data and calculate the Gini Index of each possible split point, keep a running total of the number of rows for each candidate that are located above and below the split point. \n",
    "\n",
    "Some Python tips: \n",
    "\n",
    "* Counter(), from the collections module, is a special dictionary for counting values of a key\n",
    "* zip() lets you concatenate lists into a list of tuples (for example, if we have a list of the candidates and a list of transaction amounts, zip(candidate_list, transaction_amount) would give us a list of (candidate, transaction amount) pairs"
   ]
  },
  {
   "cell_type": "code",
   "execution_count": 9,
   "metadata": {
    "colab": {
     "base_uri": "https://localhost:8080/",
     "height": 527
    },
    "colab_type": "code",
    "id": "2ZL9JUCxmLay",
    "outputId": "5d093048-e2bd-40f4-a12c-c5db206a2739"
   },
   "outputs": [
    {
     "data": {
      "text/plain": [
       "Counter({44.0: (0, 1),\n",
       "         52.0: (0, 1),\n",
       "         54.0: (0, 1),\n",
       "         56.0: (0, 3),\n",
       "         57.0: (0, 2),\n",
       "         58.0: (2, 1),\n",
       "         59.0: (0, 5),\n",
       "         60.0: (1, 20),\n",
       "         61.0: (4, 27),\n",
       "         62.0: (4, 79),\n",
       "         63.0: (1, 98),\n",
       "         64.0: (3, 143),\n",
       "         65.0: (8, 150),\n",
       "         66.0: (19, 120),\n",
       "         67.0: (38, 154),\n",
       "         68.0: (62, 100),\n",
       "         69.0: (80, 67),\n",
       "         70.0: (126, 56),\n",
       "         71.0: (100, 19),\n",
       "         72.0: (168, 17),\n",
       "         73.0: (84, 4),\n",
       "         74.0: (70, 3),\n",
       "         75.0: (59, 2),\n",
       "         76.0: (35, 1),\n",
       "         77.0: (23, 2),\n",
       "         78.0: (15, 0),\n",
       "         79.0: (5, 0),\n",
       "         80.0: (1, 1),\n",
       "         82.0: (1, 1),\n",
       "         85.0: (1, 0)})"
      ]
     },
     "execution_count": 9,
     "metadata": {
      "tags": []
     },
     "output_type": "execute_result"
    }
   ],
   "source": [
    "df1 = df[['height','gender']]\n",
    "c = Counter(df1['height'])\n",
    "\n",
    "h_keys = sorted(list(c.keys()))\n",
    "# update c with tuple of (male_count, female_count) for each height\n",
    "for height in h_keys:\n",
    "  count_gender = df1[df1['height']==height]['gender'].value_counts()\n",
    "  if 'male' not in count_gender.keys():\n",
    "    c[height] = (0, count_gender['female'])\n",
    "  elif 'female' not in count_gender.keys():\n",
    "    c[height] = (count_gender['male'], 0)\n",
    "  else:\n",
    "    c[height] = (count_gender['male'], count_gender['female'])\n",
    "c"
   ]
  },
  {
   "cell_type": "code",
   "execution_count": 10,
   "metadata": {
    "colab": {
     "base_uri": "https://localhost:8080/",
     "height": 34
    },
    "colab_type": "code",
    "id": "EB63lYm1ly3S",
    "outputId": "7f2966e2-0506-4156-bc80-10691b5a6ff0"
   },
   "outputs": [
    {
     "name": "stdout",
     "output_type": "stream",
     "text": [
      "68.5\n"
     ]
    }
   ],
   "source": [
    "gini_lst = []\n",
    "num_f_higher = num_females # initial num of female above split point\n",
    "num_m_higher = num_males # initial num of male above split point\n",
    "total = num_females + num_males\n",
    "\n",
    "for i in range(len(h_keys)-1):\n",
    "  split_point = (h_keys[i] + h_keys[i+1])/2\n",
    "  num_f_higher -= c[h_keys[i]][1] # running total of female counts above select height\n",
    "  num_m_higher -= c[h_keys[i]][0] # running total of male counts above select height\n",
    "  num_higher = num_f_higher + num_m_higher\n",
    "  num_f_lower = num_females - num_f_higher\n",
    "  num_m_lower = num_males - num_m_higher\n",
    "  num_lower = total - num_higher\n",
    "  # calculate gini index at split point, function is gini(D) = (D1/D) * 2p_1(1-p_1) + (D2/D) * 2p_2(1-p_2)\n",
    "  gini = (num_higher/total)*2*(num_f_higher/num_higher)*(num_m_higher/num_higher)+(num_lower/total)*2*(num_f_lower/num_lower)*(num_m_lower/num_lower)\n",
    "  gini_lst.append(gini)\n",
    "\n",
    "min_i = np.argmin(gini_lst) # get the index of min of gini index\n",
    "best_split_point = (h_keys[min_i] + h_keys[min_i+1])/2 # find the split point at height\n",
    "print(best_split_point)"
   ]
  },
  {
   "cell_type": "code",
   "execution_count": 11,
   "metadata": {
    "colab": {},
    "colab_type": "code",
    "deletable": false,
    "id": "RiMp3KiOugkv",
    "nbgrader": {
     "checksum": "6f2ddee90f539fef475c3cf581869a7f",
     "grade": false,
     "grade_id": "cell-fdcb9f54f35480c4",
     "locked": false,
     "schema_version": 1,
     "solution": true
    }
   },
   "outputs": [],
   "source": [
    "#The value set in the variable must be float\n",
    "best_split_point = 68.5 #Replace 0 with the actual value\n",
    "\n",
    "# YOUR CODE HERE\n",
    "# raise NotImplementedError()"
   ]
  },
  {
   "cell_type": "code",
   "execution_count": 12,
   "metadata": {
    "colab": {
     "base_uri": "https://localhost:8080/",
     "height": 34
    },
    "colab_type": "code",
    "deletable": false,
    "editable": false,
    "id": "61AwBlXhugk0",
    "nbgrader": {
     "checksum": "2b3dd2ed02ddb601bc36a52f45defd92",
     "grade": true,
     "grade_id": "cell-323f912bd5314e78",
     "locked": true,
     "points": 1.5,
     "schema_version": 1,
     "solution": false
    },
    "outputId": "168fff56-8418-4cae-f216-af3844b7010a"
   },
   "outputs": [
    {
     "name": "stdout",
     "output_type": "stream",
     "text": [
      "68.5\n"
     ]
    }
   ],
   "source": [
    "#This is an autograded cell, do not edit\n",
    "print(best_split_point)"
   ]
  },
  {
   "cell_type": "markdown",
   "metadata": {
    "colab_type": "text",
    "deletable": false,
    "editable": false,
    "id": "AawaoNa9ugk2",
    "nbgrader": {
     "checksum": "166316144c3f9c6f82d2963c96c19ba4",
     "grade": false,
     "grade_id": "cell-aa468156b67c5ab6",
     "locked": true,
     "schema_version": 1,
     "solution": false
    }
   },
   "source": [
    "---\n",
    "**Question 4 (0.5 points, autograded)**: What is the Gini index of the best split point of the 'height' feature? (Still using males and females as the target classes, assuming a binary split)\n"
   ]
  },
  {
   "cell_type": "code",
   "execution_count": 13,
   "metadata": {
    "colab": {
     "base_uri": "https://localhost:8080/",
     "height": 34
    },
    "colab_type": "code",
    "deletable": false,
    "id": "J_8GTuoSugk3",
    "nbgrader": {
     "checksum": "ee6e07cc1c224dbd0852a4105190e3f2",
     "grade": false,
     "grade_id": "cell-11b6c20fa6270892",
     "locked": false,
     "schema_version": 1,
     "solution": true
    },
    "outputId": "95f4cd7f-0c07-431f-9ade-a672537ce1fd"
   },
   "outputs": [
    {
     "data": {
      "text/plain": [
       "0.2655288120702919"
      ]
     },
     "execution_count": 13,
     "metadata": {
      "tags": []
     },
     "output_type": "execute_result"
    }
   ],
   "source": [
    "gini_lst[min_i]\n",
    "\n",
    "# raise NotImplementedError()"
   ]
  },
  {
   "cell_type": "code",
   "execution_count": 14,
   "metadata": {
    "colab": {},
    "colab_type": "code",
    "deletable": false,
    "id": "nnY4qayGugk8",
    "nbgrader": {
     "checksum": "4264def559ba5fe2e77d3688f04d9cfd",
     "grade": false,
     "grade_id": "cell-bef6191446f0b09e",
     "locked": false,
     "schema_version": 1,
     "solution": true
    }
   },
   "outputs": [],
   "source": [
    "#The value set in the variable must be float\n",
    "gini_of_best_split_point = 0.2655288120702919 #Replace 0 with the actual value\n",
    "\n",
    "# YOUR CODE HERE\n",
    "# raise NotImplementedError()"
   ]
  },
  {
   "cell_type": "code",
   "execution_count": 15,
   "metadata": {
    "colab": {
     "base_uri": "https://localhost:8080/",
     "height": 34
    },
    "colab_type": "code",
    "deletable": false,
    "editable": false,
    "id": "qtHNnrD8ugk_",
    "nbgrader": {
     "checksum": "0a0c63234a8f7fe57d8a19b011609fda",
     "grade": true,
     "grade_id": "cell-a483f7c52ce46218",
     "locked": true,
     "points": 0.5,
     "schema_version": 1,
     "solution": false
    },
    "outputId": "f9610632-ea44-4775-ea2e-aaf29429105b"
   },
   "outputs": [
    {
     "name": "stdout",
     "output_type": "stream",
     "text": [
      "0.2655288120702919\n"
     ]
    }
   ],
   "source": [
    "#This is an autograded cell, do not edit\n",
    "print(gini_of_best_split_point)"
   ]
  },
  {
   "cell_type": "markdown",
   "metadata": {
    "colab_type": "text",
    "deletable": false,
    "editable": false,
    "id": "TILEzh_WuglE",
    "nbgrader": {
     "checksum": "3e4a285a07159ff52a5f4ffe396f74d6",
     "grade": false,
     "grade_id": "cell-3d05b5c3faef353d",
     "locked": true,
     "schema_version": 1,
     "solution": false
    }
   },
   "source": [
    "---\n",
    "**Question 5 (0.5 points, autograded)**: How much does this partitioning reduce the Gini Index over the Gini index of the overall dataset?"
   ]
  },
  {
   "cell_type": "code",
   "execution_count": 16,
   "metadata": {
    "colab": {
     "base_uri": "https://localhost:8080/",
     "height": 34
    },
    "colab_type": "code",
    "deletable": false,
    "id": "qOCZ13AAuglG",
    "nbgrader": {
     "checksum": "58f9b4479c238a525df6aa057e6eaa3b",
     "grade": false,
     "grade_id": "cell-1ab03a8159601e29",
     "locked": false,
     "schema_version": 1,
     "solution": true
    },
    "outputId": "776e7d71-3854-4536-efed-f5eb85fdf22f"
   },
   "outputs": [
    {
     "data": {
      "text/plain": [
       "0.23090046783448887"
      ]
     },
     "execution_count": 16,
     "metadata": {
      "tags": []
     },
     "output_type": "execute_result"
    }
   ],
   "source": [
    "gini_gender - gini_of_best_split_point\n",
    "# raise NotImplementedError()"
   ]
  },
  {
   "cell_type": "code",
   "execution_count": 17,
   "metadata": {
    "colab": {},
    "colab_type": "code",
    "deletable": false,
    "id": "Z_jBrzFLuglN",
    "nbgrader": {
     "checksum": "0d222b71a5f4dd420fd140eeefb846d4",
     "grade": false,
     "grade_id": "cell-fbcebc71fc8bc842",
     "locked": false,
     "schema_version": 1,
     "solution": true
    }
   },
   "outputs": [],
   "source": [
    "#The value set in the variable must be float\n",
    "gini_difference = 0.23090046783448887 #Replace 0 with the actual value\n",
    "\n",
    "# YOUR CODE HERE\n",
    "# raise NotImplementedError()"
   ]
  },
  {
   "cell_type": "code",
   "execution_count": 18,
   "metadata": {
    "colab": {
     "base_uri": "https://localhost:8080/",
     "height": 34
    },
    "colab_type": "code",
    "deletable": false,
    "editable": false,
    "id": "XrLS99QPuglQ",
    "nbgrader": {
     "checksum": "86c116a776736ca45f3b04f15f237623",
     "grade": true,
     "grade_id": "cell-f24e621d36c96976",
     "locked": true,
     "points": 0.5,
     "schema_version": 1,
     "solution": false
    },
    "outputId": "ec186e56-76bb-4e8c-cd61-64b5bacc0ca9"
   },
   "outputs": [
    {
     "name": "stdout",
     "output_type": "stream",
     "text": [
      "0.23090046783448887\n"
     ]
    }
   ],
   "source": [
    "#This is an autograded cell, do not edit\n",
    "print(gini_difference)"
   ]
  },
  {
   "cell_type": "markdown",
   "metadata": {
    "colab_type": "text",
    "deletable": false,
    "editable": false,
    "id": "4vI5aG7GuglS",
    "nbgrader": {
     "checksum": "a3c0d5d5951cda89ddc95d0edd3c006d",
     "grade": false,
     "grade_id": "cell-68fc7f06fbb3bd5c",
     "locked": true,
     "schema_version": 1,
     "solution": false
    }
   },
   "source": [
    "---\n",
    "**Question 6 (0.5 points, autograded)**: How many 'female' and 'male' rows are shorter than the best height split point?"
   ]
  },
  {
   "cell_type": "code",
   "execution_count": 19,
   "metadata": {
    "colab": {
     "base_uri": "https://localhost:8080/",
     "height": 34
    },
    "colab_type": "code",
    "deletable": false,
    "id": "Zmt1qgE5uglT",
    "nbgrader": {
     "checksum": "3d82c210dd5b8b938066fc8b9a0e70e8",
     "grade": false,
     "grade_id": "cell-cbfbed1feed2c2c6",
     "locked": false,
     "schema_version": 1,
     "solution": true
    },
    "outputId": "b515c3b7-d9c9-4794-d99a-335b6148d890"
   },
   "outputs": [
    {
     "data": {
      "text/plain": [
       "[142, 905]"
      ]
     },
     "execution_count": 19,
     "metadata": {
      "tags": []
     },
     "output_type": "execute_result"
    }
   ],
   "source": [
    "shorter = [c[h_keys[i]] for i in range(min_i+1)]\n",
    "count_shorter = [sum(i) for i in zip(*shorter)] # zip() with * can upzip the list of tuples, and sum() in respect to index position\n",
    "count_shorter # sum of counts of male and female shorter than best height split point\n",
    "# raise NotImplementedError()"
   ]
  },
  {
   "cell_type": "code",
   "execution_count": 20,
   "metadata": {
    "colab": {},
    "colab_type": "code",
    "deletable": false,
    "id": "xAB5GTeauglX",
    "nbgrader": {
     "checksum": "71225beec49fc733245cd37612d3712e",
     "grade": false,
     "grade_id": "cell-fed4f19f21abcc31",
     "locked": false,
     "schema_version": 1,
     "solution": true
    }
   },
   "outputs": [],
   "source": [
    "\n",
    "#The value set in the variable must be integer\n",
    "female_rows_below = 905 #Replace 0 with the actual value\n",
    "male_rows_below = 142 #Replace 0 with the actual value\n",
    "# YOUR CODE HERE\n",
    "# raise NotImplementedError()"
   ]
  },
  {
   "cell_type": "code",
   "execution_count": 21,
   "metadata": {
    "colab": {
     "base_uri": "https://localhost:8080/",
     "height": 34
    },
    "colab_type": "code",
    "deletable": false,
    "editable": false,
    "id": "MiBZAc9vugld",
    "nbgrader": {
     "checksum": "12c1b2345e628bec41463cf88a60aeb0",
     "grade": true,
     "grade_id": "cell-8129604534bfec74",
     "locked": true,
     "points": 0.5,
     "schema_version": 1,
     "solution": false
    },
    "outputId": "189a978f-4255-42ff-b747-a9450a435f9b"
   },
   "outputs": [
    {
     "name": "stdout",
     "output_type": "stream",
     "text": [
      "905 142\n"
     ]
    }
   ],
   "source": [
    "#This is an autograded cell, do not edit\n",
    "print(female_rows_below, male_rows_below)"
   ]
  },
  {
   "cell_type": "markdown",
   "metadata": {
    "colab_type": "text",
    "deletable": false,
    "editable": false,
    "id": "GmBNDTILuglg",
    "nbgrader": {
     "checksum": "9fa8403981b6352444437901acb0d45c",
     "grade": false,
     "grade_id": "cell-95c30c8534082764",
     "locked": true,
     "schema_version": 1,
     "solution": false
    }
   },
   "source": [
    "---\n",
    "**Question 7 (0.5 points, autograded)**: How many 'female' and 'male' rows are taller than the best height split point?"
   ]
  },
  {
   "cell_type": "code",
   "execution_count": 22,
   "metadata": {
    "colab": {
     "base_uri": "https://localhost:8080/",
     "height": 34
    },
    "colab_type": "code",
    "deletable": false,
    "id": "dHJLmbwvuglh",
    "nbgrader": {
     "checksum": "9754f9fb331109f6c4b2b834211f0021",
     "grade": false,
     "grade_id": "cell-8b16da8f6a50682f",
     "locked": false,
     "schema_version": 1,
     "solution": true
    },
    "outputId": "6d498392-069f-401e-850c-c9b14f276efb"
   },
   "outputs": [
    {
     "data": {
      "text/plain": [
       "[768, 173]"
      ]
     },
     "execution_count": 22,
     "metadata": {
      "tags": []
     },
     "output_type": "execute_result"
    }
   ],
   "source": [
    "taller = [c[h_keys[i]] for i in range(min_i+1,len(h_keys))]\n",
    "count_taller = [sum(i) for i in zip(*taller)]\n",
    "count_taller\n",
    "# raise NotImplementedError()"
   ]
  },
  {
   "cell_type": "code",
   "execution_count": 23,
   "metadata": {
    "colab": {},
    "colab_type": "code",
    "deletable": false,
    "id": "46G-hbpnugll",
    "nbgrader": {
     "checksum": "e2697ca1d9a6feec241ff33460d57600",
     "grade": false,
     "grade_id": "cell-2314033286696a75",
     "locked": false,
     "schema_version": 1,
     "solution": true
    }
   },
   "outputs": [],
   "source": [
    "#The value set in the variable must be integer\n",
    "female_rows_above = 173 #Replace 0 with the actual value\n",
    "male_rows_above = 768 #Replace 0 with the actual value\n",
    "# YOUR CODE HERE\n",
    "# raise NotImplementedError()"
   ]
  },
  {
   "cell_type": "code",
   "execution_count": 24,
   "metadata": {
    "colab": {
     "base_uri": "https://localhost:8080/",
     "height": 34
    },
    "colab_type": "code",
    "deletable": false,
    "editable": false,
    "id": "n2seT5oauglo",
    "nbgrader": {
     "checksum": "b2c8fbc90d6eb0473ef27e1855483904",
     "grade": true,
     "grade_id": "cell-da98dfdb73b8de96",
     "locked": true,
     "points": 0.5,
     "schema_version": 1,
     "solution": false
    },
    "outputId": "ee810df6-1110-4430-93ae-f894d3ff8890"
   },
   "outputs": [
    {
     "name": "stdout",
     "output_type": "stream",
     "text": [
      "173 768\n"
     ]
    }
   ],
   "source": [
    "#This is an autograded cell, do not edit\n",
    "print(female_rows_above, male_rows_above)"
   ]
  },
  {
   "cell_type": "markdown",
   "metadata": {
    "colab_type": "text",
    "deletable": false,
    "editable": false,
    "id": "waG6P9fyuglt",
    "nbgrader": {
     "checksum": "1600c335755c3857d742205f32718e81",
     "grade": false,
     "grade_id": "cell-f0f3bf7078e30689",
     "locked": true,
     "schema_version": 1,
     "solution": false
    }
   },
   "source": [
    "---\n",
    "## Best Split of a Categorial Variable\n",
    "\n",
    "**Question 8 (0.5 points, autograded)**: How many possible splits are there of the eyecolor feature? (Assuming binary split)\n",
    "\n",
    "Python tip: the combinations function of the itertools module allows you to enumerate combinations of a list. You might want to Google 'power set'.\n"
   ]
  },
  {
   "cell_type": "code",
   "execution_count": 25,
   "metadata": {
    "colab": {
     "base_uri": "https://localhost:8080/",
     "height": 272
    },
    "colab_type": "code",
    "deletable": false,
    "id": "1uYaZLJnuglu",
    "nbgrader": {
     "checksum": "2887cf4ef5a35baf851be351c05f0397",
     "grade": false,
     "grade_id": "cell-e5896ba56062be2d",
     "locked": false,
     "schema_version": 1,
     "solution": true
    },
    "outputId": "2251c4f5-3abf-4d18-f01c-3eecbc8d9159"
   },
   "outputs": [
    {
     "data": {
      "text/plain": [
       "[('brown',),\n",
       " ('other',),\n",
       " ('blue',),\n",
       " ('hazel',),\n",
       " ('green',),\n",
       " ('brown', 'other'),\n",
       " ('brown', 'blue'),\n",
       " ('brown', 'hazel'),\n",
       " ('brown', 'green'),\n",
       " ('other', 'blue'),\n",
       " ('other', 'hazel'),\n",
       " ('other', 'green'),\n",
       " ('blue', 'hazel'),\n",
       " ('blue', 'green'),\n",
       " ('hazel', 'green')]"
      ]
     },
     "execution_count": 25,
     "metadata": {
      "tags": []
     },
     "output_type": "execute_result"
    }
   ],
   "source": [
    "def power_set(s):\n",
    "  return list(itertools.chain.from_iterable(itertools.combinations(s, r) for r in range(1, len(s)-2)))\n",
    "  \n",
    "eyecolors = set(df['eyecolor'])\n",
    "color_splits = power_set(eyecolors)\n",
    "color_splits\n",
    "# raise NotImplementedError()"
   ]
  },
  {
   "cell_type": "code",
   "execution_count": 26,
   "metadata": {
    "colab": {},
    "colab_type": "code",
    "deletable": false,
    "id": "FozfnlkNuglx",
    "nbgrader": {
     "checksum": "c295a12954acf6f936b6a921a548717d",
     "grade": false,
     "grade_id": "cell-7cc929e1f346c97c",
     "locked": false,
     "schema_version": 1,
     "solution": true
    }
   },
   "outputs": [],
   "source": [
    "#The value set in the variable must be integer\n",
    "num_of_splits = len(color_splits) #Replace 0 with the actual value\n",
    "# YOUR CODE HERE\n",
    "# raise NotImplementedError()"
   ]
  },
  {
   "cell_type": "code",
   "execution_count": 27,
   "metadata": {
    "colab": {
     "base_uri": "https://localhost:8080/",
     "height": 34
    },
    "colab_type": "code",
    "deletable": false,
    "editable": false,
    "id": "cLupsW1Sugl0",
    "nbgrader": {
     "checksum": "d10ef3967a94bfbc24d620dceae732ed",
     "grade": true,
     "grade_id": "cell-e345841556e102c6",
     "locked": true,
     "points": 0.5,
     "schema_version": 1,
     "solution": false
    },
    "outputId": "537888b9-6224-4d7b-db64-d4d494ac8989"
   },
   "outputs": [
    {
     "name": "stdout",
     "output_type": "stream",
     "text": [
      "15\n"
     ]
    }
   ],
   "source": [
    "#This is an autograded cell, do not edit\n",
    "print(num_of_splits)"
   ]
  },
  {
   "cell_type": "markdown",
   "metadata": {
    "colab_type": "text",
    "deletable": false,
    "editable": false,
    "id": "PuLJsUuvugl3",
    "nbgrader": {
     "checksum": "3f998cc39260ed85ff0341750544bd86",
     "grade": false,
     "grade_id": "cell-8503b7bec552f92c",
     "locked": true,
     "schema_version": 1,
     "solution": false
    }
   },
   "source": [
    "---\n",
    "**Question 9 (1 points, autograded)**: Which split of eyecolor best splits the female and male rows, as measured by the Gini Index?"
   ]
  },
  {
   "cell_type": "code",
   "execution_count": 35,
   "metadata": {
    "colab": {
     "base_uri": "https://localhost:8080/",
     "height": 272
    },
    "colab_type": "code",
    "deletable": false,
    "id": "HLOlJnsqugl3",
    "nbgrader": {
     "checksum": "4f117805db47824ae1ef7129672c0d47",
     "grade": false,
     "grade_id": "cell-76f837f4f27e0842",
     "locked": false,
     "schema_version": 1,
     "solution": true
    },
    "outputId": "4da5de25-73c2-43af-dd0c-a72828a8f665"
   },
   "outputs": [
    {
     "data": {
      "text/plain": [
       "{('blue',): (346, 359),\n",
       " ('blue', 'green'): (453, 549),\n",
       " ('blue', 'hazel'): (503, 543),\n",
       " ('brown',): (278, 327),\n",
       " ('brown', 'blue'): (624, 686),\n",
       " ('brown', 'green'): (385, 517),\n",
       " ('brown', 'hazel'): (435, 511),\n",
       " ('brown', 'other'): (300, 345),\n",
       " ('green',): (107, 190),\n",
       " ('hazel',): (157, 184),\n",
       " ('hazel', 'green'): (264, 374),\n",
       " ('other',): (22, 18),\n",
       " ('other', 'blue'): (368, 377),\n",
       " ('other', 'green'): (129, 208),\n",
       " ('other', 'hazel'): (179, 202)}"
      ]
     },
     "execution_count": 35,
     "metadata": {
      "tags": []
     },
     "output_type": "execute_result"
    }
   ],
   "source": [
    "df2 = df[['eyecolor', 'gender']]\n",
    "d = dict(zip(color_splits, np.zeros(num_of_splits))) # initiate a dictionary to store male and female counts for each split point\n",
    "\n",
    "# update d with tuple of (male_count, female_count) for each color split\n",
    "for colors in color_splits:\n",
    "  count_gender2 = df2[df2['eyecolor'].isin(colors)]['gender'].value_counts()\n",
    "  if 'male' not in count_gender2.keys():\n",
    "    d[colors] = (0, count_gender2['female'])\n",
    "  elif 'female' not in count_gender2.keys():\n",
    "    d[colors] = (count_gender2['male'], 0)\n",
    "  else:\n",
    "    d[colors] = (count_gender2['male'], count_gender2['female'])\n",
    "d"
   ]
  },
  {
   "cell_type": "code",
   "execution_count": 41,
   "metadata": {
    "colab": {
     "base_uri": "https://localhost:8080/",
     "height": 34
    },
    "colab_type": "code",
    "id": "FBT6xWteqVQp",
    "outputId": "a622a020-601d-4408-c620-d10ba3e15c0e"
   },
   "outputs": [
    {
     "name": "stdout",
     "output_type": "stream",
     "text": [
      "('green',)\n"
     ]
    }
   ],
   "source": [
    "gini_lst2 = []\n",
    "total = num_females + num_males\n",
    "\n",
    "for i in range(len(color_splits)):\n",
    "  num_f_yes = d[color_splits[i]][1] # female counts if yes in color group\n",
    "  num_m_yes = d[color_splits[i]][0] # male counts if yes in color group\n",
    "  num_yes = num_f_yes + num_m_yes\n",
    "  num_f_no = num_females - num_f_yes\n",
    "  num_m_no = num_males - num_m_yes\n",
    "  num_no = total - num_yes\n",
    "  # calculate gini index at split point, function is gini(D) = (D1/D) * 2p_1(1-p_1) + (D2/D) * 2p_2(1-p_2)\n",
    "  gini2 = (num_yes/total)*2*(num_f_yes/num_yes)*(num_m_yes/num_yes)+(num_no/total)*2*(num_f_no/num_no)*(num_m_no/num_no)\n",
    "  gini_lst2.append(gini2)\n",
    "\n",
    "min_i_color = np.argmin(gini_lst2) # get the index of min of gini index\n",
    "best_split_group = color_splits[min_i_color] # find the best split color group\n",
    "print(best_split_group)\n",
    "\n",
    "# raise NotImplementedError()"
   ]
  },
  {
   "cell_type": "code",
   "execution_count": 42,
   "metadata": {
    "colab": {},
    "colab_type": "code",
    "deletable": false,
    "id": "iTBzhW_Vugl5",
    "nbgrader": {
     "checksum": "1904d5cda806153db739b5a397c420ce",
     "grade": false,
     "grade_id": "cell-c6d008b0007ae4d7",
     "locked": false,
     "schema_version": 1,
     "solution": true
    }
   },
   "outputs": [],
   "source": [
    "#The value set in the variable must be an array\n",
    "colour_group_1 = ['green'] #Replace [] with the actual colours/values in the group\n",
    "colour_group_2 = ['blue', 'brown', 'hazel', 'other'] #Replace [] with the actual colours/values in the group\n",
    "# YOUR CODE HERE\n",
    "# raise NotImplementedError()"
   ]
  },
  {
   "cell_type": "code",
   "execution_count": 43,
   "metadata": {
    "colab": {
     "base_uri": "https://localhost:8080/",
     "height": 34
    },
    "colab_type": "code",
    "deletable": false,
    "editable": false,
    "id": "DBKu0dDvugl-",
    "nbgrader": {
     "checksum": "4e306b120de04cbdc496f0bf5ca4bc75",
     "grade": true,
     "grade_id": "cell-633329070c59b89d",
     "locked": true,
     "points": 1,
     "schema_version": 1,
     "solution": false
    },
    "outputId": "7e3035e9-9fa1-4cc7-d96b-91a4be838ee3"
   },
   "outputs": [
    {
     "name": "stdout",
     "output_type": "stream",
     "text": [
      "['green'] ['blue', 'brown', 'hazel', 'other']\n"
     ]
    }
   ],
   "source": [
    "#This is an autograded cell, do not edit\n",
    "print(colour_group_1, colour_group_2)"
   ]
  },
  {
   "cell_type": "markdown",
   "metadata": {
    "colab_type": "text",
    "deletable": false,
    "editable": false,
    "id": "Q0n3uxWFugmC",
    "nbgrader": {
     "checksum": "a5fa6db03e0b1d03320f702d669e6328",
     "grade": false,
     "grade_id": "cell-54d3a4d63e10789a",
     "locked": true,
     "schema_version": 1,
     "solution": false
    }
   },
   "source": [
    "---\n",
    "**Question 10 (0.5 points, autograded)**: What is the Gini Index of this best split?"
   ]
  },
  {
   "cell_type": "code",
   "execution_count": 44,
   "metadata": {
    "colab": {
     "base_uri": "https://localhost:8080/",
     "height": 34
    },
    "colab_type": "code",
    "deletable": false,
    "id": "SLWuwwvnugmF",
    "nbgrader": {
     "checksum": "f1b5c57dc68cb76716cb9dd1e5cb00db",
     "grade": false,
     "grade_id": "cell-f755b4ebebdcbcd3",
     "locked": false,
     "schema_version": 1,
     "solution": true
    },
    "outputId": "b76b39a1-67cf-47c6-81d1-7ae7e8fc261c"
   },
   "outputs": [
    {
     "data": {
      "text/plain": [
       "0.4930915729509778"
      ]
     },
     "execution_count": 44,
     "metadata": {
      "tags": []
     },
     "output_type": "execute_result"
    }
   ],
   "source": [
    "gini_lst2[min_i_color]\n",
    "# raise NotImplementedError()"
   ]
  },
  {
   "cell_type": "code",
   "execution_count": 45,
   "metadata": {
    "colab": {},
    "colab_type": "code",
    "deletable": false,
    "id": "VYJlCiCuugmJ",
    "nbgrader": {
     "checksum": "efce7c9024ee735ae78576a9e6153798",
     "grade": false,
     "grade_id": "cell-b9d691586c5addbd",
     "locked": false,
     "schema_version": 1,
     "solution": true
    }
   },
   "outputs": [],
   "source": [
    "#The value set in the variable must be float\n",
    "gini_of_best_split_group = 0.4930915729509778 #Replace 0 with the actual value\n",
    "\n",
    "# YOUR CODE HERE\n",
    "# raise NotImplementedError()"
   ]
  },
  {
   "cell_type": "code",
   "execution_count": 46,
   "metadata": {
    "colab": {
     "base_uri": "https://localhost:8080/",
     "height": 34
    },
    "colab_type": "code",
    "deletable": false,
    "editable": false,
    "id": "MFn6uVBcugmL",
    "nbgrader": {
     "checksum": "2d4da39818e70541f2d3a55729adbae0",
     "grade": true,
     "grade_id": "cell-7332ad4509b48564",
     "locked": true,
     "points": 0.5,
     "schema_version": 1,
     "solution": false
    },
    "outputId": "ed82f455-ae9b-44f2-9487-49543bb60fe3"
   },
   "outputs": [
    {
     "name": "stdout",
     "output_type": "stream",
     "text": [
      "0.4930915729509778\n"
     ]
    }
   ],
   "source": [
    "#This is an autograded cell, do not edit\n",
    "print(gini_of_best_split_group)"
   ]
  },
  {
   "cell_type": "markdown",
   "metadata": {
    "colab_type": "text",
    "deletable": false,
    "editable": false,
    "id": "_o0PW2rLugmO",
    "nbgrader": {
     "checksum": "473602565cfa2400f2ad7b85fd72b373",
     "grade": false,
     "grade_id": "cell-34f1033ad6a06232",
     "locked": true,
     "schema_version": 1,
     "solution": false
    }
   },
   "source": [
    "---\n",
    "**Question 11 (0.5 points, autograded)**: How much does this partitioning reduce the Gini Index over the Gini index of the overall dataset?"
   ]
  },
  {
   "cell_type": "code",
   "execution_count": 47,
   "metadata": {
    "colab": {
     "base_uri": "https://localhost:8080/",
     "height": 34
    },
    "colab_type": "code",
    "deletable": false,
    "id": "Ja5w5_ucugmP",
    "nbgrader": {
     "checksum": "bf9360740e6f25bb1c156c93c1869845",
     "grade": false,
     "grade_id": "cell-68d41651a95a23df",
     "locked": false,
     "schema_version": 1,
     "solution": true
    },
    "outputId": "b6ff33f5-240f-46ff-e947-fec6ee3de3d4"
   },
   "outputs": [
    {
     "data": {
      "text/plain": [
       "0.003337706953802977"
      ]
     },
     "execution_count": 47,
     "metadata": {
      "tags": []
     },
     "output_type": "execute_result"
    }
   ],
   "source": [
    "gini_index - gini_of_best_split_group\n",
    "# raise NotImplementedError()"
   ]
  },
  {
   "cell_type": "code",
   "execution_count": 48,
   "metadata": {
    "colab": {},
    "colab_type": "code",
    "deletable": false,
    "id": "Z1m4Yf-NugmR",
    "nbgrader": {
     "checksum": "7d84ef913eb55fa6ab7d5f327bc8b650",
     "grade": false,
     "grade_id": "cell-7e15f66615ed4361",
     "locked": false,
     "schema_version": 1,
     "solution": true
    }
   },
   "outputs": [],
   "source": [
    "#The value set in the variable must be float\n",
    "gini_difference_2 = 0.003337706953802977 #Replace 0 with the actual value\n",
    "\n",
    "# YOUR CODE HERE\n",
    "# raise NotImplementedError()"
   ]
  },
  {
   "cell_type": "code",
   "execution_count": 49,
   "metadata": {
    "colab": {
     "base_uri": "https://localhost:8080/",
     "height": 34
    },
    "colab_type": "code",
    "deletable": false,
    "editable": false,
    "id": "-7ij3URDugmT",
    "nbgrader": {
     "checksum": "6ac2eb45e569ee8da44b7ed0faf33edc",
     "grade": true,
     "grade_id": "cell-a879c9d33c4f102f",
     "locked": true,
     "points": 0.5,
     "schema_version": 1,
     "solution": false
    },
    "outputId": "8007d77a-c194-42d6-d8f1-85e1b0f2f3ed"
   },
   "outputs": [
    {
     "name": "stdout",
     "output_type": "stream",
     "text": [
      "0.003337706953802977\n"
     ]
    }
   ],
   "source": [
    "#This is an autograded cell, do not edit\n",
    "print(gini_difference_2)"
   ]
  },
  {
   "cell_type": "markdown",
   "metadata": {
    "colab_type": "text",
    "deletable": false,
    "editable": false,
    "id": "C0UNgzrTugmX",
    "nbgrader": {
     "checksum": "60aae9f1a5f6e166acf954ee3219986a",
     "grade": false,
     "grade_id": "cell-a47e13b3fcc0108a",
     "locked": true,
     "schema_version": 1,
     "solution": false
    }
   },
   "source": [
    "---\n",
    "**Question 12 (1 points, autograded)** : How many 'female' rows and 'male' rows are in your first partition? How many 'female' rows and 'male' rows are in your second partition?"
   ]
  },
  {
   "cell_type": "code",
   "execution_count": 56,
   "metadata": {
    "colab": {
     "base_uri": "https://localhost:8080/",
     "height": 85
    },
    "colab_type": "code",
    "deletable": false,
    "id": "JguwfDQmugmY",
    "nbgrader": {
     "checksum": "83f6848101b44ce8d5d499484d55d3b2",
     "grade": false,
     "grade_id": "cell-da838430a7b931e1",
     "locked": false,
     "schema_version": 1,
     "solution": true
    },
    "outputId": "4fffde97-06e9-4885-ac12-08e604162fc8"
   },
   "outputs": [
    {
     "name": "stdout",
     "output_type": "stream",
     "text": [
      "First partition: ['green'] \n",
      "male count 107 female count 190\n",
      "Second partition: ['blue', 'brown', 'hazel', 'other'] \n",
      "male count 803 female count 888\n"
     ]
    }
   ],
   "source": [
    "# first partition\n",
    "num_m_yes = d[color_splits[min_i_color]][0]\n",
    "num_f_yes = d[color_splits[min_i_color]][1]\n",
    "print('First partition:', colour_group_1, '\\nmale count', num_m_yes , 'female count', num_f_yes)\n",
    "# second partition\n",
    "print('Second partition:', colour_group_2, '\\nmale count', num_males - num_m_yes, 'female count', num_females - num_f_yes)"
   ]
  },
  {
   "cell_type": "code",
   "execution_count": 57,
   "metadata": {
    "colab": {},
    "colab_type": "code",
    "deletable": false,
    "id": "H-dDxSbDugma",
    "nbgrader": {
     "checksum": "3c880462e0a6e9e9d64542752b22cbef",
     "grade": false,
     "grade_id": "cell-e4c3bc95376f6df7",
     "locked": false,
     "schema_version": 1,
     "solution": true
    }
   },
   "outputs": [],
   "source": [
    "#The value set in the variable must be integer, order doesn't matter\n",
    "partition1_male = 107 #Replace 0 with the actual value\n",
    "partition1_female = 190 #Replace 0 with the actual value\n",
    "partition2_male = 803 #Replace 0 with the actual value\n",
    "partition2_female = 888 #Replace 0 with the actual value\n",
    "\n",
    "# YOUR CODE HERE\n",
    "# raise NotImplementedError()"
   ]
  },
  {
   "cell_type": "code",
   "execution_count": 58,
   "metadata": {
    "colab": {
     "base_uri": "https://localhost:8080/",
     "height": 34
    },
    "colab_type": "code",
    "deletable": false,
    "editable": false,
    "id": "XYCfnyCNugmd",
    "nbgrader": {
     "checksum": "0fdc2e6ab8f5b169f5bfd9566d85fc01",
     "grade": true,
     "grade_id": "cell-1c022d94964cb6cc",
     "locked": true,
     "points": 1,
     "schema_version": 1,
     "solution": false
    },
    "outputId": "5cad088c-f653-4903-a27c-bde97b648fd4"
   },
   "outputs": [
    {
     "name": "stdout",
     "output_type": "stream",
     "text": [
      "107 190 803 888\n"
     ]
    }
   ],
   "source": [
    "#This is an autograded cell, do not edit\n",
    "print(partition1_male, partition1_female, partition2_male, partition2_female)"
   ]
  },
  {
   "cell_type": "markdown",
   "metadata": {
    "colab_type": "text",
    "deletable": false,
    "editable": false,
    "id": "JoFggmQGugmi",
    "nbgrader": {
     "checksum": "2d2ab95c05c31c5f214bd422e16e450b",
     "grade": false,
     "grade_id": "cell-d81b2ec1e886e1b6",
     "locked": true,
     "schema_version": 1,
     "solution": false
    }
   },
   "source": [
    "---\n",
    "## Training a decision tree\n",
    "**Question 13 (1 points, autograded)**: Using all of the features in the original dataframe read in at the top of this notebook, train a decision tree classifier that has a depth of three (not including the root node). What is the accuracy of this classifier on the training data?\n",
    "\n",
    "Scikit-learn classifiers require class labels and features to be in numeric arrays. As such, you will need to turn your categorical features into numeric arrays using DictVectorizer. This is a helpful notebook for understanding how to do this: http://nbviewer.ipython.org/gist/sarguido/7423289. You can turn a pandas dataframe of features into a dictionary of the form needed by DictVectorizer by using df.to_dict('records'). Make sure you remove the class label first (in this case, gender). If you use the class label as a feature, your classifier will have a training accuracy of 100%! The example notebook link also shows how to turn your class labels into a numeric array using sklearn.preprocessing.LabelEncoder()."
   ]
  },
  {
   "cell_type": "code",
   "execution_count": 117,
   "metadata": {
    "colab": {},
    "colab_type": "code",
    "id": "v3XT3TzlDAsw"
   },
   "outputs": [],
   "source": [
    "df['year'].replace('first\"','first', inplace=True) # fix a typo in the dataset"
   ]
  },
  {
   "cell_type": "code",
   "execution_count": 118,
   "metadata": {
    "colab": {
     "base_uri": "https://localhost:8080/",
     "height": 34
    },
    "colab_type": "code",
    "deletable": false,
    "id": "kFIx_xdyugmj",
    "nbgrader": {
     "checksum": "14960b019250231f745c6db5a38c70f7",
     "grade": false,
     "grade_id": "cell-a77a52f79c83b21a",
     "locked": false,
     "schema_version": 1,
     "solution": true
    },
    "outputId": "ff6567bd-b046-44de-fecd-37c5947f224b"
   },
   "outputs": [
    {
     "name": "stdout",
     "output_type": "stream",
     "text": [
      "(1192, 22) (796, 22) (1192,) (796,)\n"
     ]
    }
   ],
   "source": [
    "from sklearn.feature_extraction import DictVectorizer\n",
    "from sklearn.preprocessing import LabelEncoder\n",
    "from sklearn.model_selection import train_test_split\n",
    "\n",
    "# Dict to Vectorizer for all features\n",
    "X = df.drop(['gender'], axis=1).to_dict('records')\n",
    "vec = DictVectorizer()\n",
    "features = vec.fit_transform(X).toarray()\n",
    "\n",
    "# Label encoder for target\n",
    "y = df['gender']\n",
    "le = LabelEncoder()\n",
    "le.fit(['male', 'female'])\n",
    "target = le.transform(y)\n",
    "\n",
    "# Split dataset into train and test\n",
    "X_train, X_test, y_train, y_test = train_test_split(features, target, train_size=0.6, test_size=0.4, random_state=42)\n",
    "\n",
    "print(X_train.shape, X_test.shape, y_train.shape, y_test.shape)"
   ]
  },
  {
   "cell_type": "code",
   "execution_count": 119,
   "metadata": {
    "colab": {
     "base_uri": "https://localhost:8080/",
     "height": 34
    },
    "colab_type": "code",
    "id": "yt5KwEzsoA7Q",
    "outputId": "b2bff4a9-dc1e-4a3a-ae1c-f5650292c93f"
   },
   "outputs": [
    {
     "name": "stdout",
     "output_type": "stream",
     "text": [
      "0.8699664429530202\n"
     ]
    }
   ],
   "source": [
    "from sklearn.tree import DecisionTreeClassifier\n",
    "from sklearn.metrics import accuracy_score\n",
    "\n",
    "clf = DecisionTreeClassifier(max_depth=3)\n",
    "clf.fit(X_train, y_train)\n",
    "y_pred = clf.predict(X_train)\n",
    "\n",
    "print(accuracy_score(y_train, y_pred))"
   ]
  },
  {
   "cell_type": "code",
   "execution_count": 120,
   "metadata": {
    "colab": {},
    "colab_type": "code",
    "deletable": false,
    "id": "CqowI-lrugmn",
    "nbgrader": {
     "checksum": "f26339bc22d99829fefeb18e1c46cb06",
     "grade": false,
     "grade_id": "cell-55c9f9a2702cf09c",
     "locked": false,
     "schema_version": 1,
     "solution": true
    }
   },
   "outputs": [],
   "source": [
    "#The value set in the variable must be float\n",
    "accuracy = 0.8699664429530202 #Replace 0 with the actual value\n",
    "\n",
    "# YOUR CODE HERE\n",
    "# raise NotImplementedError()"
   ]
  },
  {
   "cell_type": "code",
   "execution_count": 121,
   "metadata": {
    "colab": {
     "base_uri": "https://localhost:8080/",
     "height": 34
    },
    "colab_type": "code",
    "deletable": false,
    "editable": false,
    "id": "urP93Al5ugmu",
    "nbgrader": {
     "checksum": "75544e763b81e3e36748ea0f4989c6ae",
     "grade": true,
     "grade_id": "cell-329a69c83b199316",
     "locked": true,
     "points": 1,
     "schema_version": 1,
     "solution": false
    },
    "outputId": "dc871fb1-a939-4aab-c7cc-8f095473f0bb"
   },
   "outputs": [
    {
     "name": "stdout",
     "output_type": "stream",
     "text": [
      "0.8699664429530202\n"
     ]
    }
   ],
   "source": [
    "#This is an autograded cell, do not edit\n",
    "print(accuracy)"
   ]
  },
  {
   "cell_type": "markdown",
   "metadata": {
    "colab_type": "text",
    "deletable": false,
    "editable": false,
    "id": "MpU-3jviugm1",
    "nbgrader": {
     "checksum": "f23e20cb9c25f2f8d674f98079625ff2",
     "grade": false,
     "grade_id": "cell-e321872a66519e2c",
     "locked": true,
     "schema_version": 1,
     "solution": false
    }
   },
   "source": [
    "---\n",
    "**Question 14 (1 points, manually graded)**: Using the following code snippet, export your decision tree to graphviz and visualize it. In your write-up, write down the interpretation of the rule at each node which is used to perform the splitting.\n",
    "\n",
    "In order to install graphviz, you may need to download the tool from [this website](https://graphviz.gitlab.io), and then pip3/conda install the python libraries you do not have.\n",
    "\n",
    "Mac users can use ```brew install graphviz``` instead of following the link, and linux users can do the same using their favourite package manager (for example, Ubuntu users can use ```sudo apt-get install graphviz```, followed by the necessary pip3/conda installations."
   ]
  },
  {
   "cell_type": "code",
   "execution_count": 123,
   "metadata": {
    "colab": {
     "base_uri": "https://localhost:8080/",
     "height": 485
    },
    "colab_type": "code",
    "deletable": false,
    "editable": false,
    "id": "H80MNiT4ugm2",
    "nbgrader": {
     "checksum": "b43dac070b745305841e22382bc87bda",
     "grade": false,
     "grade_id": "cell-5aaab8332072d23e",
     "locked": true,
     "schema_version": 1,
     "solution": false
    },
    "outputId": "47ce0b47-31a6-4129-e9f8-2771568b52e7"
   },
   "outputs": [
    {
     "data": {
      "image/png": "[encoded data removed]",
      "text/plain": [
       "<IPython.core.display.Image object>"
      ]
     },
     "execution_count": 123,
     "metadata": {
      "tags": []
     },
     "output_type": "execute_result"
    }
   ],
   "source": [
    "from IPython.display import Image  \n",
    "import pydotplus \n",
    "import pydot\n",
    "from sklearn.externals.six import StringIO\n",
    "\n",
    "dotfile = StringIO() \n",
    "tree.export_graphviz(clf, out_file=dotfile,\n",
    "                     feature_names=vec.get_feature_names(),  \n",
    "                         class_names=['female', 'male'],  \n",
    "                         filled=True, rounded=True,  \n",
    "                         special_characters=True)\n",
    "graph = pydotplus.graph_from_dot_data(dotfile.getvalue())\n",
    "Image(graph.create_png())\n",
    "\n",
    "# Interpretation: \n",
    "# The first split point is whether someone is no taller than 68.5 inches; \n",
    "# if true, the second split point on the left is whether someone is no taller than 66.5 inches; \n",
    "# if false, the seoncd split point on the right is whether someone is no shorter than 70.5 inches;\n",
    "\n",
    "# If someone is no taller than 66.5 inches, the third split point is asking whether he/she owns less than 4.5 music CDs; \n",
    "# if someone is taller than 66.5 inches, the third split point is asking whether he/she plays games no more than 7.5.\n",
    "\n",
    "# If someone is taller than 70.5 inches, the third question is whether he/she plays games no more than 2.5 hours;\n",
    "# if someone is no taller than 70.5 inches, the third question is whether he/she plays games no more than 0.125 hours;\n",
    "\n",
    "# Following the thrid split point, we reach max depth of 3 of the tree, and having the leaf nodes as shown below.\n",
    "\n",
    "#Ignore the cell below, but do not delete it. It is used to grade the image output of this cell."
   ]
  },
  {
   "cell_type": "code",
   "execution_count": null,
   "metadata": {
    "colab": {},
    "colab_type": "code",
    "deletable": false,
    "id": "ty3tzOLVugm8",
    "nbgrader": {
     "checksum": "cd77be0d5dbdbf44dccc26ef3ee69512",
     "grade": true,
     "grade_id": "cell-ebde7100c67bf20c",
     "locked": false,
     "points": 1,
     "schema_version": 1,
     "solution": true
    }
   },
   "outputs": [],
   "source": [
    "# YOUR CODE HERE\n",
    "raise NotImplementedError()"
   ]
  },
  {
   "cell_type": "markdown",
   "metadata": {
    "colab_type": "text",
    "deletable": false,
    "editable": false,
    "id": "gIOPTYuiugnF",
    "nbgrader": {
     "checksum": "29e84207b6e13109206f7ef78d0ff602",
     "grade": false,
     "grade_id": "cell-06714e6427b2d0d0",
     "locked": true,
     "schema_version": 1,
     "solution": false
    }
   },
   "source": [
    "---\n",
    "## Bonus Question (2 points, auto graded)\n",
    "For each of your leaf nodes, specify the percentage of 'female' rows in that node (out of the total number of rows at that node)\n"
   ]
  },
  {
   "cell_type": "code",
   "execution_count": null,
   "metadata": {
    "colab": {},
    "colab_type": "code",
    "deletable": false,
    "id": "co_iRKrUugnG",
    "nbgrader": {
     "checksum": "88cda91aeb11b6f96d6c2bacf4a4804e",
     "grade": false,
     "grade_id": "cell-650a81bc31e6f608",
     "locked": false,
     "schema_version": 1,
     "solution": true
    }
   },
   "outputs": [],
   "source": [
    "#The value set in the variable must be array\n",
    "ratios = [] #Replace 0 with the actual value\n",
    "\n",
    "# YOUR CODE HERE\n",
    "raise NotImplementedError()\n"
   ]
  },
  {
   "cell_type": "code",
   "execution_count": null,
   "metadata": {
    "colab": {},
    "colab_type": "code",
    "deletable": false,
    "editable": false,
    "id": "Ugyn_t3lugnH",
    "nbgrader": {
     "checksum": "de18cf01eb62a9398145d3f1879681d5",
     "grade": true,
     "grade_id": "cell-2cc540aa430d101d",
     "locked": true,
     "points": 2,
     "schema_version": 1,
     "solution": false
    }
   },
   "outputs": [],
   "source": [
    "#This is an autograded cell, do not edit\n",
    "print(ratios)"
   ]
  },
  {
   "cell_type": "code",
   "execution_count": null,
   "metadata": {
    "colab": {},
    "colab_type": "code",
    "id": "DIjVpr5ZugnU"
   },
   "outputs": [],
   "source": []
  }
 ],
 "metadata": {
  "colab": {
   "collapsed_sections": [],
   "name": "Qiu_Yin_Lab3.ipynb",
   "provenance": []
  },
  "kernelspec": {
   "display_name": "Python 3",
   "language": "python",
   "name": "python3"
  },
  "language_info": {
   "codemirror_mode": {
    "name": "ipython",
    "version": 3
   },
   "file_extension": ".py",
   "mimetype": "text/x-python",
   "name": "python",
   "nbconvert_exporter": "python",
   "pygments_lexer": "ipython3",
   "version": "3.7.6"
  }
 },
 "nbformat": 4,
 "nbformat_minor": 1
}
