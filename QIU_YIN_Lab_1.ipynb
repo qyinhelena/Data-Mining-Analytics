{
 "cells": [
  {
   "cell_type": "markdown",
   "metadata": {
    "colab_type": "text",
    "id": "vKduyi9dItO4"
   },
   "source": [
    "Make sure you fill in any place that says `YOUR CODE HERE` or `YOUR ANSWER HERE`, as well as your name below:"
   ]
  },
  {
   "cell_type": "code",
   "execution_count": 1,
   "metadata": {
    "colab": {},
    "colab_type": "code",
    "id": "FsEVbU41ItO7"
   },
   "outputs": [],
   "source": [
    "NAME = \"Yin Qiu\""
   ]
  },
  {
   "cell_type": "markdown",
   "metadata": {
    "colab_type": "text",
    "id": "M7sDljEMItPA"
   },
   "source": [
    "---"
   ]
  },
  {
   "cell_type": "markdown",
   "metadata": {
    "colab_type": "text",
    "deletable": false,
    "editable": false,
    "id": "LJNmSc7sItPB",
    "nbgrader": {
     "checksum": "720281502b9b9c7f8930d61c682cb061",
     "grade": false,
     "grade_id": "cell-731531e531b99c39",
     "locked": true,
     "schema_version": 1,
     "solution": false
    }
   },
   "source": [
    "# Lab 1 - Data Preprocessing\n",
    "\n",
    "Data transformations are useful for preparing a dataset for answering a particular question. Part of this process involves generating features from the dataset you find relevant to the question at hand. For this lab, we will be using a Yelp reviews dataset. Each row in the dataset depicts one review along with the features of the review (the reviewer, the review text, etc.). The goal of this lab is to convert this reviews dataset into a reviewers dataset by creating different features of each reviewer.\n",
    "\n",
    "The submission for this assignment should be done *individually*.\n",
    "\n",
    "# Environment Setup\n",
    "Run this cell to setup your environment."
   ]
  },
  {
   "cell_type": "code",
   "execution_count": 2,
   "metadata": {
    "colab": {
     "base_uri": "https://localhost:8080/",
     "height": 238
    },
    "colab_type": "code",
    "deletable": false,
    "editable": false,
    "id": "LIH96tFzItPC",
    "nbgrader": {
     "checksum": "c4f9a2a35aae087d70dccad8514e5e4f",
     "grade": false,
     "grade_id": "cell-88d067a4407f02bf",
     "locked": true,
     "schema_version": 1,
     "solution": false
    },
    "outputId": "2be3b6d4-9154-48dc-dc92-1088fbba457b"
   },
   "outputs": [
    {
     "name": "stdout",
     "output_type": "stream",
     "text": [
      "Libraries Imported\n",
      "File ‘yelp_reviews.csv’ already there; not retrieving.\n",
      "\n",
      "Dataset Downloaded: yelp_reviews.csv\n",
      "     type             business_id  ... useful_votes  funny_votes\n",
      "0  review  mxrXVZWc6PWk81gvOVNOUw  ...            0            0\n",
      "1  review  mxrXVZWc6PWk81gvOVNOUw  ...            0            0\n",
      "2  review  kK4AzZ0YWI-U2G-paAL7Fg  ...            0            0\n",
      "3  review  mxrXVZWc6PWk81gvOVNOUw  ...            1            0\n",
      "4  review  mxrXVZWc6PWk81gvOVNOUw  ...            0            1\n",
      "\n",
      "[5 rows x 9 columns]\n",
      "Setup Complete\n"
     ]
    }
   ],
   "source": [
    "# Importing libraries\n",
    "import pandas as pd\n",
    "import math\n",
    "import numpy as np\n",
    "import os\n",
    "print('Libraries Imported')\n",
    "\n",
    "#DOWNLOADING DATASET IF NOT PRESENT\n",
    "!wget -nc http://people.ischool.berkeley.edu/~zp/course_datasets/yelp_reviews.csv\n",
    "\n",
    "#!unzip yelp_reviews.zip\n",
    "print('Dataset Downloaded: yelp_reviews.csv')\n",
    "df=pd.read_csv('yelp_reviews.csv')\n",
    "print(df.head())\n",
    "\n",
    "print('Setup Complete')"
   ]
  },
  {
   "cell_type": "code",
   "execution_count": 25,
   "metadata": {
    "colab": {
     "base_uri": "https://localhost:8080/",
     "height": 68
    },
    "colab_type": "code",
    "id": "qPgOZsAjLqEi",
    "outputId": "ecf33b04-0ec4-47b8-83ca-9ce3c9463a87"
   },
   "outputs": [
    {
     "data": {
      "text/plain": [
       "Index(['type', 'business_id', 'user_id', 'stars', 'text', 'date', 'cool_votes',\n",
       "       'useful_votes', 'funny_votes'],\n",
       "      dtype='object')"
      ]
     },
     "execution_count": 25,
     "metadata": {
      "tags": []
     },
     "output_type": "execute_result"
    }
   ],
   "source": [
    "df.columns"
   ]
  },
  {
   "cell_type": "code",
   "execution_count": 26,
   "metadata": {
    "colab": {
     "base_uri": "https://localhost:8080/",
     "height": 359
    },
    "colab_type": "code",
    "id": "7tLO0qibo-G-",
    "outputId": "ae1f89a9-74ef-4b01-abaf-f9b6953fa62a"
   },
   "outputs": [
    {
     "data": {
      "text/html": [
       "<div>\n",
       "<style scoped>\n",
       "    .dataframe tbody tr th:only-of-type {\n",
       "        vertical-align: middle;\n",
       "    }\n",
       "\n",
       "    .dataframe tbody tr th {\n",
       "        vertical-align: top;\n",
       "    }\n",
       "\n",
       "    .dataframe thead th {\n",
       "        text-align: right;\n",
       "    }\n",
       "</style>\n",
       "<table border=\"1\" class=\"dataframe\">\n",
       "  <thead>\n",
       "    <tr style=\"text-align: right;\">\n",
       "      <th></th>\n",
       "      <th>type</th>\n",
       "      <th>business_id</th>\n",
       "      <th>user_id</th>\n",
       "      <th>stars</th>\n",
       "      <th>text</th>\n",
       "      <th>date</th>\n",
       "      <th>cool_votes</th>\n",
       "      <th>useful_votes</th>\n",
       "      <th>funny_votes</th>\n",
       "    </tr>\n",
       "  </thead>\n",
       "  <tbody>\n",
       "    <tr>\n",
       "      <th>0</th>\n",
       "      <td>review</td>\n",
       "      <td>mxrXVZWc6PWk81gvOVNOUw</td>\n",
       "      <td>mv7shusL4Xb6TylVYBv4CA</td>\n",
       "      <td>4</td>\n",
       "      <td>Definitely try the duck dish.   I rank it amon...</td>\n",
       "      <td>2011-06-13</td>\n",
       "      <td>0</td>\n",
       "      <td>0</td>\n",
       "      <td>0</td>\n",
       "    </tr>\n",
       "    <tr>\n",
       "      <th>1</th>\n",
       "      <td>review</td>\n",
       "      <td>mxrXVZWc6PWk81gvOVNOUw</td>\n",
       "      <td>0aN5QPhs-VwK2vusKG0waQ</td>\n",
       "      <td>5</td>\n",
       "      <td>Big Ass Burger was awesome! Great $5 mojitos. ...</td>\n",
       "      <td>2011-06-25</td>\n",
       "      <td>1</td>\n",
       "      <td>0</td>\n",
       "      <td>0</td>\n",
       "    </tr>\n",
       "    <tr>\n",
       "      <th>2</th>\n",
       "      <td>review</td>\n",
       "      <td>kK4AzZ0YWI-U2G-paAL7Fg</td>\n",
       "      <td>0aN5QPhs-VwK2vusKG0waQ</td>\n",
       "      <td>5</td>\n",
       "      <td>Unbelievable sandwiches! Good service.</td>\n",
       "      <td>2011-06-25</td>\n",
       "      <td>0</td>\n",
       "      <td>0</td>\n",
       "      <td>0</td>\n",
       "    </tr>\n",
       "    <tr>\n",
       "      <th>3</th>\n",
       "      <td>review</td>\n",
       "      <td>mxrXVZWc6PWk81gvOVNOUw</td>\n",
       "      <td>1JUwyYab-uJzEx_FRd81Zg</td>\n",
       "      <td>5</td>\n",
       "      <td>Awesome, awesome, awesome! My mom and sister a...</td>\n",
       "      <td>2011-07-18</td>\n",
       "      <td>1</td>\n",
       "      <td>1</td>\n",
       "      <td>0</td>\n",
       "    </tr>\n",
       "    <tr>\n",
       "      <th>4</th>\n",
       "      <td>review</td>\n",
       "      <td>mxrXVZWc6PWk81gvOVNOUw</td>\n",
       "      <td>2Zd3Xy8hUVmZkNg7RyNjhg</td>\n",
       "      <td>4</td>\n",
       "      <td>I had the ribs they were great.  The beer sele...</td>\n",
       "      <td>2011-07-19</td>\n",
       "      <td>1</td>\n",
       "      <td>0</td>\n",
       "      <td>1</td>\n",
       "    </tr>\n",
       "    <tr>\n",
       "      <th>5</th>\n",
       "      <td>review</td>\n",
       "      <td>iDYzGVIF1TDWdjHNgNjCVw</td>\n",
       "      <td>2Zd3Xy8hUVmZkNg7RyNjhg</td>\n",
       "      <td>4</td>\n",
       "      <td>Great food, great drink. I had the crab enchil...</td>\n",
       "      <td>2011-07-19</td>\n",
       "      <td>0</td>\n",
       "      <td>0</td>\n",
       "      <td>0</td>\n",
       "    </tr>\n",
       "    <tr>\n",
       "      <th>6</th>\n",
       "      <td>review</td>\n",
       "      <td>dsMvINhoQbIQgSRTBv2B6g</td>\n",
       "      <td>2Zd3Xy8hUVmZkNg7RyNjhg</td>\n",
       "      <td>3</td>\n",
       "      <td>The only thing keeping this 5 stars is the pri...</td>\n",
       "      <td>2012-10-07</td>\n",
       "      <td>0</td>\n",
       "      <td>2</td>\n",
       "      <td>0</td>\n",
       "    </tr>\n",
       "    <tr>\n",
       "      <th>7</th>\n",
       "      <td>review</td>\n",
       "      <td>ZXRcWs5SUCvSfb8I2aLOnA</td>\n",
       "      <td>2Zd3Xy8hUVmZkNg7RyNjhg</td>\n",
       "      <td>4</td>\n",
       "      <td>My wife and I have been to many different Spas...</td>\n",
       "      <td>2010-08-24</td>\n",
       "      <td>0</td>\n",
       "      <td>0</td>\n",
       "      <td>0</td>\n",
       "    </tr>\n",
       "    <tr>\n",
       "      <th>8</th>\n",
       "      <td>review</td>\n",
       "      <td>YQvg0JCGRFUkb6reMMf3Iw</td>\n",
       "      <td>2Zd3Xy8hUVmZkNg7RyNjhg</td>\n",
       "      <td>4</td>\n",
       "      <td>This place in my mind is Postinos meets Bianco...</td>\n",
       "      <td>2011-07-11</td>\n",
       "      <td>1</td>\n",
       "      <td>1</td>\n",
       "      <td>0</td>\n",
       "    </tr>\n",
       "    <tr>\n",
       "      <th>9</th>\n",
       "      <td>review</td>\n",
       "      <td>GGVcdnKoRXldVEgergSF-A</td>\n",
       "      <td>2Zd3Xy8hUVmZkNg7RyNjhg</td>\n",
       "      <td>4</td>\n",
       "      <td>Good lunch place.  Everything I have had is be...</td>\n",
       "      <td>2012-11-17</td>\n",
       "      <td>0</td>\n",
       "      <td>0</td>\n",
       "      <td>0</td>\n",
       "    </tr>\n",
       "  </tbody>\n",
       "</table>\n",
       "</div>"
      ],
      "text/plain": [
       "     type             business_id  ... useful_votes  funny_votes\n",
       "0  review  mxrXVZWc6PWk81gvOVNOUw  ...            0            0\n",
       "1  review  mxrXVZWc6PWk81gvOVNOUw  ...            0            0\n",
       "2  review  kK4AzZ0YWI-U2G-paAL7Fg  ...            0            0\n",
       "3  review  mxrXVZWc6PWk81gvOVNOUw  ...            1            0\n",
       "4  review  mxrXVZWc6PWk81gvOVNOUw  ...            0            1\n",
       "5  review  iDYzGVIF1TDWdjHNgNjCVw  ...            0            0\n",
       "6  review  dsMvINhoQbIQgSRTBv2B6g  ...            2            0\n",
       "7  review  ZXRcWs5SUCvSfb8I2aLOnA  ...            0            0\n",
       "8  review  YQvg0JCGRFUkb6reMMf3Iw  ...            1            0\n",
       "9  review  GGVcdnKoRXldVEgergSF-A  ...            0            0\n",
       "\n",
       "[10 rows x 9 columns]"
      ]
     },
     "execution_count": 26,
     "metadata": {
      "tags": []
     },
     "output_type": "execute_result"
    }
   ],
   "source": [
    "df.head(10)"
   ]
  },
  {
   "cell_type": "markdown",
   "metadata": {
    "colab_type": "text",
    "deletable": false,
    "editable": false,
    "id": "esN8qRHkItPG",
    "nbgrader": {
     "checksum": "51be56b978a555a682bd1a02d85a7434",
     "grade": false,
     "grade_id": "cell-63034c0f0a81dc85",
     "locked": true,
     "schema_version": 1,
     "solution": false
    }
   },
   "source": [
    "**Q1: What was the highest number of reviews for any one business_id?**\n",
    "- For this task, we will need to group the reviews dataset by business_id. This will aggregate data for each business, which is what we need. This can be done using [groupby](https://pandas.pydata.org/pandas-docs/stable/generated/pandas.DataFrame.groupby.html).\n",
    "    - ```yelp_businesses = yelp_dataset.groupby('business_id').size() ```\n",
    "    - The .size() counts the number of instances for each business_id, which gives us the number of reviews as each instance in this dataset is a review.\n",
    "    - The following command will sort this list, after which you can take note of the highest value: ```sorted_yelp_businesses = yelp_businesses.sort_values(ascending=False, inplace=False)```\n",
    "    - This approach allows you to see the data structure being used in the sort. A quicker approach to getting the max would be to use the max function: ```max(yelp_businesses)```\n",
    "<br>\n",
    "<br>"
   ]
  },
  {
   "cell_type": "code",
   "execution_count": 27,
   "metadata": {
    "colab": {},
    "colab_type": "code",
    "deletable": false,
    "id": "AbKk0rohItPG",
    "nbgrader": {
     "checksum": "a4b3a58ab839a93b83e514e1db0c11e3",
     "grade": false,
     "grade_id": "cell-b9fd95d084732ea0",
     "locked": false,
     "schema_version": 1,
     "solution": true
    }
   },
   "outputs": [],
   "source": [
    "#Make sure you return the answer value in this function\n",
    "def q1(df):\n",
    "    \n",
    "    yelp_businesses = df.groupby('business_id').size().sort_values(ascending=False, inplace=False)\n",
    "    return yelp_businesses[0]\n",
    "    \n",
    "    raise NotImplementedError()"
   ]
  },
  {
   "cell_type": "code",
   "execution_count": 29,
   "metadata": {
    "colab": {
     "base_uri": "https://localhost:8080/",
     "height": 34
    },
    "colab_type": "code",
    "deletable": false,
    "editable": false,
    "id": "rzD83og_ItPJ",
    "nbgrader": {
     "checksum": "e989434a5e20d93eb1500308f7ecf163",
     "grade": true,
     "grade_id": "cell-1d1402069f0f336b",
     "locked": true,
     "points": 0.5,
     "schema_version": 1,
     "solution": false
    },
    "outputId": "f7155c18-4661-4f74-874c-679f31152def"
   },
   "outputs": [
    {
     "name": "stdout",
     "output_type": "stream",
     "text": [
      "4128\n"
     ]
    }
   ],
   "source": [
    "#This is an autograded cell, do not edit\n",
    "print(q1(df))\n"
   ]
  },
  {
   "cell_type": "markdown",
   "metadata": {
    "colab_type": "text",
    "deletable": false,
    "editable": false,
    "id": "fZ_McPZ-ItPL",
    "nbgrader": {
     "checksum": "6cde0278ab840df1fb90b16ca8c14a8a",
     "grade": false,
     "grade_id": "cell-c998b50208612779",
     "locked": true,
     "schema_version": 1,
     "solution": false
    }
   },
   "source": [
    "**Q2: What was the average number of reviews for a business_id?**"
   ]
  },
  {
   "cell_type": "code",
   "execution_count": 30,
   "metadata": {
    "colab": {},
    "colab_type": "code",
    "deletable": false,
    "id": "0V-m-GMAItPM",
    "nbgrader": {
     "checksum": "6ff0153f15cd01aa6d958646c22cd2eb",
     "grade": false,
     "grade_id": "cell-bda529e7277d1978",
     "locked": false,
     "schema_version": 1,
     "solution": true
    }
   },
   "outputs": [],
   "source": [
    "#Make sure you return the answer value in this function\n",
    "def q2(df):\n",
    "    \n",
    "    mean_reviews = df.groupby('business_id').size().mean()\n",
    "    return mean_reviews\n",
    "    \n",
    "    raise NotImplementedError()"
   ]
  },
  {
   "cell_type": "code",
   "execution_count": 31,
   "metadata": {
    "colab": {
     "base_uri": "https://localhost:8080/",
     "height": 34
    },
    "colab_type": "code",
    "deletable": false,
    "editable": false,
    "id": "V_9IXDmvItPO",
    "nbgrader": {
     "checksum": "72d8375074f6e5eb294215044c460696",
     "grade": true,
     "grade_id": "cell-febce0a51b6da9da",
     "locked": true,
     "points": 0.5,
     "schema_version": 1,
     "solution": false
    },
    "outputId": "1dddf386-1e9a-4195-d5d0-f586e2bd0708"
   },
   "outputs": [
    {
     "name": "stdout",
     "output_type": "stream",
     "text": [
      "12.63413902163123\n"
     ]
    }
   ],
   "source": [
    "#This is an autograded cell, do not edit\n",
    "print(q2(df))\n"
   ]
  },
  {
   "cell_type": "markdown",
   "metadata": {
    "colab_type": "text",
    "deletable": false,
    "editable": false,
    "id": "T9bRVaYZItPQ",
    "nbgrader": {
     "checksum": "d6874779b6c6d2e361fc9891455b6960",
     "grade": false,
     "grade_id": "cell-a568a611d600caa2",
     "locked": true,
     "schema_version": 1,
     "solution": false
    }
   },
   "source": [
    "**Q3: What is the average number of reviews per reviewer?**"
   ]
  },
  {
   "cell_type": "code",
   "execution_count": 32,
   "metadata": {
    "colab": {},
    "colab_type": "code",
    "deletable": false,
    "id": "J58jfsKTItPQ",
    "nbgrader": {
     "checksum": "369c594937118aa98e0aea635c345943",
     "grade": false,
     "grade_id": "cell-f92e05c4b7a28174",
     "locked": false,
     "schema_version": 1,
     "solution": true
    }
   },
   "outputs": [],
   "source": [
    "#Make sure you return the answer value in this function\n",
    "def q3(df):\n",
    "    \n",
    "    mean_per_user = df.groupby('user_id').size().mean()\n",
    "    return mean_per_user\n",
    "\n",
    "    raise NotImplementedError()"
   ]
  },
  {
   "cell_type": "code",
   "execution_count": 33,
   "metadata": {
    "colab": {
     "base_uri": "https://localhost:8080/",
     "height": 34
    },
    "colab_type": "code",
    "deletable": false,
    "editable": false,
    "id": "Wx5wcx6pItPT",
    "nbgrader": {
     "checksum": "7ed7ddd4ec46674bdd89445dc1034175",
     "grade": true,
     "grade_id": "cell-d76279e8e7d4a79f",
     "locked": true,
     "points": 0.5,
     "schema_version": 1,
     "solution": false
    },
    "outputId": "2686e5f6-788e-4bc8-87c0-ad511001581f"
   },
   "outputs": [
    {
     "name": "stdout",
     "output_type": "stream",
     "text": [
      "3.188511934933203\n"
     ]
    }
   ],
   "source": [
    "#This is an autograded cell, do not edit\n",
    "print(q3(df))\n"
   ]
  },
  {
   "cell_type": "markdown",
   "metadata": {
    "colab_type": "text",
    "deletable": false,
    "editable": false,
    "id": "oa0doTGiItPW",
    "nbgrader": {
     "checksum": "e8d5fd42acde59c3bd19cc07db76ac1c",
     "grade": false,
     "grade_id": "cell-c76f8dc8692f2472",
     "locked": true,
     "schema_version": 1,
     "solution": false
    }
   },
   "source": [
    "**Q4: Calculate the total cool votes per reviewer, then average these totals across reviewers.**"
   ]
  },
  {
   "cell_type": "code",
   "execution_count": 34,
   "metadata": {
    "colab": {},
    "colab_type": "code",
    "deletable": false,
    "id": "sWuWYjrSItPX",
    "nbgrader": {
     "checksum": "2db144055be1d1f506af2bbdcf924e58",
     "grade": false,
     "grade_id": "cell-f06192fbabe75195",
     "locked": false,
     "schema_version": 1,
     "solution": true
    }
   },
   "outputs": [],
   "source": [
    "#Make sure you return the answer value in this function\n",
    "def q4(df):\n",
    "    \n",
    "    cool_votes_per_user = df.groupby('user_id').sum()[['cool_votes']].mean()\n",
    "    return cool_votes_per_user\n",
    "\n",
    "    raise NotImplementedError()"
   ]
  },
  {
   "cell_type": "code",
   "execution_count": 35,
   "metadata": {
    "colab": {
     "base_uri": "https://localhost:8080/",
     "height": 51
    },
    "colab_type": "code",
    "deletable": false,
    "editable": false,
    "id": "z3o9lMo-ItPZ",
    "nbgrader": {
     "checksum": "70b555da34836694349c4923beb1950b",
     "grade": true,
     "grade_id": "cell-cabbe00e6fee304e",
     "locked": true,
     "points": 0.5,
     "schema_version": 1,
     "solution": false
    },
    "outputId": "8175ecd0-c980-4798-ada0-0374e6de2974"
   },
   "outputs": [
    {
     "name": "stdout",
     "output_type": "stream",
     "text": [
      "cool_votes    1.241728\n",
      "dtype: float64\n"
     ]
    }
   ],
   "source": [
    "#This is an autograded cell, do not edit\n",
    "print(q4(df))\n"
   ]
  },
  {
   "cell_type": "markdown",
   "metadata": {
    "colab_type": "text",
    "deletable": false,
    "editable": false,
    "id": "fDD4Lh8fItPb",
    "nbgrader": {
     "checksum": "1e80dfdd5311c1dd540fafe446ad10c3",
     "grade": false,
     "grade_id": "cell-9e278b8cd31ace62",
     "locked": true,
     "schema_version": 1,
     "solution": false
    }
   },
   "source": [
    "**Q5: Calculate the total funny votes per reviewer, then average these totals across reviewers.**"
   ]
  },
  {
   "cell_type": "code",
   "execution_count": 36,
   "metadata": {
    "colab": {},
    "colab_type": "code",
    "deletable": false,
    "id": "KiVt8qB7ItPc",
    "nbgrader": {
     "checksum": "cb6393f6479792516d064ab368490d90",
     "grade": false,
     "grade_id": "cell-93635f0a6f297df9",
     "locked": false,
     "schema_version": 1,
     "solution": true
    }
   },
   "outputs": [],
   "source": [
    "#Make sure you return the answer value in this function\n",
    "def q5(df):\n",
    "    \n",
    "    funny_votes_per_user = df.groupby('user_id').sum()[['funny_votes']].mean()\n",
    "    return funny_votes_per_user\n",
    "\n",
    "    raise NotImplementedError()"
   ]
  },
  {
   "cell_type": "code",
   "execution_count": 37,
   "metadata": {
    "colab": {
     "base_uri": "https://localhost:8080/",
     "height": 51
    },
    "colab_type": "code",
    "deletable": false,
    "editable": false,
    "id": "bWzUljWAItPe",
    "nbgrader": {
     "checksum": "d3be5fcefa0f798be6504de7f8f1b344",
     "grade": true,
     "grade_id": "cell-4c41413214d2d4f1",
     "locked": true,
     "points": 0.5,
     "schema_version": 1,
     "solution": false
    },
    "outputId": "2a20e71d-20c7-48d3-ec6b-e5bbf5e40edc"
   },
   "outputs": [
    {
     "name": "stdout",
     "output_type": "stream",
     "text": [
      "funny_votes    1.101265\n",
      "dtype: float64\n"
     ]
    }
   ],
   "source": [
    "#This is an autograded cell, do not edit\n",
    "print(q5(df))\n"
   ]
  },
  {
   "cell_type": "markdown",
   "metadata": {
    "colab_type": "text",
    "deletable": false,
    "editable": false,
    "id": "qx0rBKw9ItPg",
    "nbgrader": {
     "checksum": "e62dd2a28323b8d943f63dda321c3aea",
     "grade": false,
     "grade_id": "cell-9554ed7bdee76fb1",
     "locked": true,
     "schema_version": 1,
     "solution": false
    }
   },
   "source": [
    "**Q6: Calculate the total useful votes per reviewer, then average these totals across reviewers.**"
   ]
  },
  {
   "cell_type": "code",
   "execution_count": 38,
   "metadata": {
    "colab": {},
    "colab_type": "code",
    "deletable": false,
    "id": "KIYaRM3uItPh",
    "nbgrader": {
     "checksum": "4375ea8e9efa96b5ea65a2f4f553faad",
     "grade": false,
     "grade_id": "cell-2cebd87b7f8b37d1",
     "locked": false,
     "schema_version": 1,
     "solution": true
    }
   },
   "outputs": [],
   "source": [
    "#Make sure you return the answer in this function\n",
    "def q6(df):\n",
    "    \n",
    "    useful_votes_per_user = df.groupby('user_id').sum()[['useful_votes']].mean()\n",
    "    return useful_votes_per_user\n",
    "\n",
    "    raise NotImplementedError()"
   ]
  },
  {
   "cell_type": "code",
   "execution_count": 39,
   "metadata": {
    "colab": {
     "base_uri": "https://localhost:8080/",
     "height": 51
    },
    "colab_type": "code",
    "deletable": false,
    "editable": false,
    "id": "xrNe4FWdItPj",
    "nbgrader": {
     "checksum": "2435ef28744576ab65e21558b65e0a5e",
     "grade": true,
     "grade_id": "cell-1a546329acbcd0e4",
     "locked": true,
     "points": 0.5,
     "schema_version": 1,
     "solution": false
    },
    "outputId": "a7649aa3-fd3b-4a15-ef55-647e4f37577d"
   },
   "outputs": [
    {
     "name": "stdout",
     "output_type": "stream",
     "text": [
      "useful_votes    2.484476\n",
      "dtype: float64\n"
     ]
    }
   ],
   "source": [
    "#This is an autograded cell, do not edit\n",
    "print(q6(df))\n"
   ]
  },
  {
   "cell_type": "markdown",
   "metadata": {
    "colab_type": "text",
    "deletable": false,
    "editable": false,
    "id": "yUBt7rj9ItP-",
    "nbgrader": {
     "checksum": "560323764f6c0effd9615228a4dd9537",
     "grade": false,
     "grade_id": "cell-328aa1a4c9a958d8",
     "locked": true,
     "schema_version": 1,
     "solution": false
    }
   },
   "source": [
    "**Q7: On average, what percentage of a reviewer's votes are cool votes?**\n",
    "\n",
    "(hint1: calculate the percentage of cool votes for each reviewer, then average across reviewers)\n",
    "\n",
    "(hint2: you should discard reviewers who have zero total votes from your calculation)"
   ]
  },
  {
   "cell_type": "code",
   "execution_count": 40,
   "metadata": {
    "colab": {},
    "colab_type": "code",
    "deletable": false,
    "id": "LuFzcyytItP-",
    "nbgrader": {
     "checksum": "c4ca0edbf727b2adc41527ebb2129cef",
     "grade": false,
     "grade_id": "cell-54fe5dd9777347a1",
     "locked": false,
     "schema_version": 1,
     "solution": true
    }
   },
   "outputs": [],
   "source": [
    "#Make sure you return the answer in this function\n",
    "#Remember to multiply by 100 for percentages\n",
    "def q7(df):\n",
    "    \n",
    "    have_votes = df.query('useful_votes>0 or cool_votes>0 or funny_votes>0')\n",
    "    votes = have_votes.groupby('user_id').sum()\n",
    "    cool_percent = np.array(votes['cool_votes'])*100 / np.array((votes.iloc[:,-3:]).sum(axis=1))\n",
    "    return cool_percent.mean()\n",
    "\n",
    "    raise NotImplementedError()"
   ]
  },
  {
   "cell_type": "code",
   "execution_count": 42,
   "metadata": {
    "colab": {
     "base_uri": "https://localhost:8080/",
     "height": 34
    },
    "colab_type": "code",
    "deletable": false,
    "editable": false,
    "id": "ftY6isjeItQA",
    "nbgrader": {
     "checksum": "6ba2d96b43cc0796b9c8ec31e17fefe9",
     "grade": true,
     "grade_id": "cell-594b1121d785d15e",
     "locked": true,
     "points": 0.5,
     "schema_version": 1,
     "solution": false
    },
    "outputId": "7daace8a-7d45-4f20-bb1b-f4371d01ab60"
   },
   "outputs": [
    {
     "name": "stdout",
     "output_type": "stream",
     "text": [
      "19.27\n"
     ]
    }
   ],
   "source": [
    "#This is an autograded cell, do not edit\n",
    "#Remember to multiply by 100 for percentages\n",
    "print(round(q7(df),2))\n"
   ]
  },
  {
   "cell_type": "markdown",
   "metadata": {
    "colab_type": "text",
    "deletable": false,
    "editable": false,
    "id": "zKe8LJJLItQC",
    "nbgrader": {
     "checksum": "f7ca49268591f6d357d5e4d4be17e3c9",
     "grade": false,
     "grade_id": "cell-8b434399df89705e",
     "locked": true,
     "schema_version": 1,
     "solution": false
    }
   },
   "source": [
    "**Q8: On average, what percentage of a reviewer's votes are funny votes?**\n",
    "\n",
    "(hint1: calculate the percentage of funny votes for each reviewer, then average across reviewers)\n",
    "\n",
    "(hint2: you should discard reviewers who have zero total votes from your calculation)"
   ]
  },
  {
   "cell_type": "code",
   "execution_count": 43,
   "metadata": {
    "colab": {},
    "colab_type": "code",
    "deletable": false,
    "id": "DkXVxKdXItQC",
    "nbgrader": {
     "checksum": "b869bd5447e8ea81d0af3cae06012b94",
     "grade": false,
     "grade_id": "cell-a3dc739b16a53957",
     "locked": false,
     "schema_version": 1,
     "solution": true
    }
   },
   "outputs": [],
   "source": [
    "#Make sure you return the answer in this function\n",
    "#Remember to multiply by 100 for percentages\n",
    "def q8(df):\n",
    "    \n",
    "    have_votes = df.query('useful_votes>0 or cool_votes>0 or funny_votes>0')\n",
    "    votes = have_votes.groupby('user_id').sum()\n",
    "    funny_percent = np.array(votes['funny_votes'])*100 / np.array((votes.iloc[:,-3:]).sum(axis=1))\n",
    "    return funny_percent.mean()\n",
    "\n",
    "    raise NotImplementedError()"
   ]
  },
  {
   "cell_type": "code",
   "execution_count": 44,
   "metadata": {
    "colab": {
     "base_uri": "https://localhost:8080/",
     "height": 34
    },
    "colab_type": "code",
    "deletable": false,
    "editable": false,
    "id": "q6uEzM9HItQE",
    "nbgrader": {
     "checksum": "2ef3655caaaedc3e433262c7db94fb77",
     "grade": true,
     "grade_id": "cell-e7fdee0fd548baf1",
     "locked": true,
     "points": 0.5,
     "schema_version": 1,
     "solution": false
    },
    "outputId": "6e440b70-2fe1-4618-defc-e8f100abd491"
   },
   "outputs": [
    {
     "name": "stdout",
     "output_type": "stream",
     "text": [
      "18.26\n"
     ]
    }
   ],
   "source": [
    "#This is an autograded cell, do not edit\n",
    "print(round(q8(df),2))\n"
   ]
  },
  {
   "cell_type": "markdown",
   "metadata": {
    "colab_type": "text",
    "deletable": false,
    "editable": false,
    "id": "wYs2eqhSItQI",
    "nbgrader": {
     "checksum": "3ce1c8eefc6053b8515dc4218c5a0afb",
     "grade": false,
     "grade_id": "cell-40cd96c922286117",
     "locked": true,
     "schema_version": 1,
     "solution": false
    }
   },
   "source": [
    "**Q9: On average, what percentage of a reviewer's votes are useful votes?**\n",
    "\n",
    "(hint1: calculate the percentage of useful votes for each reviewer, then average across reviewers)\n",
    "\n",
    "(hint2: you should discard reviewers who have zero total votes from your calculation)"
   ]
  },
  {
   "cell_type": "code",
   "execution_count": 45,
   "metadata": {
    "colab": {},
    "colab_type": "code",
    "deletable": false,
    "id": "56CBDjgrItQI",
    "nbgrader": {
     "checksum": "c8e322eafbf209672785a2c9f7c97f52",
     "grade": false,
     "grade_id": "cell-38769f4cbbe9cb8f",
     "locked": false,
     "schema_version": 1,
     "solution": true
    }
   },
   "outputs": [],
   "source": [
    "#Make sure you return the answer in this function\n",
    "def q9(df):\n",
    "    \n",
    "    have_votes = df.query('useful_votes>0 or cool_votes>0 or funny_votes>0')\n",
    "    votes = have_votes.groupby('user_id').sum()\n",
    "    useful_percent = np.array(votes['useful_votes'])*100 / np.array((votes.iloc[:,-3:]).sum(axis=1))\n",
    "    return useful_percent.mean()\n",
    "\n",
    "    raise NotImplementedError()"
   ]
  },
  {
   "cell_type": "code",
   "execution_count": 46,
   "metadata": {
    "colab": {
     "base_uri": "https://localhost:8080/",
     "height": 34
    },
    "colab_type": "code",
    "deletable": false,
    "editable": false,
    "id": "LvE8ZWSOItQL",
    "nbgrader": {
     "checksum": "d3aeca2366b4c12d564167261c6bc6a2",
     "grade": true,
     "grade_id": "cell-590fb1425068cc06",
     "locked": true,
     "points": 0.5,
     "schema_version": 1,
     "solution": false
    },
    "outputId": "f572573c-549e-4ee8-f06f-103d7352c011"
   },
   "outputs": [
    {
     "name": "stdout",
     "output_type": "stream",
     "text": [
      "62.47\n"
     ]
    }
   ],
   "source": [
    "#This is an autograded cell, do not edit\n",
    "print(round(q9(df),2))\n"
   ]
  },
  {
   "cell_type": "markdown",
   "metadata": {
    "colab_type": "text",
    "deletable": false,
    "editable": false,
    "id": "2ixankjPItQO",
    "nbgrader": {
     "checksum": "2efdbde3ea13f0e1829d7488da2c6d92",
     "grade": false,
     "grade_id": "cell-615a3d7b2c4e0e26",
     "locked": true,
     "schema_version": 1,
     "solution": false
    }
   },
   "source": [
    "**Q10: Average review text length (in non-space characters)**"
   ]
  },
  {
   "cell_type": "code",
   "execution_count": 59,
   "metadata": {
    "colab": {},
    "colab_type": "code",
    "deletable": false,
    "id": "qgwHiHaVItQP",
    "nbgrader": {
     "checksum": "59cc81340d9a1967bd6d3a0ffcacdcf3",
     "grade": false,
     "grade_id": "cell-75ec15303c64c506",
     "locked": false,
     "schema_version": 1,
     "solution": true
    }
   },
   "outputs": [],
   "source": [
    "#Make sure you return the answer in this function\n",
    "def q10(df):\n",
    "    \n",
    "    text = df['text'].str.replace(' ', '')\n",
    "    text_len = text.apply(len)\n",
    "    return text_len.mean()\n",
    "\n",
    "    raise NotImplementedError()"
   ]
  },
  {
   "cell_type": "code",
   "execution_count": 60,
   "metadata": {
    "colab": {
     "base_uri": "https://localhost:8080/",
     "height": 34
    },
    "colab_type": "code",
    "deletable": false,
    "editable": false,
    "id": "_XmxRXdFItQQ",
    "nbgrader": {
     "checksum": "083e5ff6b77629d8784b8f6a30352251",
     "grade": true,
     "grade_id": "cell-d9fb4fc39a0b21c4",
     "locked": true,
     "points": 1,
     "schema_version": 1,
     "solution": false
    },
    "outputId": "95752027-4fcb-45c9-96b5-a3a50ef44c67"
   },
   "outputs": [
    {
     "name": "stdout",
     "output_type": "stream",
     "text": [
      "499.0\n"
     ]
    }
   ],
   "source": [
    "#This is an autograded cell, do not edit\n",
    "print(round(q10(df),0))\n"
   ]
  },
  {
   "cell_type": "markdown",
   "metadata": {
    "colab_type": "text",
    "deletable": false,
    "editable": false,
    "id": "03gWN2PAItQS",
    "nbgrader": {
     "checksum": "54c8c584ece619ea786165e50a4e1002",
     "grade": false,
     "grade_id": "cell-a21a423546eb8654",
     "locked": true,
     "schema_version": 1,
     "solution": false
    }
   },
   "source": [
    "**Q11: Year in which the reviewer wrote the most reviews. Once you have this for each reviewer, subtract the minimum possible year (2004) from each so that your final feature values are 0, 1, 2 etc.**"
   ]
  },
  {
   "cell_type": "code",
   "execution_count": 142,
   "metadata": {
    "colab": {
     "base_uri": "https://localhost:8080/",
     "height": 419
    },
    "colab_type": "code",
    "deletable": false,
    "id": "XideHYGkItQT",
    "nbgrader": {
     "checksum": "d6d5ba528ca188b45b1e36e5385caab0",
     "grade": true,
     "grade_id": "cell-5c7a809865483dca",
     "locked": false,
     "points": 1.5,
     "schema_version": 1,
     "solution": true
    },
    "outputId": "fa89824a-9475-4ebd-cac9-d1cf6613b214"
   },
   "outputs": [
    {
     "data": {
      "text/html": [
       "<div>\n",
       "<style scoped>\n",
       "    .dataframe tbody tr th:only-of-type {\n",
       "        vertical-align: middle;\n",
       "    }\n",
       "\n",
       "    .dataframe tbody tr th {\n",
       "        vertical-align: top;\n",
       "    }\n",
       "\n",
       "    .dataframe thead th {\n",
       "        text-align: right;\n",
       "    }\n",
       "</style>\n",
       "<table border=\"1\" class=\"dataframe\">\n",
       "  <thead>\n",
       "    <tr style=\"text-align: right;\">\n",
       "      <th></th>\n",
       "      <th>user_id</th>\n",
       "      <th>year</th>\n",
       "      <th>most_year_count</th>\n",
       "    </tr>\n",
       "  </thead>\n",
       "  <tbody>\n",
       "    <tr>\n",
       "      <th>0</th>\n",
       "      <td>QYS29txRosYV2mGu68Cnhg</td>\n",
       "      <td>6</td>\n",
       "      <td>347</td>\n",
       "    </tr>\n",
       "    <tr>\n",
       "      <th>1</th>\n",
       "      <td>dhVuDuzCimescgn83tWQOA</td>\n",
       "      <td>8</td>\n",
       "      <td>114</td>\n",
       "    </tr>\n",
       "    <tr>\n",
       "      <th>2</th>\n",
       "      <td>86EnhYP1N8VFmHyON_TcJA</td>\n",
       "      <td>11</td>\n",
       "      <td>96</td>\n",
       "    </tr>\n",
       "    <tr>\n",
       "      <th>3</th>\n",
       "      <td>YlpzPPySUxJsUJHRyRde8A</td>\n",
       "      <td>7</td>\n",
       "      <td>86</td>\n",
       "    </tr>\n",
       "    <tr>\n",
       "      <th>4</th>\n",
       "      <td>88OFCnILjT5vi2DhWX6rew</td>\n",
       "      <td>12</td>\n",
       "      <td>76</td>\n",
       "    </tr>\n",
       "    <tr>\n",
       "      <th>...</th>\n",
       "      <td>...</td>\n",
       "      <td>...</td>\n",
       "      <td>...</td>\n",
       "    </tr>\n",
       "    <tr>\n",
       "      <th>171634</th>\n",
       "      <td>ZCsKJnLPJ0y-xK898jU4VQ</td>\n",
       "      <td>7</td>\n",
       "      <td>1</td>\n",
       "    </tr>\n",
       "    <tr>\n",
       "      <th>171635</th>\n",
       "      <td>ZCs-OqMzbTMdcrlJptjUsA</td>\n",
       "      <td>7</td>\n",
       "      <td>1</td>\n",
       "    </tr>\n",
       "    <tr>\n",
       "      <th>171636</th>\n",
       "      <td>ZCqTmubdt3tfTYEHlmd1iQ</td>\n",
       "      <td>8</td>\n",
       "      <td>1</td>\n",
       "    </tr>\n",
       "    <tr>\n",
       "      <th>171637</th>\n",
       "      <td>ZCq2MnN-WPtPUtAK4pFnlg</td>\n",
       "      <td>7</td>\n",
       "      <td>1</td>\n",
       "    </tr>\n",
       "    <tr>\n",
       "      <th>171638</th>\n",
       "      <td>--1Y03CEKR3WDbBjYnsW7A</td>\n",
       "      <td>7</td>\n",
       "      <td>1</td>\n",
       "    </tr>\n",
       "  </tbody>\n",
       "</table>\n",
       "<p>171639 rows × 3 columns</p>\n",
       "</div>"
      ],
      "text/plain": [
       "                       user_id  year  most_year_count\n",
       "0       QYS29txRosYV2mGu68Cnhg     6              347\n",
       "1       dhVuDuzCimescgn83tWQOA     8              114\n",
       "2       86EnhYP1N8VFmHyON_TcJA    11               96\n",
       "3       YlpzPPySUxJsUJHRyRde8A     7               86\n",
       "4       88OFCnILjT5vi2DhWX6rew    12               76\n",
       "...                        ...   ...              ...\n",
       "171634  ZCsKJnLPJ0y-xK898jU4VQ     7                1\n",
       "171635  ZCs-OqMzbTMdcrlJptjUsA     7                1\n",
       "171636  ZCqTmubdt3tfTYEHlmd1iQ     8                1\n",
       "171637  ZCq2MnN-WPtPUtAK4pFnlg     7                1\n",
       "171638  --1Y03CEKR3WDbBjYnsW7A     7                1\n",
       "\n",
       "[171639 rows x 3 columns]"
      ]
     },
     "metadata": {
      "tags": []
     },
     "output_type": "display_data"
    }
   ],
   "source": [
    "df['year'] = pd.DatetimeIndex(df['date']).year # add new column for year\n",
    "users_year = df.groupby(['user_id'])['year'].value_counts().sort_values(ascending=False, inplace=False) # group by reviewer and sort counts of years descendingly\n",
    "df2 = users_year.groupby('user_id').head(1).rename('most_year_count').reset_index() # find the year of most counts per reviewer, reset index and save to new dataframe\n",
    "df2['year'] = df2['year'].subtract(2004) # subtract the minimum possible year\n",
    "display(df2)\n",
    "\n",
    "# raise NotImplementedError()"
   ]
  },
  {
   "cell_type": "markdown",
   "metadata": {
    "colab_type": "text",
    "deletable": false,
    "editable": false,
    "id": "waqvrQeDItQV",
    "nbgrader": {
     "checksum": "93f7e9ef2385bdac5184802eb7e1ce75",
     "grade": false,
     "grade_id": "cell-da33d981591f0ff3",
     "locked": true,
     "schema_version": 1,
     "solution": false
    }
   },
   "source": [
    "**Q12: Come up with a new feature for every review. This may be derived from existing features.\n",
    "Give your feature the name *my_new_feature.* Display head() of this new feature.**"
   ]
  },
  {
   "cell_type": "code",
   "execution_count": 149,
   "metadata": {
    "colab": {
     "base_uri": "https://localhost:8080/",
     "height": 119
    },
    "colab_type": "code",
    "deletable": false,
    "id": "j3TZ3TD2ItQW",
    "nbgrader": {
     "checksum": "787d48b01fdbfeab0810cceb64c1abb3",
     "grade": true,
     "grade_id": "cell-09bbdc6a2946b441",
     "locked": false,
     "points": 1,
     "schema_version": 1,
     "solution": true
    },
    "outputId": "ec14ebf1-d618-4f76-9340-4abee0312b7b"
   },
   "outputs": [
    {
     "data": {
      "text/plain": [
       "0    summer\n",
       "1    summer\n",
       "2    summer\n",
       "3    summer\n",
       "4    summer\n",
       "Name: my_new_feature, dtype: object"
      ]
     },
     "execution_count": 149,
     "metadata": {
      "tags": []
     },
     "output_type": "execute_result"
    }
   ],
   "source": [
    "# add a new feature for season of the reviews which can be used for seasonality analysis\n",
    "def month_to_season(month):\n",
    "  if month in [2,3,4]:\n",
    "    return 'spring'\n",
    "  elif month in [5,6,7]:\n",
    "    return 'summer'\n",
    "  elif month in [8,9,10]:\n",
    "    return 'fall'\n",
    "  elif month in [11,12,1]:\n",
    "    return 'winter'\n",
    "  else:\n",
    "    raise ValueError\n",
    "\n",
    "df['month'] = pd.DatetimeIndex(df['date']).month\n",
    "df['my_new_feature'] = df['month'].apply(month_to_season)\n",
    "df['my_new_feature'].head()\n",
    "\n",
    "# raise NotImplementedError()"
   ]
  },
  {
   "cell_type": "code",
   "execution_count": null,
   "metadata": {
    "colab": {},
    "colab_type": "code",
    "id": "UIvEsK_zzaqN"
   },
   "outputs": [],
   "source": []
  }
 ],
 "metadata": {
  "colab": {
   "collapsed_sections": [],
   "name": "QIU_YIN_Lab 1",
   "provenance": []
  },
  "kernelspec": {
   "display_name": "Python 3",
   "language": "python",
   "name": "python3"
  },
  "language_info": {
   "codemirror_mode": {
    "name": "ipython",
    "version": 3
   },
   "file_extension": ".py",
   "mimetype": "text/x-python",
   "name": "python",
   "nbconvert_exporter": "python",
   "pygments_lexer": "ipython3",
   "version": "3.7.6"
  }
 },
 "nbformat": 4,
 "nbformat_minor": 1
}
